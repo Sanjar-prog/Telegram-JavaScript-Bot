{
  "cells": [
    {
      "cell_type": "markdown",
      "metadata": {
        "id": "view-in-github",
        "colab_type": "text"
      },
      "source": [
        "<a href=\"https://colab.research.google.com/github/Sanjar-prog/Telegram-JavaScript-Bot/blob/main/_0_numpy_intro.ipynb\" target=\"_parent\"><img src=\"https://colab.research.google.com/assets/colab-badge.svg\" alt=\"Open In Colab\"/></a>"
      ]
    },
    {
      "cell_type": "markdown",
      "metadata": {
        "id": "-N5P-xCWvk3V"
      },
      "source": [
        "![Imgur](https://i.imgur.com/5pXzCIu.png)"
      ]
    },
    {
      "cell_type": "markdown",
      "metadata": {
        "id": "HBvyt9sFvpiv"
      },
      "source": [
        "# Data Science va Sun'iy Intellekt Praktikum\n",
        "\n",
        "## Ma'lumotlar tahlili. (NumPy kutubxonasi)"
      ]
    },
    {
      "cell_type": "markdown",
      "metadata": {
        "id": "hrKdSszlvt-I"
      },
      "source": [
        "### NumPy kutubxonasini chaqirib olish"
      ]
    },
    {
      "cell_type": "code",
      "execution_count": null,
      "metadata": {
        "id": "DgrHlI8b-qIf"
      },
      "outputs": [],
      "source": [
        "import numpy as np"
      ]
    },
    {
      "cell_type": "markdown",
      "metadata": {
        "id": "6-8b-nUuv_d0"
      },
      "source": [
        "### Python list bilan NumPy kutubxonasidagi massivlar (arraylar) hisoblashlari orasidagi farqni ko'ramiz."
      ]
    },
    {
      "cell_type": "code",
      "execution_count": null,
      "metadata": {
        "id": "s6H6y89X3JC1"
      },
      "outputs": [],
      "source": [
        "my_list = list(range(100000)) # python list 0~99999 -->Normal\n",
        "my_array = np.array(range(100000)) # numpy array(massiv) 0~99999 --> Vektorlashgan"
      ]
    },
    {
      "cell_type": "code",
      "execution_count": null,
      "metadata": {
        "colab": {
          "base_uri": "https://localhost:8080/"
        },
        "id": "942vkLi3BXa3",
        "outputId": "21a76d8f-d47a-472d-bbde-cd73ecdd8652"
      },
      "outputs": [
        {
          "output_type": "stream",
          "name": "stdout",
          "text": [
            "CPU times: user 53 ms, sys: 13 ms, total: 66 ms\n",
            "Wall time: 65.7 ms\n"
          ]
        }
      ],
      "source": [
        "%time for _ in range(10): [x*2 for x in my_list] # Normal"
      ]
    },
    {
      "cell_type": "code",
      "execution_count": null,
      "metadata": {
        "colab": {
          "base_uri": "https://localhost:8080/"
        },
        "id": "_WjBPHE2Gy00",
        "outputId": "a20cac95-7aae-4236-ee30-bf95cc591aef"
      },
      "outputs": [
        {
          "output_type": "stream",
          "name": "stdout",
          "text": [
            "CPU times: user 816 µs, sys: 806 µs, total: 1.62 ms\n",
            "Wall time: 1.72 ms\n"
          ]
        }
      ],
      "source": [
        "%time for _ in range(10): my_array*2 # Vektorlashgan"
      ]
    },
    {
      "cell_type": "code",
      "execution_count": null,
      "metadata": {
        "colab": {
          "base_uri": "https://localhost:8080/"
        },
        "id": "jBYf5dBVHY-M",
        "outputId": "2cfb9de8-2002-44b2-bc56-90e8678319c1"
      },
      "outputs": [
        {
          "output_type": "execute_result",
          "data": {
            "text/plain": [
              "33.439490445859875"
            ]
          },
          "metadata": {},
          "execution_count": 5
        }
      ],
      "source": [
        "105/3.14"
      ]
    }
  ],
  "metadata": {
    "colab": {
      "name": "#0_numpy_intro.ipynb",
      "provenance": [],
      "include_colab_link": true
    },
    "language_info": {
      "name": "python"
    },
    "kernelspec": {
      "name": "python3",
      "display_name": "Python 3"
    }
  },
  "nbformat": 4,
  "nbformat_minor": 0
}