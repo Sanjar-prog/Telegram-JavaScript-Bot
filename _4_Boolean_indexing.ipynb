{
  "cells": [
    {
      "cell_type": "markdown",
      "metadata": {
        "id": "view-in-github",
        "colab_type": "text"
      },
      "source": [
        "<a href=\"https://colab.research.google.com/github/Sanjar-prog/Telegram-JavaScript-Bot/blob/main/_4_Boolean_indexing.ipynb\" target=\"_parent\"><img src=\"https://colab.research.google.com/assets/colab-badge.svg\" alt=\"Open In Colab\"/></a>"
      ]
    },
    {
      "cell_type": "markdown",
      "metadata": {
        "id": "zBWv0WJ39keg"
      },
      "source": [
        "![Imgur](https://i.imgur.com/5pXzCIu.png)"
      ]
    },
    {
      "cell_type": "markdown",
      "metadata": {
        "id": "ch5VyND2-JmM"
      },
      "source": [
        "# Data Science va Sun'iy Intellekt Praktikum\n",
        "\n",
        "## Ma'lumotlar tahlili.\n",
        "## 2.1. NumPy kutubxonasi bilan ishlash"
      ]
    },
    {
      "cell_type": "markdown",
      "metadata": {
        "id": "1e6-gSC4-N69"
      },
      "source": [
        "### NumPy kutubxonasini chaqirib olish"
      ]
    },
    {
      "cell_type": "code",
      "execution_count": null,
      "metadata": {
        "id": "q0DbFB6B9gcS"
      },
      "outputs": [],
      "source": [
        "import numpy as np"
      ]
    },
    {
      "cell_type": "markdown",
      "metadata": {
        "id": "XrmD_g-d-RH2"
      },
      "source": [
        "### 2.1.1. N-o'lchamli massiv (array)larga ishlov berish\n",
        "\n",
        "### Bolean Indekslash"
      ]
    },
    {
      "cell_type": "code",
      "execution_count": null,
      "metadata": {
        "colab": {
          "base_uri": "https://localhost:8080/"
        },
        "id": "Ym3lp7ip-Vi_",
        "outputId": "c719314e-9f6d-45d5-ad32-a09950b70b30"
      },
      "outputs": [
        {
          "output_type": "execute_result",
          "data": {
            "text/plain": [
              "array(['Hasan', 'Husan', 'Mirzabek', 'Elyor', 'Hasan', 'Javohir', 'Elyor'],\n",
              "      dtype='<U8')"
            ]
          },
          "metadata": {},
          "execution_count": 2
        }
      ],
      "source": [
        "# Ismlar\n",
        "names = np.array(['Hasan', 'Husan', 'Mirzabek', 'Elyor', 'Hasan', 'Javohir', 'Elyor'])\n",
        "names"
      ]
    },
    {
      "cell_type": "code",
      "execution_count": null,
      "metadata": {
        "colab": {
          "base_uri": "https://localhost:8080/"
        },
        "id": "pLDNjxVIBn3V",
        "outputId": "2fc7976b-c6ca-4d5c-a2a9-5eb19a503cc3"
      },
      "outputs": [
        {
          "output_type": "execute_result",
          "data": {
            "text/plain": [
              "array([[-0.60565792,  0.12700804, -1.8242602 , -0.43062141],\n",
              "       [-1.11942127,  0.02095617,  0.08944693,  0.57669059],\n",
              "       [ 1.01302274, -0.05636793,  0.6303634 ,  0.50107217],\n",
              "       [-0.79413743, -0.34693971, -0.4925114 ,  0.15434155],\n",
              "       [ 0.28367161, -0.52350378,  0.74771351, -0.17766276],\n",
              "       [ 0.23642099, -0.12426613, -1.50864909,  0.73220788],\n",
              "       [ 0.11029104, -1.58123987, -1.03360244, -0.48300329]])"
            ]
          },
          "metadata": {},
          "execution_count": 3
        }
      ],
      "source": [
        "# data\n",
        "data = np.random.randn(7, 4)\n",
        "data"
      ]
    },
    {
      "cell_type": "code",
      "execution_count": null,
      "metadata": {
        "colab": {
          "base_uri": "https://localhost:8080/"
        },
        "id": "a53hDtpkCWyx",
        "outputId": "d2575f7f-34b3-48bb-ba6b-5aa977dc5f32"
      },
      "outputs": [
        {
          "output_type": "execute_result",
          "data": {
            "text/plain": [
              "array([ True, False, False, False,  True, False, False])"
            ]
          },
          "metadata": {},
          "execution_count": 4
        }
      ],
      "source": [
        "names == 'Hasan'"
      ]
    },
    {
      "cell_type": "code",
      "execution_count": null,
      "metadata": {
        "colab": {
          "base_uri": "https://localhost:8080/"
        },
        "id": "ThCOh66WEVYP",
        "outputId": "0d3e2622-5e24-4cde-80fa-422b44c4ee62"
      },
      "outputs": [
        {
          "output_type": "execute_result",
          "data": {
            "text/plain": [
              "array([[-0.60565792,  0.12700804, -1.8242602 , -0.43062141],\n",
              "       [ 0.28367161, -0.52350378,  0.74771351, -0.17766276]])"
            ]
          },
          "metadata": {},
          "execution_count": 5
        }
      ],
      "source": [
        "data[names == 'Hasan'] # Hasanga tegishli barcha ma'lumotlarni ajratib olish"
      ]
    },
    {
      "cell_type": "code",
      "execution_count": null,
      "metadata": {
        "colab": {
          "base_uri": "https://localhost:8080/"
        },
        "id": "ljoMKFUkEzmz",
        "outputId": "a8d31ddf-08a1-40ea-cfe7-1c62e923f537"
      },
      "outputs": [
        {
          "output_type": "execute_result",
          "data": {
            "text/plain": [
              "array([[-0.79413743, -0.34693971, -0.4925114 ,  0.15434155],\n",
              "       [ 0.11029104, -1.58123987, -1.03360244, -0.48300329]])"
            ]
          },
          "metadata": {},
          "execution_count": 6
        }
      ],
      "source": [
        "data[names == 'Elyor'] # Elyorga tegishli barcha ma'lumotlarni ajratib olish"
      ]
    },
    {
      "cell_type": "code",
      "execution_count": null,
      "metadata": {
        "colab": {
          "base_uri": "https://localhost:8080/"
        },
        "id": "ejgUAYI7FIB8",
        "outputId": "849ae913-2c9e-4378-9844-3fffbe5cc4c8"
      },
      "outputs": [
        {
          "output_type": "execute_result",
          "data": {
            "text/plain": [
              "array([[-1.8242602 , -0.43062141],\n",
              "       [ 0.74771351, -0.17766276]])"
            ]
          },
          "metadata": {},
          "execution_count": 7
        }
      ],
      "source": [
        "data[names=='Hasan', 2:] # Hasanga tegishli oxirgi ikkita ustundagi ma'lumotlarni ajratib olish"
      ]
    },
    {
      "cell_type": "code",
      "execution_count": null,
      "metadata": {
        "colab": {
          "base_uri": "https://localhost:8080/"
        },
        "id": "RUfmICrEFvck",
        "outputId": "4eed1c2a-dd40-4cd4-e4ca-018828c422a2"
      },
      "outputs": [
        {
          "output_type": "execute_result",
          "data": {
            "text/plain": [
              "array([[-1.11942127,  0.02095617,  0.08944693,  0.57669059],\n",
              "       [ 1.01302274, -0.05636793,  0.6303634 ,  0.50107217],\n",
              "       [-0.79413743, -0.34693971, -0.4925114 ,  0.15434155],\n",
              "       [ 0.23642099, -0.12426613, -1.50864909,  0.73220788],\n",
              "       [ 0.11029104, -1.58123987, -1.03360244, -0.48300329]])"
            ]
          },
          "metadata": {},
          "execution_count": 8
        }
      ],
      "source": [
        "data[names != 'Hasan'] # (!=)Hasandan tashqari barcha insonlarning ma'lumotlarni ajratib olish"
      ]
    },
    {
      "cell_type": "code",
      "execution_count": null,
      "metadata": {
        "colab": {
          "base_uri": "https://localhost:8080/"
        },
        "id": "rrZ4B2tIGYxX",
        "outputId": "8e57cd94-d1a7-4cf5-fb47-3b51914db77b"
      },
      "outputs": [
        {
          "output_type": "execute_result",
          "data": {
            "text/plain": [
              "array([[-1.11942127,  0.02095617,  0.08944693,  0.57669059],\n",
              "       [ 1.01302274, -0.05636793,  0.6303634 ,  0.50107217],\n",
              "       [-0.79413743, -0.34693971, -0.4925114 ,  0.15434155],\n",
              "       [ 0.23642099, -0.12426613, -1.50864909,  0.73220788],\n",
              "       [ 0.11029104, -1.58123987, -1.03360244, -0.48300329]])"
            ]
          },
          "metadata": {},
          "execution_count": 9
        }
      ],
      "source": [
        "data[~(names == 'Hasan')] # (~) yuqoridagi cell bilan bir xil natijani berar ekan"
      ]
    },
    {
      "cell_type": "code",
      "execution_count": null,
      "metadata": {
        "colab": {
          "base_uri": "https://localhost:8080/"
        },
        "id": "91DS5gweLKk5",
        "outputId": "23da72a1-6602-4120-a456-8d87f7dde8b2"
      },
      "outputs": [
        {
          "output_type": "stream",
          "name": "stdout",
          "text": [
            "['Hasan' 'Husan' 'Mirzabek' 'Elyor' 'Hasan' 'Javohir' 'Elyor']\n",
            "[[-0.60565792  0.12700804 -1.8242602  -0.43062141]\n",
            " [-1.11942127  0.02095617  0.08944693  0.57669059]\n",
            " [ 1.01302274 -0.05636793  0.6303634   0.50107217]\n",
            " [-0.79413743 -0.34693971 -0.4925114   0.15434155]\n",
            " [ 0.28367161 -0.52350378  0.74771351 -0.17766276]\n",
            " [ 0.23642099 -0.12426613 -1.50864909  0.73220788]\n",
            " [ 0.11029104 -1.58123987 -1.03360244 -0.48300329]]\n"
          ]
        }
      ],
      "source": [
        "print(names)\n",
        "print(data)"
      ]
    },
    {
      "cell_type": "code",
      "execution_count": null,
      "metadata": {
        "colab": {
          "base_uri": "https://localhost:8080/"
        },
        "id": "fNQCoGQsLSQZ",
        "outputId": "7a2662a7-ece0-4465-dc14-9e9362370984"
      },
      "outputs": [
        {
          "output_type": "execute_result",
          "data": {
            "text/plain": [
              "array([ True,  True, False, False,  True, False, False])"
            ]
          },
          "metadata": {},
          "execution_count": 11
        }
      ],
      "source": [
        "mask = (names == 'Hasan') | (names == 'Husan') # \"|\" or (yoki)\n",
        "mask"
      ]
    },
    {
      "cell_type": "code",
      "execution_count": null,
      "metadata": {
        "colab": {
          "base_uri": "https://localhost:8080/"
        },
        "id": "Z0WL8bRnL7p5",
        "outputId": "8b8ac3f6-7048-4d44-caa2-45b07bf9e92f"
      },
      "outputs": [
        {
          "output_type": "execute_result",
          "data": {
            "text/plain": [
              "array([[-0.60565792,  0.12700804, -1.8242602 , -0.43062141],\n",
              "       [-1.11942127,  0.02095617,  0.08944693,  0.57669059],\n",
              "       [ 0.28367161, -0.52350378,  0.74771351, -0.17766276]])"
            ]
          },
          "metadata": {},
          "execution_count": 12
        }
      ],
      "source": [
        "data[mask] # Hasan va Husanlarga tegishli ma'lumotlarni ajratib olish"
      ]
    },
    {
      "cell_type": "code",
      "execution_count": null,
      "metadata": {
        "colab": {
          "base_uri": "https://localhost:8080/"
        },
        "id": "0e3_RkL_MKFd",
        "outputId": "3493c36a-99b2-4157-bea9-0ba03f56d931"
      },
      "outputs": [
        {
          "output_type": "execute_result",
          "data": {
            "text/plain": [
              "array([[-0.60565792,  0.12700804, -1.8242602 , -0.43062141],\n",
              "       [-1.11942127,  0.02095617,  0.08944693,  0.57669059],\n",
              "       [ 1.01302274, -0.05636793,  0.6303634 ,  0.50107217],\n",
              "       [-0.79413743, -0.34693971, -0.4925114 ,  0.15434155],\n",
              "       [ 0.28367161, -0.52350378,  0.74771351, -0.17766276],\n",
              "       [ 0.23642099, -0.12426613, -1.50864909,  0.73220788],\n",
              "       [ 0.11029104, -1.58123987, -1.03360244, -0.48300329]])"
            ]
          },
          "metadata": {},
          "execution_count": 13
        }
      ],
      "source": [
        "data"
      ]
    },
    {
      "cell_type": "code",
      "execution_count": null,
      "metadata": {
        "colab": {
          "base_uri": "https://localhost:8080/"
        },
        "id": "A90xfXpMM7fK",
        "outputId": "5b64bed1-952d-4baa-95a5-382ab0d6932b"
      },
      "outputs": [
        {
          "output_type": "execute_result",
          "data": {
            "text/plain": [
              "array([[0.        , 0.12700804, 0.        , 0.        ],\n",
              "       [0.        , 0.02095617, 0.08944693, 0.57669059],\n",
              "       [1.01302274, 0.        , 0.6303634 , 0.50107217],\n",
              "       [0.        , 0.        , 0.        , 0.15434155],\n",
              "       [0.28367161, 0.        , 0.74771351, 0.        ],\n",
              "       [0.23642099, 0.        , 0.        , 0.73220788],\n",
              "       [0.11029104, 0.        , 0.        , 0.        ]])"
            ]
          },
          "metadata": {},
          "execution_count": 14
        }
      ],
      "source": [
        "data[data<0] = 0\n",
        "data"
      ]
    }
  ],
  "metadata": {
    "colab": {
      "name": "#4_Boolean_indexing.ipynb",
      "provenance": [],
      "include_colab_link": true
    },
    "language_info": {
      "name": "python"
    },
    "kernelspec": {
      "name": "python3",
      "display_name": "Python 3"
    }
  },
  "nbformat": 4,
  "nbformat_minor": 0
}