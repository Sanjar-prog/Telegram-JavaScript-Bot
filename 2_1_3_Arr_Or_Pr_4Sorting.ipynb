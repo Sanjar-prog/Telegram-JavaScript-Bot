{
  "cells": [
    {
      "cell_type": "markdown",
      "metadata": {
        "id": "view-in-github",
        "colab_type": "text"
      },
      "source": [
        "<a href=\"https://colab.research.google.com/github/Sanjar-prog/Telegram-JavaScript-Bot/blob/main/2_1_3_Arr_Or_Pr_4Sorting.ipynb\" target=\"_parent\"><img src=\"https://colab.research.google.com/assets/colab-badge.svg\" alt=\"Open In Colab\"/></a>"
      ]
    },
    {
      "cell_type": "markdown",
      "metadata": {
        "id": "NpBfYISf4O0t"
      },
      "source": [
        "![Imgur](https://i.imgur.com/5pXzCIu.png)"
      ]
    },
    {
      "cell_type": "markdown",
      "metadata": {
        "id": "-5o8R3ob4WRJ"
      },
      "source": [
        "# Data Science va Sun'iy Intellekt Praktikum\n",
        "\n",
        "## Ma'lumotlar tahlili.\n",
        "## 2.1. NumPy kutubxonasi bilan ishlash"
      ]
    },
    {
      "cell_type": "markdown",
      "metadata": {
        "id": "burAbl0s4Z5l"
      },
      "source": [
        "### NumPy kutubxonasini chaqirib olish"
      ]
    },
    {
      "cell_type": "code",
      "execution_count": null,
      "metadata": {
        "id": "e271tzUC4Ang"
      },
      "outputs": [],
      "source": [
        "import numpy as np"
      ]
    },
    {
      "cell_type": "markdown",
      "metadata": {
        "id": "s-Mrj5DB4d-Y"
      },
      "source": [
        "### 2.1.3. Massivga yo'naltirilgan dasturlash"
      ]
    },
    {
      "cell_type": "markdown",
      "metadata": {
        "id": "Pk_PEYLm4h-C"
      },
      "source": [
        "### Tartiblash (`Sorting`)"
      ]
    },
    {
      "cell_type": "code",
      "execution_count": null,
      "metadata": {
        "colab": {
          "base_uri": "https://localhost:8080/"
        },
        "id": "QsHLxeYx8E-o",
        "outputId": "98a1d28c-0b04-4157-cb76-6cd89af73a11"
      },
      "outputs": [
        {
          "output_type": "execute_result",
          "data": {
            "text/plain": [
              "array([0.57109721, 0.7186782 , 0.28176962, 0.85192266])"
            ]
          },
          "metadata": {},
          "execution_count": 2
        }
      ],
      "source": [
        "# data\n",
        "arr = np.random.rand(4) # 4 ta taxminiy elementlardan tashkil topgan massiv\n",
        "arr"
      ]
    },
    {
      "cell_type": "markdown",
      "metadata": {
        "id": "bUSPOp-u-adC"
      },
      "source": [
        "### `sort` funkiyasi"
      ]
    },
    {
      "cell_type": "code",
      "execution_count": null,
      "metadata": {
        "colab": {
          "base_uri": "https://localhost:8080/"
        },
        "id": "Zfn2XUfV95B4",
        "outputId": "b2c7c144-b00c-4afc-c085-ae397db511d4"
      },
      "outputs": [
        {
          "output_type": "execute_result",
          "data": {
            "text/plain": [
              "array([0.28176962, 0.57109721, 0.7186782 , 0.85192266])"
            ]
          },
          "metadata": {},
          "execution_count": 3
        }
      ],
      "source": [
        "# 1 usul\n",
        "sorted_arr = np.sort(arr) # arr massivini tartiblangan ko'rinishini sorted_arr joylaydi\n",
        "sorted_arr"
      ]
    },
    {
      "cell_type": "code",
      "execution_count": null,
      "metadata": {
        "colab": {
          "base_uri": "https://localhost:8080/"
        },
        "id": "U4pElKNTBqMH",
        "outputId": "68e0e89e-79ee-4819-e988-751c8bd11ac9"
      },
      "outputs": [
        {
          "output_type": "execute_result",
          "data": {
            "text/plain": [
              "array([0.28176962, 0.57109721, 0.7186782 , 0.85192266])"
            ]
          },
          "metadata": {},
          "execution_count": 4
        }
      ],
      "source": [
        "#  2 usul\n",
        "arr.sort() # arr ning tartiblangan ko'rinishi\n",
        "arr"
      ]
    },
    {
      "cell_type": "code",
      "execution_count": null,
      "metadata": {
        "colab": {
          "base_uri": "https://localhost:8080/"
        },
        "id": "Wgick8kJCm65",
        "outputId": "b3182cbd-9ba4-45a4-9159-254921166a43"
      },
      "outputs": [
        {
          "output_type": "execute_result",
          "data": {
            "text/plain": [
              "array([0.85192266, 0.7186782 , 0.57109721, 0.28176962])"
            ]
          },
          "metadata": {},
          "execution_count": 5
        }
      ],
      "source": [
        "# teskari tartiblash\n",
        "rev_arr = -np.sort(-arr) # teskari tartibdagi arr\n",
        "rev_arr"
      ]
    },
    {
      "cell_type": "code",
      "execution_count": null,
      "metadata": {
        "colab": {
          "base_uri": "https://localhost:8080/"
        },
        "id": "SFHq4QFgEIWd",
        "outputId": "afcbb0b9-0282-4f83-f5d3-af0bed29d437"
      },
      "outputs": [
        {
          "output_type": "execute_result",
          "data": {
            "text/plain": [
              "array([[0.23705814, 0.68765009, 0.02927274, 1.4104502 ],\n",
              "       [0.70326876, 1.70741497, 1.53087128, 0.17829521]])"
            ]
          },
          "metadata": {},
          "execution_count": 6
        }
      ],
      "source": [
        "# 2 D array (massiv)\n",
        "arr2d = np.random.randn(2, 4) # (2, 4) random massiv\n",
        "arr2d"
      ]
    },
    {
      "cell_type": "code",
      "execution_count": null,
      "metadata": {
        "colab": {
          "base_uri": "https://localhost:8080/"
        },
        "id": "E3KFUAUCHeoM",
        "outputId": "84047ef6-719d-4d28-8326-7b4b80e8d45e"
      },
      "outputs": [
        {
          "output_type": "execute_result",
          "data": {
            "text/plain": [
              "array([[0.23705814, 0.68765009, 0.02927274, 0.17829521],\n",
              "       [0.70326876, 1.70741497, 1.53087128, 1.4104502 ]])"
            ]
          },
          "metadata": {},
          "execution_count": 7
        }
      ],
      "source": [
        "# axis = 0 --> Qator\n",
        "row_srt = np.sort(arr2d, axis=0) # arr2d ning xar bir qator bo'yicha tartiblangan ko'rinishi\n",
        "row_srt"
      ]
    },
    {
      "cell_type": "code",
      "execution_count": null,
      "metadata": {
        "colab": {
          "base_uri": "https://localhost:8080/"
        },
        "id": "q_xG4ugsIueX",
        "outputId": "4428bf7a-13e9-473d-a359-19332427d413"
      },
      "outputs": [
        {
          "output_type": "execute_result",
          "data": {
            "text/plain": [
              "array([[0.02927274, 0.23705814, 0.68765009, 1.4104502 ],\n",
              "       [0.17829521, 0.70326876, 1.53087128, 1.70741497]])"
            ]
          },
          "metadata": {},
          "execution_count": 8
        }
      ],
      "source": [
        "# axis =1 --> Ustun\n",
        "col_srt =np.sort(arr2d, axis=1) # arr2d ning xar bir ustun bo'yicha tartiblangan ko'rinishi\n",
        "col_srt"
      ]
    }
  ],
  "metadata": {
    "colab": {
      "name": "2.1.3.Arr_Or_Pr#4Sorting.ipynb",
      "provenance": [],
      "include_colab_link": true
    },
    "language_info": {
      "name": "python"
    },
    "kernelspec": {
      "name": "python3",
      "display_name": "Python 3"
    }
  },
  "nbformat": 4,
  "nbformat_minor": 0
}