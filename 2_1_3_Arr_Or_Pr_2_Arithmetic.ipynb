{
  "cells": [
    {
      "cell_type": "markdown",
      "metadata": {
        "id": "view-in-github",
        "colab_type": "text"
      },
      "source": [
        "<a href=\"https://colab.research.google.com/github/Sanjar-prog/Telegram-JavaScript-Bot/blob/main/2_1_3_Arr_Or_Pr_2_Arithmetic.ipynb\" target=\"_parent\"><img src=\"https://colab.research.google.com/assets/colab-badge.svg\" alt=\"Open In Colab\"/></a>"
      ]
    },
    {
      "cell_type": "markdown",
      "metadata": {
        "id": "3gzhSRm9mlrw"
      },
      "source": [
        "![Imgur](https://i.imgur.com/5pXzCIu.png)"
      ]
    },
    {
      "cell_type": "markdown",
      "metadata": {
        "id": "zMSULer4mnbK"
      },
      "source": [
        "# Data Science va Sun'iy Intellekt Praktikum\n",
        "\n",
        "## Ma'lumotlar tahlili.\n",
        "## 2.1. NumPy kutubxonasi bilan ishlash"
      ]
    },
    {
      "cell_type": "markdown",
      "metadata": {
        "id": "KXjX9QsRmpuK"
      },
      "source": [
        "### NumPy kutubxonasini chaqirib olish"
      ]
    },
    {
      "cell_type": "code",
      "execution_count": null,
      "metadata": {
        "id": "eghqxnOTm0nI"
      },
      "outputs": [],
      "source": [
        "import numpy as np"
      ]
    },
    {
      "cell_type": "markdown",
      "metadata": {
        "id": "LwatumTrmsCz"
      },
      "source": [
        "### 2.1.3. Massivga yo'naltirilgan dasturlash"
      ]
    },
    {
      "cell_type": "markdown",
      "metadata": {
        "id": "xDFW8K97mw6e"
      },
      "source": [
        "### Arifmetik amallar"
      ]
    },
    {
      "cell_type": "markdown",
      "metadata": {
        "id": "zJnp_G-TnKPo"
      },
      "source": [
        "### Ko'paytirish, bo'lish, qo'shish, ayirish va h.k amallar"
      ]
    },
    {
      "cell_type": "code",
      "execution_count": null,
      "metadata": {
        "id": "ekPC61GrpMc-"
      },
      "outputs": [],
      "source": [
        "# data\n",
        "arr1 = np.arange(6).reshape(2, 3) # 0~6 gach bo'lgan elementlardan tashkil topgan array\n",
        "arr2 = np.arange(6, 12).reshape(2, 3) # 6 dan 11 gacha bo'lgan elementlardan tashkil topgan array"
      ]
    },
    {
      "cell_type": "code",
      "execution_count": null,
      "metadata": {
        "colab": {
          "base_uri": "https://localhost:8080/"
        },
        "id": "iJAc19eKqsC5",
        "outputId": "290289dd-b6e7-4add-d976-0f0a843374c3"
      },
      "outputs": [
        {
          "output_type": "execute_result",
          "data": {
            "text/plain": [
              "array([[0, 1, 2],\n",
              "       [3, 4, 5]])"
            ]
          },
          "metadata": {},
          "execution_count": 3
        }
      ],
      "source": [
        "arr1"
      ]
    },
    {
      "cell_type": "code",
      "execution_count": null,
      "metadata": {
        "colab": {
          "base_uri": "https://localhost:8080/"
        },
        "id": "iBvNbx0QqukB",
        "outputId": "7e616dd1-e9ad-453e-ede1-6679fcbadb7a"
      },
      "outputs": [
        {
          "output_type": "execute_result",
          "data": {
            "text/plain": [
              "array([[ 6,  7,  8],\n",
              "       [ 9, 10, 11]])"
            ]
          },
          "metadata": {},
          "execution_count": 4
        }
      ],
      "source": [
        "arr2"
      ]
    },
    {
      "cell_type": "code",
      "execution_count": null,
      "metadata": {
        "colab": {
          "base_uri": "https://localhost:8080/"
        },
        "id": "5hODCeZAqZbj",
        "outputId": "317a035a-bceb-4d47-b4dd-856e0dade829"
      },
      "outputs": [
        {
          "output_type": "execute_result",
          "data": {
            "text/plain": [
              "array([[ 0,  7, 16],\n",
              "       [27, 40, 55]])"
            ]
          },
          "metadata": {},
          "execution_count": 5
        }
      ],
      "source": [
        "# Ko'paytirish\n",
        "arr1 * arr2 # arr1 ning elementlarini arr2 ning mos elementlariga ko'paytirib beradi"
      ]
    },
    {
      "cell_type": "code",
      "execution_count": null,
      "metadata": {
        "colab": {
          "base_uri": "https://localhost:8080/"
        },
        "id": "W7_EyAuIqqRm",
        "outputId": "a22814e2-65c1-416b-ed7a-58588c3654a4"
      },
      "outputs": [
        {
          "output_type": "stream",
          "name": "stderr",
          "text": [
            "<ipython-input-6-b0ffd924afb6>:2: RuntimeWarning: divide by zero encountered in divide\n",
            "  arr2/arr1 # arr1 ning elementlarini arr2 ning mos elementlariga bo'lib beradi\n"
          ]
        },
        {
          "output_type": "execute_result",
          "data": {
            "text/plain": [
              "array([[inf, 7. , 4. ],\n",
              "       [3. , 2.5, 2.2]])"
            ]
          },
          "metadata": {},
          "execution_count": 6
        }
      ],
      "source": [
        "# bo'lish\n",
        "arr2/arr1 # arr1 ning elementlarini arr2 ning mos elementlariga bo'lib beradi"
      ]
    },
    {
      "cell_type": "code",
      "execution_count": null,
      "metadata": {
        "colab": {
          "base_uri": "https://localhost:8080/"
        },
        "id": "5DgwDhI6rCTc",
        "outputId": "9208d61b-e0ba-44dc-cd3d-b5fc078a9de7"
      },
      "outputs": [
        {
          "output_type": "execute_result",
          "data": {
            "text/plain": [
              "array([[ 6,  8, 10],\n",
              "       [12, 14, 16]])"
            ]
          },
          "metadata": {},
          "execution_count": 7
        }
      ],
      "source": [
        "# qo'shish\n",
        "arr1 + arr2 # arr1 ning elementlarini arr2 ning mos elementlariga qo'shib beradi"
      ]
    },
    {
      "cell_type": "code",
      "execution_count": null,
      "metadata": {
        "colab": {
          "base_uri": "https://localhost:8080/"
        },
        "id": "ePNGACPOrp7z",
        "outputId": "517796cc-ef1e-498d-a0d1-6038772e975c"
      },
      "outputs": [
        {
          "output_type": "execute_result",
          "data": {
            "text/plain": [
              "array([[6, 6, 6],\n",
              "       [6, 6, 6]])"
            ]
          },
          "metadata": {},
          "execution_count": 8
        }
      ],
      "source": [
        "# ayirish\n",
        "arr2 - arr1 # arr2 ning elementlaridan arr1 mos elementlarini ayirish"
      ]
    },
    {
      "cell_type": "code",
      "execution_count": null,
      "metadata": {
        "colab": {
          "base_uri": "https://localhost:8080/"
        },
        "id": "05VEzdb-sEQD",
        "outputId": "03d832c4-1ffa-45bc-e706-e2a247c0bcbd"
      },
      "outputs": [
        {
          "output_type": "execute_result",
          "data": {
            "text/plain": [
              "array([[ 0,  1,  4],\n",
              "       [ 9, 16, 25]])"
            ]
          },
          "metadata": {},
          "execution_count": 9
        }
      ],
      "source": [
        "# kvadratga oshirish (square)\n",
        "arr1**2"
      ]
    },
    {
      "cell_type": "code",
      "execution_count": null,
      "metadata": {
        "colab": {
          "base_uri": "https://localhost:8080/"
        },
        "id": "T5QUvVTrsfO9",
        "outputId": "252d6e12-3155-4050-91d1-dedb4b1cb098"
      },
      "outputs": [
        {
          "output_type": "execute_result",
          "data": {
            "text/plain": [
              "array([[2.44948974, 2.64575131, 2.82842712],\n",
              "       [3.        , 3.16227766, 3.31662479]])"
            ]
          },
          "metadata": {},
          "execution_count": 10
        }
      ],
      "source": [
        "# kvadrat ildizdan (sqrt)\n",
        "arr2**0.5"
      ]
    }
  ],
  "metadata": {
    "colab": {
      "name": "2.1.3.Arr_Or_Pr#2_Arithmetic.ipynb",
      "provenance": [],
      "include_colab_link": true
    },
    "language_info": {
      "name": "python"
    },
    "kernelspec": {
      "name": "python3",
      "display_name": "Python 3"
    }
  },
  "nbformat": 4,
  "nbformat_minor": 0
}