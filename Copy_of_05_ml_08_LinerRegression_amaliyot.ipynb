{
  "cells": [
    {
      "cell_type": "markdown",
      "metadata": {
        "id": "view-in-github",
        "colab_type": "text"
      },
      "source": [
        "<a href=\"https://colab.research.google.com/github/Sanjar-prog/Telegram-JavaScript-Bot/blob/main/Copy_of_05_ml_08_LinerRegression_amaliyot.ipynb\" target=\"_parent\"><img src=\"https://colab.research.google.com/assets/colab-badge.svg\" alt=\"Open In Colab\"/></a>"
      ]
    },
    {
      "cell_type": "markdown",
      "id": "7154cc0a-aa4d-43f5-b1ef-40bc4aecf369",
      "metadata": {
        "id": "7154cc0a-aa4d-43f5-b1ef-40bc4aecf369"
      },
      "source": [
        "![Imgur](https://i.imgur.com/5pXzCIu.png)\n",
        "\n",
        "# Data Science va Sun'iy Intellekt Praktikum\n",
        "\n",
        "## 5-MODUL. Machine Learning.\n",
        "\n",
        "### Linear Regression"
      ]
    },
    {
      "cell_type": "code",
      "execution_count": 1,
      "id": "84bfdab2-9d2d-450e-8490-1ab72e912abf",
      "metadata": {
        "colab": {
          "base_uri": "https://localhost:8080/",
          "height": 363
        },
        "id": "84bfdab2-9d2d-450e-8490-1ab72e912abf",
        "outputId": "08688dff-cd37-468a-9237-34850adab7d3"
      },
      "outputs": [
        {
          "output_type": "execute_result",
          "data": {
            "text/plain": [
              "        district  rooms  size  level  max_levels    price\n",
              "0   Юнусабадский      3  57.0      4           4  52000.0\n",
              "1  Яккасарайский      2  52.0      4           5  56000.0\n",
              "2   Чиланзарский      2  42.0      4           4  37000.0\n",
              "3   Чиланзарский      3  65.0      1           4  49500.0\n",
              "4   Чиланзарский      3  70.0      3           5  55000.0\n",
              "5   Чиланзарский      1  28.0      1           4  25500.0\n",
              "6   Чиланзарский      1  30.0      2           4  21200.0\n",
              "7  Яккасарайский      2  32.0      5           5  20000.0\n",
              "8    Учтепинский      2  51.0      3           4  26200.0\n",
              "9   Чиланзарский      1  30.0      1           4  22200.0"
            ],
            "text/html": [
              "\n",
              "  <div id=\"df-34bb89eb-3b31-40eb-9c04-09c2e9f265fe\" class=\"colab-df-container\">\n",
              "    <div>\n",
              "<style scoped>\n",
              "    .dataframe tbody tr th:only-of-type {\n",
              "        vertical-align: middle;\n",
              "    }\n",
              "\n",
              "    .dataframe tbody tr th {\n",
              "        vertical-align: top;\n",
              "    }\n",
              "\n",
              "    .dataframe thead th {\n",
              "        text-align: right;\n",
              "    }\n",
              "</style>\n",
              "<table border=\"1\" class=\"dataframe\">\n",
              "  <thead>\n",
              "    <tr style=\"text-align: right;\">\n",
              "      <th></th>\n",
              "      <th>district</th>\n",
              "      <th>rooms</th>\n",
              "      <th>size</th>\n",
              "      <th>level</th>\n",
              "      <th>max_levels</th>\n",
              "      <th>price</th>\n",
              "    </tr>\n",
              "  </thead>\n",
              "  <tbody>\n",
              "    <tr>\n",
              "      <th>0</th>\n",
              "      <td>Юнусабадский</td>\n",
              "      <td>3</td>\n",
              "      <td>57.0</td>\n",
              "      <td>4</td>\n",
              "      <td>4</td>\n",
              "      <td>52000.0</td>\n",
              "    </tr>\n",
              "    <tr>\n",
              "      <th>1</th>\n",
              "      <td>Яккасарайский</td>\n",
              "      <td>2</td>\n",
              "      <td>52.0</td>\n",
              "      <td>4</td>\n",
              "      <td>5</td>\n",
              "      <td>56000.0</td>\n",
              "    </tr>\n",
              "    <tr>\n",
              "      <th>2</th>\n",
              "      <td>Чиланзарский</td>\n",
              "      <td>2</td>\n",
              "      <td>42.0</td>\n",
              "      <td>4</td>\n",
              "      <td>4</td>\n",
              "      <td>37000.0</td>\n",
              "    </tr>\n",
              "    <tr>\n",
              "      <th>3</th>\n",
              "      <td>Чиланзарский</td>\n",
              "      <td>3</td>\n",
              "      <td>65.0</td>\n",
              "      <td>1</td>\n",
              "      <td>4</td>\n",
              "      <td>49500.0</td>\n",
              "    </tr>\n",
              "    <tr>\n",
              "      <th>4</th>\n",
              "      <td>Чиланзарский</td>\n",
              "      <td>3</td>\n",
              "      <td>70.0</td>\n",
              "      <td>3</td>\n",
              "      <td>5</td>\n",
              "      <td>55000.0</td>\n",
              "    </tr>\n",
              "    <tr>\n",
              "      <th>5</th>\n",
              "      <td>Чиланзарский</td>\n",
              "      <td>1</td>\n",
              "      <td>28.0</td>\n",
              "      <td>1</td>\n",
              "      <td>4</td>\n",
              "      <td>25500.0</td>\n",
              "    </tr>\n",
              "    <tr>\n",
              "      <th>6</th>\n",
              "      <td>Чиланзарский</td>\n",
              "      <td>1</td>\n",
              "      <td>30.0</td>\n",
              "      <td>2</td>\n",
              "      <td>4</td>\n",
              "      <td>21200.0</td>\n",
              "    </tr>\n",
              "    <tr>\n",
              "      <th>7</th>\n",
              "      <td>Яккасарайский</td>\n",
              "      <td>2</td>\n",
              "      <td>32.0</td>\n",
              "      <td>5</td>\n",
              "      <td>5</td>\n",
              "      <td>20000.0</td>\n",
              "    </tr>\n",
              "    <tr>\n",
              "      <th>8</th>\n",
              "      <td>Учтепинский</td>\n",
              "      <td>2</td>\n",
              "      <td>51.0</td>\n",
              "      <td>3</td>\n",
              "      <td>4</td>\n",
              "      <td>26200.0</td>\n",
              "    </tr>\n",
              "    <tr>\n",
              "      <th>9</th>\n",
              "      <td>Чиланзарский</td>\n",
              "      <td>1</td>\n",
              "      <td>30.0</td>\n",
              "      <td>1</td>\n",
              "      <td>4</td>\n",
              "      <td>22200.0</td>\n",
              "    </tr>\n",
              "  </tbody>\n",
              "</table>\n",
              "</div>\n",
              "    <div class=\"colab-df-buttons\">\n",
              "\n",
              "  <div class=\"colab-df-container\">\n",
              "    <button class=\"colab-df-convert\" onclick=\"convertToInteractive('df-34bb89eb-3b31-40eb-9c04-09c2e9f265fe')\"\n",
              "            title=\"Convert this dataframe to an interactive table.\"\n",
              "            style=\"display:none;\">\n",
              "\n",
              "  <svg xmlns=\"http://www.w3.org/2000/svg\" height=\"24px\" viewBox=\"0 -960 960 960\">\n",
              "    <path d=\"M120-120v-720h720v720H120Zm60-500h600v-160H180v160Zm220 220h160v-160H400v160Zm0 220h160v-160H400v160ZM180-400h160v-160H180v160Zm440 0h160v-160H620v160ZM180-180h160v-160H180v160Zm440 0h160v-160H620v160Z\"/>\n",
              "  </svg>\n",
              "    </button>\n",
              "\n",
              "  <style>\n",
              "    .colab-df-container {\n",
              "      display:flex;\n",
              "      gap: 12px;\n",
              "    }\n",
              "\n",
              "    .colab-df-convert {\n",
              "      background-color: #E8F0FE;\n",
              "      border: none;\n",
              "      border-radius: 50%;\n",
              "      cursor: pointer;\n",
              "      display: none;\n",
              "      fill: #1967D2;\n",
              "      height: 32px;\n",
              "      padding: 0 0 0 0;\n",
              "      width: 32px;\n",
              "    }\n",
              "\n",
              "    .colab-df-convert:hover {\n",
              "      background-color: #E2EBFA;\n",
              "      box-shadow: 0px 1px 2px rgba(60, 64, 67, 0.3), 0px 1px 3px 1px rgba(60, 64, 67, 0.15);\n",
              "      fill: #174EA6;\n",
              "    }\n",
              "\n",
              "    .colab-df-buttons div {\n",
              "      margin-bottom: 4px;\n",
              "    }\n",
              "\n",
              "    [theme=dark] .colab-df-convert {\n",
              "      background-color: #3B4455;\n",
              "      fill: #D2E3FC;\n",
              "    }\n",
              "\n",
              "    [theme=dark] .colab-df-convert:hover {\n",
              "      background-color: #434B5C;\n",
              "      box-shadow: 0px 1px 3px 1px rgba(0, 0, 0, 0.15);\n",
              "      filter: drop-shadow(0px 1px 2px rgba(0, 0, 0, 0.3));\n",
              "      fill: #FFFFFF;\n",
              "    }\n",
              "  </style>\n",
              "\n",
              "    <script>\n",
              "      const buttonEl =\n",
              "        document.querySelector('#df-34bb89eb-3b31-40eb-9c04-09c2e9f265fe button.colab-df-convert');\n",
              "      buttonEl.style.display =\n",
              "        google.colab.kernel.accessAllowed ? 'block' : 'none';\n",
              "\n",
              "      async function convertToInteractive(key) {\n",
              "        const element = document.querySelector('#df-34bb89eb-3b31-40eb-9c04-09c2e9f265fe');\n",
              "        const dataTable =\n",
              "          await google.colab.kernel.invokeFunction('convertToInteractive',\n",
              "                                                    [key], {});\n",
              "        if (!dataTable) return;\n",
              "\n",
              "        const docLinkHtml = 'Like what you see? Visit the ' +\n",
              "          '<a target=\"_blank\" href=https://colab.research.google.com/notebooks/data_table.ipynb>data table notebook</a>'\n",
              "          + ' to learn more about interactive tables.';\n",
              "        element.innerHTML = '';\n",
              "        dataTable['output_type'] = 'display_data';\n",
              "        await google.colab.output.renderOutput(dataTable, element);\n",
              "        const docLink = document.createElement('div');\n",
              "        docLink.innerHTML = docLinkHtml;\n",
              "        element.appendChild(docLink);\n",
              "      }\n",
              "    </script>\n",
              "  </div>\n",
              "\n",
              "\n",
              "    <div id=\"df-2819a440-1617-4e3c-bfc4-2a1dc313ecbb\">\n",
              "      <button class=\"colab-df-quickchart\" onclick=\"quickchart('df-2819a440-1617-4e3c-bfc4-2a1dc313ecbb')\"\n",
              "                title=\"Suggest charts\"\n",
              "                style=\"display:none;\">\n",
              "\n",
              "<svg xmlns=\"http://www.w3.org/2000/svg\" height=\"24px\"viewBox=\"0 0 24 24\"\n",
              "     width=\"24px\">\n",
              "    <g>\n",
              "        <path d=\"M19 3H5c-1.1 0-2 .9-2 2v14c0 1.1.9 2 2 2h14c1.1 0 2-.9 2-2V5c0-1.1-.9-2-2-2zM9 17H7v-7h2v7zm4 0h-2V7h2v10zm4 0h-2v-4h2v4z\"/>\n",
              "    </g>\n",
              "</svg>\n",
              "      </button>\n",
              "\n",
              "<style>\n",
              "  .colab-df-quickchart {\n",
              "      --bg-color: #E8F0FE;\n",
              "      --fill-color: #1967D2;\n",
              "      --hover-bg-color: #E2EBFA;\n",
              "      --hover-fill-color: #174EA6;\n",
              "      --disabled-fill-color: #AAA;\n",
              "      --disabled-bg-color: #DDD;\n",
              "  }\n",
              "\n",
              "  [theme=dark] .colab-df-quickchart {\n",
              "      --bg-color: #3B4455;\n",
              "      --fill-color: #D2E3FC;\n",
              "      --hover-bg-color: #434B5C;\n",
              "      --hover-fill-color: #FFFFFF;\n",
              "      --disabled-bg-color: #3B4455;\n",
              "      --disabled-fill-color: #666;\n",
              "  }\n",
              "\n",
              "  .colab-df-quickchart {\n",
              "    background-color: var(--bg-color);\n",
              "    border: none;\n",
              "    border-radius: 50%;\n",
              "    cursor: pointer;\n",
              "    display: none;\n",
              "    fill: var(--fill-color);\n",
              "    height: 32px;\n",
              "    padding: 0;\n",
              "    width: 32px;\n",
              "  }\n",
              "\n",
              "  .colab-df-quickchart:hover {\n",
              "    background-color: var(--hover-bg-color);\n",
              "    box-shadow: 0 1px 2px rgba(60, 64, 67, 0.3), 0 1px 3px 1px rgba(60, 64, 67, 0.15);\n",
              "    fill: var(--button-hover-fill-color);\n",
              "  }\n",
              "\n",
              "  .colab-df-quickchart-complete:disabled,\n",
              "  .colab-df-quickchart-complete:disabled:hover {\n",
              "    background-color: var(--disabled-bg-color);\n",
              "    fill: var(--disabled-fill-color);\n",
              "    box-shadow: none;\n",
              "  }\n",
              "\n",
              "  .colab-df-spinner {\n",
              "    border: 2px solid var(--fill-color);\n",
              "    border-color: transparent;\n",
              "    border-bottom-color: var(--fill-color);\n",
              "    animation:\n",
              "      spin 1s steps(1) infinite;\n",
              "  }\n",
              "\n",
              "  @keyframes spin {\n",
              "    0% {\n",
              "      border-color: transparent;\n",
              "      border-bottom-color: var(--fill-color);\n",
              "      border-left-color: var(--fill-color);\n",
              "    }\n",
              "    20% {\n",
              "      border-color: transparent;\n",
              "      border-left-color: var(--fill-color);\n",
              "      border-top-color: var(--fill-color);\n",
              "    }\n",
              "    30% {\n",
              "      border-color: transparent;\n",
              "      border-left-color: var(--fill-color);\n",
              "      border-top-color: var(--fill-color);\n",
              "      border-right-color: var(--fill-color);\n",
              "    }\n",
              "    40% {\n",
              "      border-color: transparent;\n",
              "      border-right-color: var(--fill-color);\n",
              "      border-top-color: var(--fill-color);\n",
              "    }\n",
              "    60% {\n",
              "      border-color: transparent;\n",
              "      border-right-color: var(--fill-color);\n",
              "    }\n",
              "    80% {\n",
              "      border-color: transparent;\n",
              "      border-right-color: var(--fill-color);\n",
              "      border-bottom-color: var(--fill-color);\n",
              "    }\n",
              "    90% {\n",
              "      border-color: transparent;\n",
              "      border-bottom-color: var(--fill-color);\n",
              "    }\n",
              "  }\n",
              "</style>\n",
              "\n",
              "      <script>\n",
              "        async function quickchart(key) {\n",
              "          const quickchartButtonEl =\n",
              "            document.querySelector('#' + key + ' button');\n",
              "          quickchartButtonEl.disabled = true;  // To prevent multiple clicks.\n",
              "          quickchartButtonEl.classList.add('colab-df-spinner');\n",
              "          try {\n",
              "            const charts = await google.colab.kernel.invokeFunction(\n",
              "                'suggestCharts', [key], {});\n",
              "          } catch (error) {\n",
              "            console.error('Error during call to suggestCharts:', error);\n",
              "          }\n",
              "          quickchartButtonEl.classList.remove('colab-df-spinner');\n",
              "          quickchartButtonEl.classList.add('colab-df-quickchart-complete');\n",
              "        }\n",
              "        (() => {\n",
              "          let quickchartButtonEl =\n",
              "            document.querySelector('#df-2819a440-1617-4e3c-bfc4-2a1dc313ecbb button');\n",
              "          quickchartButtonEl.style.display =\n",
              "            google.colab.kernel.accessAllowed ? 'block' : 'none';\n",
              "        })();\n",
              "      </script>\n",
              "    </div>\n",
              "\n",
              "    </div>\n",
              "  </div>\n"
            ],
            "application/vnd.google.colaboratory.intrinsic+json": {
              "type": "dataframe",
              "variable_name": "df",
              "summary": "{\n  \"name\": \"df\",\n  \"rows\": 7278,\n  \"fields\": [\n    {\n      \"column\": \"district\",\n      \"properties\": {\n        \"dtype\": \"category\",\n        \"num_unique_values\": 12,\n        \"samples\": [\n          \"\\u042f\\u043d\\u0433\\u0438\\u0445\\u0430\\u0451\\u0442\\u0441\\u043a\\u0438\\u0439\",\n          \"\\u0421\\u0435\\u0440\\u0433\\u0435\\u043b\\u0438\\u0439\\u0441\\u043a\\u0438\\u0439\",\n          \"\\u042e\\u043d\\u0443\\u0441\\u0430\\u0431\\u0430\\u0434\\u0441\\u043a\\u0438\\u0439\"\n        ],\n        \"semantic_type\": \"\",\n        \"description\": \"\"\n      }\n    },\n    {\n      \"column\": \"rooms\",\n      \"properties\": {\n        \"dtype\": \"number\",\n        \"std\": 1,\n        \"min\": 1,\n        \"max\": 8,\n        \"num_unique_values\": 8,\n        \"samples\": [\n          2,\n          6,\n          3\n        ],\n        \"semantic_type\": \"\",\n        \"description\": \"\"\n      }\n    },\n    {\n      \"column\": \"size\",\n      \"properties\": {\n        \"dtype\": \"number\",\n        \"std\": 29.321199653232828,\n        \"min\": 1.0,\n        \"max\": 279.0,\n        \"num_unique_values\": 356,\n        \"samples\": [\n          46.7,\n          50.0,\n          4.0\n        ],\n        \"semantic_type\": \"\",\n        \"description\": \"\"\n      }\n    },\n    {\n      \"column\": \"level\",\n      \"properties\": {\n        \"dtype\": \"number\",\n        \"std\": 2,\n        \"min\": 1,\n        \"max\": 18,\n        \"num_unique_values\": 17,\n        \"samples\": [\n          4,\n          1,\n          6\n        ],\n        \"semantic_type\": \"\",\n        \"description\": \"\"\n      }\n    },\n    {\n      \"column\": \"max_levels\",\n      \"properties\": {\n        \"dtype\": \"number\",\n        \"std\": 2,\n        \"min\": 1,\n        \"max\": 25,\n        \"num_unique_values\": 21,\n        \"samples\": [\n          4,\n          17,\n          13\n        ],\n        \"semantic_type\": \"\",\n        \"description\": \"\"\n      }\n    },\n    {\n      \"column\": \"price\",\n      \"properties\": {\n        \"dtype\": \"number\",\n        \"std\": 29665.210900266706,\n        \"min\": 2.0,\n        \"max\": 220000.0,\n        \"num_unique_values\": 656,\n        \"samples\": [\n          38200.0,\n          113000.0,\n          7500.0\n        ],\n        \"semantic_type\": \"\",\n        \"description\": \"\"\n      }\n    }\n  ]\n}"
            }
          },
          "metadata": {},
          "execution_count": 1
        }
      ],
      "source": [
        "import pandas as pd\n",
        "df = pd.read_csv('https://raw.githubusercontent.com/anvarnarz/praktikum_datasets/main/housing_LR.csv', index_col=0)\n",
        "df.head(10)"
      ]
    },
    {
      "cell_type": "markdown",
      "id": "cd004a7d-846f-4f4a-9a4c-9d5ce65ba3e9",
      "metadata": {
        "id": "cd004a7d-846f-4f4a-9a4c-9d5ce65ba3e9"
      },
      "source": [
        "# Ustunlar ta'rifi\n",
        "- `location` - sotilayotgan uy manzili\n",
        "- `district` - uy joylashgan tuman\n",
        "- `rooms` - xonalar soni\n",
        "- `size` - uy maydoni (kv.m)\n",
        "- `level` - uy"
      ]
    },
    {
      "cell_type": "code",
      "execution_count": 2,
      "id": "fdfd182e-e0fd-412d-98c9-d8fb3d76833c",
      "metadata": {
        "colab": {
          "base_uri": "https://localhost:8080/",
          "height": 491
        },
        "id": "fdfd182e-e0fd-412d-98c9-d8fb3d76833c",
        "outputId": "e4cf2aef-739f-402f-fbc8-d79f752fd7ac"
      },
      "outputs": [
        {
          "output_type": "execute_result",
          "data": {
            "text/plain": [
              "district\n",
              "Чиланзарский         1616\n",
              "Мирзо-Улугбекский    1342\n",
              "Учтепинский           872\n",
              "Юнусабадский          847\n",
              "Мирабадский           717\n",
              "Яккасарайский         628\n",
              "Яшнободский           456\n",
              "Шайхантахурский       356\n",
              "Олмазорский           262\n",
              "Сергелийский          159\n",
              "Янгихаётский           15\n",
              "Бектемирский            8\n",
              "Name: count, dtype: int64"
            ],
            "text/html": [
              "<div>\n",
              "<style scoped>\n",
              "    .dataframe tbody tr th:only-of-type {\n",
              "        vertical-align: middle;\n",
              "    }\n",
              "\n",
              "    .dataframe tbody tr th {\n",
              "        vertical-align: top;\n",
              "    }\n",
              "\n",
              "    .dataframe thead th {\n",
              "        text-align: right;\n",
              "    }\n",
              "</style>\n",
              "<table border=\"1\" class=\"dataframe\">\n",
              "  <thead>\n",
              "    <tr style=\"text-align: right;\">\n",
              "      <th></th>\n",
              "      <th>count</th>\n",
              "    </tr>\n",
              "    <tr>\n",
              "      <th>district</th>\n",
              "      <th></th>\n",
              "    </tr>\n",
              "  </thead>\n",
              "  <tbody>\n",
              "    <tr>\n",
              "      <th>Чиланзарский</th>\n",
              "      <td>1616</td>\n",
              "    </tr>\n",
              "    <tr>\n",
              "      <th>Мирзо-Улугбекский</th>\n",
              "      <td>1342</td>\n",
              "    </tr>\n",
              "    <tr>\n",
              "      <th>Учтепинский</th>\n",
              "      <td>872</td>\n",
              "    </tr>\n",
              "    <tr>\n",
              "      <th>Юнусабадский</th>\n",
              "      <td>847</td>\n",
              "    </tr>\n",
              "    <tr>\n",
              "      <th>Мирабадский</th>\n",
              "      <td>717</td>\n",
              "    </tr>\n",
              "    <tr>\n",
              "      <th>Яккасарайский</th>\n",
              "      <td>628</td>\n",
              "    </tr>\n",
              "    <tr>\n",
              "      <th>Яшнободский</th>\n",
              "      <td>456</td>\n",
              "    </tr>\n",
              "    <tr>\n",
              "      <th>Шайхантахурский</th>\n",
              "      <td>356</td>\n",
              "    </tr>\n",
              "    <tr>\n",
              "      <th>Олмазорский</th>\n",
              "      <td>262</td>\n",
              "    </tr>\n",
              "    <tr>\n",
              "      <th>Сергелийский</th>\n",
              "      <td>159</td>\n",
              "    </tr>\n",
              "    <tr>\n",
              "      <th>Янгихаётский</th>\n",
              "      <td>15</td>\n",
              "    </tr>\n",
              "    <tr>\n",
              "      <th>Бектемирский</th>\n",
              "      <td>8</td>\n",
              "    </tr>\n",
              "  </tbody>\n",
              "</table>\n",
              "</div><br><label><b>dtype:</b> int64</label>"
            ]
          },
          "metadata": {},
          "execution_count": 2
        }
      ],
      "source": [
        "df['district'].value_counts()"
      ]
    },
    {
      "cell_type": "markdown",
      "id": "a0811ab4-f241-4214-87a1-df3ae02cd6c5",
      "metadata": {
        "id": "a0811ab4-f241-4214-87a1-df3ae02cd6c5"
      },
      "source": [
        "**Darsimiz uchun Chilonzor tumanidagi uylarning narxini bashorat qilib ko'ramiz**"
      ]
    },
    {
      "cell_type": "code",
      "execution_count": 3,
      "id": "c54fde41-aead-4e9c-948b-5765763ee60f",
      "metadata": {
        "colab": {
          "base_uri": "https://localhost:8080/",
          "height": 206
        },
        "id": "c54fde41-aead-4e9c-948b-5765763ee60f",
        "outputId": "ce928bcf-9767-4b56-aa1d-a85c8f64045c"
      },
      "outputs": [
        {
          "output_type": "execute_result",
          "data": {
            "text/plain": [
              "       district  rooms  size  level  max_levels    price\n",
              "2  Чиланзарский      2  42.0      4           4  37000.0\n",
              "3  Чиланзарский      3  65.0      1           4  49500.0\n",
              "4  Чиланзарский      3  70.0      3           5  55000.0\n",
              "5  Чиланзарский      1  28.0      1           4  25500.0\n",
              "6  Чиланзарский      1  30.0      2           4  21200.0"
            ],
            "text/html": [
              "\n",
              "  <div id=\"df-b767892e-f8c4-4563-bbab-8c34db8a55dd\" class=\"colab-df-container\">\n",
              "    <div>\n",
              "<style scoped>\n",
              "    .dataframe tbody tr th:only-of-type {\n",
              "        vertical-align: middle;\n",
              "    }\n",
              "\n",
              "    .dataframe tbody tr th {\n",
              "        vertical-align: top;\n",
              "    }\n",
              "\n",
              "    .dataframe thead th {\n",
              "        text-align: right;\n",
              "    }\n",
              "</style>\n",
              "<table border=\"1\" class=\"dataframe\">\n",
              "  <thead>\n",
              "    <tr style=\"text-align: right;\">\n",
              "      <th></th>\n",
              "      <th>district</th>\n",
              "      <th>rooms</th>\n",
              "      <th>size</th>\n",
              "      <th>level</th>\n",
              "      <th>max_levels</th>\n",
              "      <th>price</th>\n",
              "    </tr>\n",
              "  </thead>\n",
              "  <tbody>\n",
              "    <tr>\n",
              "      <th>2</th>\n",
              "      <td>Чиланзарский</td>\n",
              "      <td>2</td>\n",
              "      <td>42.0</td>\n",
              "      <td>4</td>\n",
              "      <td>4</td>\n",
              "      <td>37000.0</td>\n",
              "    </tr>\n",
              "    <tr>\n",
              "      <th>3</th>\n",
              "      <td>Чиланзарский</td>\n",
              "      <td>3</td>\n",
              "      <td>65.0</td>\n",
              "      <td>1</td>\n",
              "      <td>4</td>\n",
              "      <td>49500.0</td>\n",
              "    </tr>\n",
              "    <tr>\n",
              "      <th>4</th>\n",
              "      <td>Чиланзарский</td>\n",
              "      <td>3</td>\n",
              "      <td>70.0</td>\n",
              "      <td>3</td>\n",
              "      <td>5</td>\n",
              "      <td>55000.0</td>\n",
              "    </tr>\n",
              "    <tr>\n",
              "      <th>5</th>\n",
              "      <td>Чиланзарский</td>\n",
              "      <td>1</td>\n",
              "      <td>28.0</td>\n",
              "      <td>1</td>\n",
              "      <td>4</td>\n",
              "      <td>25500.0</td>\n",
              "    </tr>\n",
              "    <tr>\n",
              "      <th>6</th>\n",
              "      <td>Чиланзарский</td>\n",
              "      <td>1</td>\n",
              "      <td>30.0</td>\n",
              "      <td>2</td>\n",
              "      <td>4</td>\n",
              "      <td>21200.0</td>\n",
              "    </tr>\n",
              "  </tbody>\n",
              "</table>\n",
              "</div>\n",
              "    <div class=\"colab-df-buttons\">\n",
              "\n",
              "  <div class=\"colab-df-container\">\n",
              "    <button class=\"colab-df-convert\" onclick=\"convertToInteractive('df-b767892e-f8c4-4563-bbab-8c34db8a55dd')\"\n",
              "            title=\"Convert this dataframe to an interactive table.\"\n",
              "            style=\"display:none;\">\n",
              "\n",
              "  <svg xmlns=\"http://www.w3.org/2000/svg\" height=\"24px\" viewBox=\"0 -960 960 960\">\n",
              "    <path d=\"M120-120v-720h720v720H120Zm60-500h600v-160H180v160Zm220 220h160v-160H400v160Zm0 220h160v-160H400v160ZM180-400h160v-160H180v160Zm440 0h160v-160H620v160ZM180-180h160v-160H180v160Zm440 0h160v-160H620v160Z\"/>\n",
              "  </svg>\n",
              "    </button>\n",
              "\n",
              "  <style>\n",
              "    .colab-df-container {\n",
              "      display:flex;\n",
              "      gap: 12px;\n",
              "    }\n",
              "\n",
              "    .colab-df-convert {\n",
              "      background-color: #E8F0FE;\n",
              "      border: none;\n",
              "      border-radius: 50%;\n",
              "      cursor: pointer;\n",
              "      display: none;\n",
              "      fill: #1967D2;\n",
              "      height: 32px;\n",
              "      padding: 0 0 0 0;\n",
              "      width: 32px;\n",
              "    }\n",
              "\n",
              "    .colab-df-convert:hover {\n",
              "      background-color: #E2EBFA;\n",
              "      box-shadow: 0px 1px 2px rgba(60, 64, 67, 0.3), 0px 1px 3px 1px rgba(60, 64, 67, 0.15);\n",
              "      fill: #174EA6;\n",
              "    }\n",
              "\n",
              "    .colab-df-buttons div {\n",
              "      margin-bottom: 4px;\n",
              "    }\n",
              "\n",
              "    [theme=dark] .colab-df-convert {\n",
              "      background-color: #3B4455;\n",
              "      fill: #D2E3FC;\n",
              "    }\n",
              "\n",
              "    [theme=dark] .colab-df-convert:hover {\n",
              "      background-color: #434B5C;\n",
              "      box-shadow: 0px 1px 3px 1px rgba(0, 0, 0, 0.15);\n",
              "      filter: drop-shadow(0px 1px 2px rgba(0, 0, 0, 0.3));\n",
              "      fill: #FFFFFF;\n",
              "    }\n",
              "  </style>\n",
              "\n",
              "    <script>\n",
              "      const buttonEl =\n",
              "        document.querySelector('#df-b767892e-f8c4-4563-bbab-8c34db8a55dd button.colab-df-convert');\n",
              "      buttonEl.style.display =\n",
              "        google.colab.kernel.accessAllowed ? 'block' : 'none';\n",
              "\n",
              "      async function convertToInteractive(key) {\n",
              "        const element = document.querySelector('#df-b767892e-f8c4-4563-bbab-8c34db8a55dd');\n",
              "        const dataTable =\n",
              "          await google.colab.kernel.invokeFunction('convertToInteractive',\n",
              "                                                    [key], {});\n",
              "        if (!dataTable) return;\n",
              "\n",
              "        const docLinkHtml = 'Like what you see? Visit the ' +\n",
              "          '<a target=\"_blank\" href=https://colab.research.google.com/notebooks/data_table.ipynb>data table notebook</a>'\n",
              "          + ' to learn more about interactive tables.';\n",
              "        element.innerHTML = '';\n",
              "        dataTable['output_type'] = 'display_data';\n",
              "        await google.colab.output.renderOutput(dataTable, element);\n",
              "        const docLink = document.createElement('div');\n",
              "        docLink.innerHTML = docLinkHtml;\n",
              "        element.appendChild(docLink);\n",
              "      }\n",
              "    </script>\n",
              "  </div>\n",
              "\n",
              "\n",
              "    <div id=\"df-446f4b70-0eb9-45c9-941b-b0f1bee718c2\">\n",
              "      <button class=\"colab-df-quickchart\" onclick=\"quickchart('df-446f4b70-0eb9-45c9-941b-b0f1bee718c2')\"\n",
              "                title=\"Suggest charts\"\n",
              "                style=\"display:none;\">\n",
              "\n",
              "<svg xmlns=\"http://www.w3.org/2000/svg\" height=\"24px\"viewBox=\"0 0 24 24\"\n",
              "     width=\"24px\">\n",
              "    <g>\n",
              "        <path d=\"M19 3H5c-1.1 0-2 .9-2 2v14c0 1.1.9 2 2 2h14c1.1 0 2-.9 2-2V5c0-1.1-.9-2-2-2zM9 17H7v-7h2v7zm4 0h-2V7h2v10zm4 0h-2v-4h2v4z\"/>\n",
              "    </g>\n",
              "</svg>\n",
              "      </button>\n",
              "\n",
              "<style>\n",
              "  .colab-df-quickchart {\n",
              "      --bg-color: #E8F0FE;\n",
              "      --fill-color: #1967D2;\n",
              "      --hover-bg-color: #E2EBFA;\n",
              "      --hover-fill-color: #174EA6;\n",
              "      --disabled-fill-color: #AAA;\n",
              "      --disabled-bg-color: #DDD;\n",
              "  }\n",
              "\n",
              "  [theme=dark] .colab-df-quickchart {\n",
              "      --bg-color: #3B4455;\n",
              "      --fill-color: #D2E3FC;\n",
              "      --hover-bg-color: #434B5C;\n",
              "      --hover-fill-color: #FFFFFF;\n",
              "      --disabled-bg-color: #3B4455;\n",
              "      --disabled-fill-color: #666;\n",
              "  }\n",
              "\n",
              "  .colab-df-quickchart {\n",
              "    background-color: var(--bg-color);\n",
              "    border: none;\n",
              "    border-radius: 50%;\n",
              "    cursor: pointer;\n",
              "    display: none;\n",
              "    fill: var(--fill-color);\n",
              "    height: 32px;\n",
              "    padding: 0;\n",
              "    width: 32px;\n",
              "  }\n",
              "\n",
              "  .colab-df-quickchart:hover {\n",
              "    background-color: var(--hover-bg-color);\n",
              "    box-shadow: 0 1px 2px rgba(60, 64, 67, 0.3), 0 1px 3px 1px rgba(60, 64, 67, 0.15);\n",
              "    fill: var(--button-hover-fill-color);\n",
              "  }\n",
              "\n",
              "  .colab-df-quickchart-complete:disabled,\n",
              "  .colab-df-quickchart-complete:disabled:hover {\n",
              "    background-color: var(--disabled-bg-color);\n",
              "    fill: var(--disabled-fill-color);\n",
              "    box-shadow: none;\n",
              "  }\n",
              "\n",
              "  .colab-df-spinner {\n",
              "    border: 2px solid var(--fill-color);\n",
              "    border-color: transparent;\n",
              "    border-bottom-color: var(--fill-color);\n",
              "    animation:\n",
              "      spin 1s steps(1) infinite;\n",
              "  }\n",
              "\n",
              "  @keyframes spin {\n",
              "    0% {\n",
              "      border-color: transparent;\n",
              "      border-bottom-color: var(--fill-color);\n",
              "      border-left-color: var(--fill-color);\n",
              "    }\n",
              "    20% {\n",
              "      border-color: transparent;\n",
              "      border-left-color: var(--fill-color);\n",
              "      border-top-color: var(--fill-color);\n",
              "    }\n",
              "    30% {\n",
              "      border-color: transparent;\n",
              "      border-left-color: var(--fill-color);\n",
              "      border-top-color: var(--fill-color);\n",
              "      border-right-color: var(--fill-color);\n",
              "    }\n",
              "    40% {\n",
              "      border-color: transparent;\n",
              "      border-right-color: var(--fill-color);\n",
              "      border-top-color: var(--fill-color);\n",
              "    }\n",
              "    60% {\n",
              "      border-color: transparent;\n",
              "      border-right-color: var(--fill-color);\n",
              "    }\n",
              "    80% {\n",
              "      border-color: transparent;\n",
              "      border-right-color: var(--fill-color);\n",
              "      border-bottom-color: var(--fill-color);\n",
              "    }\n",
              "    90% {\n",
              "      border-color: transparent;\n",
              "      border-bottom-color: var(--fill-color);\n",
              "    }\n",
              "  }\n",
              "</style>\n",
              "\n",
              "      <script>\n",
              "        async function quickchart(key) {\n",
              "          const quickchartButtonEl =\n",
              "            document.querySelector('#' + key + ' button');\n",
              "          quickchartButtonEl.disabled = true;  // To prevent multiple clicks.\n",
              "          quickchartButtonEl.classList.add('colab-df-spinner');\n",
              "          try {\n",
              "            const charts = await google.colab.kernel.invokeFunction(\n",
              "                'suggestCharts', [key], {});\n",
              "          } catch (error) {\n",
              "            console.error('Error during call to suggestCharts:', error);\n",
              "          }\n",
              "          quickchartButtonEl.classList.remove('colab-df-spinner');\n",
              "          quickchartButtonEl.classList.add('colab-df-quickchart-complete');\n",
              "        }\n",
              "        (() => {\n",
              "          let quickchartButtonEl =\n",
              "            document.querySelector('#df-446f4b70-0eb9-45c9-941b-b0f1bee718c2 button');\n",
              "          quickchartButtonEl.style.display =\n",
              "            google.colab.kernel.accessAllowed ? 'block' : 'none';\n",
              "        })();\n",
              "      </script>\n",
              "    </div>\n",
              "\n",
              "    </div>\n",
              "  </div>\n"
            ],
            "application/vnd.google.colaboratory.intrinsic+json": {
              "type": "dataframe",
              "variable_name": "housing",
              "summary": "{\n  \"name\": \"housing\",\n  \"rows\": 1616,\n  \"fields\": [\n    {\n      \"column\": \"district\",\n      \"properties\": {\n        \"dtype\": \"category\",\n        \"num_unique_values\": 1,\n        \"samples\": [\n          \"\\u0427\\u0438\\u043b\\u0430\\u043d\\u0437\\u0430\\u0440\\u0441\\u043a\\u0438\\u0439\"\n        ],\n        \"semantic_type\": \"\",\n        \"description\": \"\"\n      }\n    },\n    {\n      \"column\": \"rooms\",\n      \"properties\": {\n        \"dtype\": \"number\",\n        \"std\": 1,\n        \"min\": 1,\n        \"max\": 8,\n        \"num_unique_values\": 7,\n        \"samples\": [\n          2\n        ],\n        \"semantic_type\": \"\",\n        \"description\": \"\"\n      }\n    },\n    {\n      \"column\": \"size\",\n      \"properties\": {\n        \"dtype\": \"number\",\n        \"std\": 25.908778643272562,\n        \"min\": 15.0,\n        \"max\": 240.0,\n        \"num_unique_values\": 129,\n        \"samples\": [\n          57.0\n        ],\n        \"semantic_type\": \"\",\n        \"description\": \"\"\n      }\n    },\n    {\n      \"column\": \"level\",\n      \"properties\": {\n        \"dtype\": \"number\",\n        \"std\": 1,\n        \"min\": 1,\n        \"max\": 11,\n        \"num_unique_values\": 11,\n        \"samples\": [\n          7\n        ],\n        \"semantic_type\": \"\",\n        \"description\": \"\"\n      }\n    },\n    {\n      \"column\": \"max_levels\",\n      \"properties\": {\n        \"dtype\": \"number\",\n        \"std\": 2,\n        \"min\": 2,\n        \"max\": 12,\n        \"num_unique_values\": 10,\n        \"samples\": [\n          10\n        ],\n        \"semantic_type\": \"\",\n        \"description\": \"\"\n      }\n    },\n    {\n      \"column\": \"price\",\n      \"properties\": {\n        \"dtype\": \"number\",\n        \"std\": 22726.76656513965,\n        \"min\": 12000.0,\n        \"max\": 190000.0,\n        \"num_unique_values\": 237,\n        \"samples\": [\n          19500.0\n        ],\n        \"semantic_type\": \"\",\n        \"description\": \"\"\n      }\n    }\n  ]\n}"
            }
          },
          "metadata": {},
          "execution_count": 3
        }
      ],
      "source": [
        "housing = df[df.district=='Чиланзарский']\n",
        "housing.head()"
      ]
    },
    {
      "cell_type": "code",
      "execution_count": 4,
      "id": "f65fd3c7-fea1-4e62-b514-8962e7b8e7ce",
      "metadata": {
        "colab": {
          "base_uri": "https://localhost:8080/"
        },
        "id": "f65fd3c7-fea1-4e62-b514-8962e7b8e7ce",
        "outputId": "c03328d1-e699-4607-e5d2-788d9e220bca"
      },
      "outputs": [
        {
          "output_type": "execute_result",
          "data": {
            "text/plain": [
              "array([42., 65., 70., ..., 32., 70., 30.])"
            ]
          },
          "metadata": {},
          "execution_count": 4
        }
      ],
      "source": [
        "X = housing['size'].to_numpy()\n",
        "X"
      ]
    },
    {
      "cell_type": "code",
      "execution_count": 5,
      "id": "94126c82-8be2-4b98-bbe6-4ae49934aa9f",
      "metadata": {
        "colab": {
          "base_uri": "https://localhost:8080/"
        },
        "id": "94126c82-8be2-4b98-bbe6-4ae49934aa9f",
        "outputId": "e3b4e1e9-d32c-4d7a-c5f8-b9168f43e4df"
      },
      "outputs": [
        {
          "output_type": "execute_result",
          "data": {
            "text/plain": [
              "array([37000., 49500., 55000., ..., 28000., 49800., 22914.])"
            ]
          },
          "metadata": {},
          "execution_count": 5
        }
      ],
      "source": [
        "y = housing['price'].to_numpy()\n",
        "y"
      ]
    },
    {
      "cell_type": "markdown",
      "id": "7bcc2e9e-cd49-429e-9edc-62b42bcf52b3",
      "metadata": {
        "id": "7bcc2e9e-cd49-429e-9edc-62b42bcf52b3"
      },
      "source": [
        "**Narx va uy maydoni o'rtasida chiziqli bog'liqlik bor ekanini tekshirib ko'ramiz.**"
      ]
    },
    {
      "cell_type": "code",
      "execution_count": 6,
      "id": "7b447da1-3715-4c21-bc65-02ce3ee226c1",
      "metadata": {
        "id": "7b447da1-3715-4c21-bc65-02ce3ee226c1"
      },
      "outputs": [],
      "source": [
        "import matplotlib.pyplot as plt\n",
        "import seaborn as sns\n",
        "%matplotlib inline"
      ]
    },
    {
      "cell_type": "code",
      "execution_count": 7,
      "id": "b3892c14-8b0a-40a3-bf96-487408787386",
      "metadata": {
        "colab": {
          "base_uri": "https://localhost:8080/",
          "height": 542
        },
        "id": "b3892c14-8b0a-40a3-bf96-487408787386",
        "outputId": "bd17b0ab-f900-4b0e-8608-c5f30b18bb07"
      },
      "outputs": [
        {
          "output_type": "display_data",
          "data": {
            "text/plain": [
              "<Figure size 1000x600 with 1 Axes>"
            ],
            "image/png": "[encoded data removed]"
          },
          "metadata": {}
        }
      ],
      "source": [
        "plt.figure(figsize=(10,6))\n",
        "sns.scatterplot(data=housing, x='size', y='price')\n",
        "plt.show()"
      ]
    },
    {
      "cell_type": "code",
      "execution_count": 8,
      "id": "36b7afbb-4e03-4c34-ac86-de677141afc1",
      "metadata": {
        "colab": {
          "base_uri": "https://localhost:8080/",
          "height": 542
        },
        "id": "36b7afbb-4e03-4c34-ac86-de677141afc1",
        "outputId": "5c0ca7f1-6ff4-4122-830a-79cfc1a7dd99"
      },
      "outputs": [
        {
          "output_type": "display_data",
          "data": {
            "text/plain": [
              "<Figure size 1000x600 with 1 Axes>"
            ],
            "image/png": "[encoded data removed]"
          },
          "metadata": {}
        }
      ],
      "source": [
        "plt.figure(figsize=(10,6))\n",
        "sns.regplot(data=housing, x='size', y='price', line_kws={\"color\": \"red\"})\n",
        "plt.show()"
      ]
    },
    {
      "cell_type": "markdown",
      "id": "8654473f-7b86-4bfb-8ff0-ad10099f472e",
      "metadata": {
        "id": "8654473f-7b86-4bfb-8ff0-ad10099f472e"
      },
      "source": [
        "## 1-Vazifa\n",
        "Sizning vazifangiz yuqoridagi `X` va `y` o'zgaruvchilardan quyidagi formuladan foydalangan xolda $\\theta_0$ va $\\theta_1$ koeffisientlarni hisoblash.\n",
        "\n",
        "![Imgur](https://i.imgur.com/zZoXZxI.png)\n",
        "\n",
        "Bu yerda $\\tilde{x}$ - `X` ustun uchun o'rtracha qiymat,  $\\tilde{y}$ - `y` ustun uchun o'rtracha qiymat"
      ]
    },
    {
      "cell_type": "code",
      "execution_count": 9,
      "id": "e4d146e8-1d8d-4de2-aa69-0af19f9c42fc",
      "metadata": {
        "id": "e4d146e8-1d8d-4de2-aa69-0af19f9c42fc"
      },
      "outputs": [],
      "source": [
        "import numpy as np\n",
        "\n",
        "Xmean = np.mean(X)\n",
        "ymean = np.mean(y)"
      ]
    },
    {
      "cell_type": "code",
      "execution_count": 10,
      "id": "71e8bf50-b3e3-4b1c-9f93-997dc2cb52fc",
      "metadata": {
        "colab": {
          "base_uri": "https://localhost:8080/"
        },
        "id": "71e8bf50-b3e3-4b1c-9f93-997dc2cb52fc",
        "outputId": "4ef4964a-a636-434b-8f8b-39305ce2fc4b"
      },
      "outputs": [
        {
          "output_type": "stream",
          "name": "stdout",
          "text": [
            "theta1=np.float64(740.0264822713287)\n"
          ]
        }
      ],
      "source": [
        "theta1 = sum((X-Xmean)*(y-ymean))/sum((X-Xmean)**2)\n",
        "print(f\"{theta1=}\")"
      ]
    },
    {
      "cell_type": "code",
      "execution_count": 11,
      "id": "4c782bb7-8dc6-4c46-ae1b-7331d6ec7614",
      "metadata": {
        "colab": {
          "base_uri": "https://localhost:8080/"
        },
        "id": "4c782bb7-8dc6-4c46-ae1b-7331d6ec7614",
        "outputId": "32f5074d-e771-48c1-e435-d27f4a84e4a3"
      },
      "outputs": [
        {
          "output_type": "stream",
          "name": "stdout",
          "text": [
            "theta0=np.float64(-195.94911352690542)\n"
          ]
        }
      ],
      "source": [
        "theta0 = ymean - theta1*Xmean\n",
        "print(f\"{theta0=}\")"
      ]
    },
    {
      "cell_type": "markdown",
      "id": "72486449-3955-4d88-9c2a-0f893a2aa6b5",
      "metadata": {
        "id": "72486449-3955-4d88-9c2a-0f893a2aa6b5"
      },
      "source": [
        "## 2-Vazifa\n",
        "`X` dan bir nechta tasodifiy qiymatlarni ajratib oling va ularga mos keluvchi `y` ni yuqoridagi koeffisientlar yordamida hisoblab ko'ring.\n",
        "\n",
        "![Imgur](https://i.imgur.com/iT5tffj.png)"
      ]
    },
    {
      "cell_type": "code",
      "execution_count": 12,
      "id": "77d7e635-6d95-4e8b-88f1-31b4aa533df4",
      "metadata": {
        "colab": {
          "base_uri": "https://localhost:8080/"
        },
        "id": "77d7e635-6d95-4e8b-88f1-31b4aa533df4",
        "outputId": "1c167c2b-83bb-4dac-c3fe-a6899ff663d8"
      },
      "outputs": [
        {
          "output_type": "stream",
          "name": "stdout",
          "text": [
            "x_test=array([54., 42., 36., 60., 48., 68., 38., 65., 52., 44.])\n",
            "y_test=array([37500., 26500., 25500., 39000., 32500., 34500., 22700., 47000.,\n",
            "       37900., 36000.])\n"
          ]
        }
      ],
      "source": [
        "x_test = housing.sample(10, random_state=42)['size'].to_numpy()\n",
        "print(f\"{x_test=}\")\n",
        "y_test = housing.sample(10, random_state=42)['price'].to_numpy()\n",
        "print(f\"{y_test=}\")"
      ]
    },
    {
      "cell_type": "code",
      "execution_count": 13,
      "id": "773470dc-b1e0-433e-9969-e102c7a5199b",
      "metadata": {
        "colab": {
          "base_uri": "https://localhost:8080/"
        },
        "id": "773470dc-b1e0-433e-9969-e102c7a5199b",
        "outputId": "eb8a3026-1520-42cb-f94f-8ae547cc2c7f"
      },
      "outputs": [
        {
          "output_type": "stream",
          "name": "stdout",
          "text": [
            "y_predict=array([39765.48092912, 30885.16314187, 26445.00424824, 44205.63982275,\n",
            "       35325.3220355 , 50125.85168092, 27925.05721278, 47905.77223411,\n",
            "       38285.42796458, 32365.21610641])\n"
          ]
        }
      ],
      "source": [
        "y_predict = theta0 + theta1*x_test\n",
        "print(f\"{y_predict=}\")"
      ]
    },
    {
      "cell_type": "markdown",
      "id": "e62395a5-6d5d-49e4-b5ca-ef6375fa93e8",
      "metadata": {
        "id": "e62395a5-6d5d-49e4-b5ca-ef6375fa93e8"
      },
      "source": [
        "## 3-Vazifa\n",
        "\n",
        "Hisoblangan va asl qiymtlar o'rtasidagi RMSE (root mean square error), MAE (mean absolute error) hisoblang.\n",
        "\n",
        "![Imgur](https://i.imgur.com/GJH9CGy.png)\n",
        "\n",
        "![Imgur](https://i.imgur.com/aXL9iWa.png)"
      ]
    },
    {
      "cell_type": "code",
      "execution_count": 14,
      "id": "ccc48a76-6efc-4c98-a12f-300f8a1bdaae",
      "metadata": {
        "colab": {
          "base_uri": "https://localhost:8080/"
        },
        "id": "ccc48a76-6efc-4c98-a12f-300f8a1bdaae",
        "outputId": "237e68ae-a477-4956-fb8f-1c8fd331aff6"
      },
      "outputs": [
        {
          "output_type": "stream",
          "name": "stdout",
          "text": [
            "MAE=np.float64(4140.35031634715)\n"
          ]
        }
      ],
      "source": [
        "# MAE\n",
        "MAE = np.sum(np.absolute(y_predict-y_test))/len(y_test)\n",
        "print(f\"{MAE=}\")"
      ]
    },
    {
      "cell_type": "code",
      "execution_count": 15,
      "id": "9e593023-f11e-455d-b775-0d1af8186a83",
      "metadata": {
        "colab": {
          "base_uri": "https://localhost:8080/"
        },
        "id": "9e593023-f11e-455d-b775-0d1af8186a83",
        "outputId": "306a4aab-2f60-4ff0-fbff-76668eda59da"
      },
      "outputs": [
        {
          "output_type": "stream",
          "name": "stdout",
          "text": [
            "RMSE=np.float64(5882.051673173715)\n"
          ]
        }
      ],
      "source": [
        "# RMSE\n",
        "RMSE = np.sqrt(np.sum((y_predict-y_test)**2)/len(y_test))\n",
        "print(f\"{RMSE=}\")"
      ]
    },
    {
      "cell_type": "markdown",
      "id": "804c4731-50aa-4f78-8dc0-93254f0556d1",
      "metadata": {
        "id": "804c4731-50aa-4f78-8dc0-93254f0556d1"
      },
      "source": [
        "# Scikit-learn yordamida LR\n",
        "Keling endi yuqoridagi amallarni scikit-learn yordamida bajaramiz.\n",
        "\n",
        "Avvalo ma'lumotlarni train va testga bo'lib olamiz."
      ]
    },
    {
      "cell_type": "code",
      "execution_count": 16,
      "id": "209590bd-051b-4995-8764-3323cc099686",
      "metadata": {
        "colab": {
          "base_uri": "https://localhost:8080/"
        },
        "id": "209590bd-051b-4995-8764-3323cc099686",
        "outputId": "939adccb-bc94-41c3-e4f9-1d1a7c5d5025"
      },
      "outputs": [
        {
          "output_type": "execute_result",
          "data": {
            "text/plain": [
              "(1616, 6)"
            ]
          },
          "metadata": {},
          "execution_count": 16
        }
      ],
      "source": [
        "housing.shape"
      ]
    },
    {
      "cell_type": "markdown",
      "id": "deeaadab-8d96-4243-8f1c-44ba5f85f965",
      "metadata": {
        "id": "deeaadab-8d96-4243-8f1c-44ba5f85f965"
      },
      "source": [
        "Bizda ma'lumotlar kam, shuning uchun 10% test uchun olamiz"
      ]
    },
    {
      "cell_type": "code",
      "execution_count": 17,
      "id": "1e853424-9ba2-4eef-8e9f-895a882c4ae1",
      "metadata": {
        "id": "1e853424-9ba2-4eef-8e9f-895a882c4ae1"
      },
      "outputs": [],
      "source": [
        "from sklearn.model_selection import train_test_split\n",
        "train_set, test_set = train_test_split(housing, test_size=0.10, random_state=42)"
      ]
    },
    {
      "cell_type": "markdown",
      "id": "d14b199f-df27-4873-adf4-32a4cfb7d6fb",
      "metadata": {
        "id": "d14b199f-df27-4873-adf4-32a4cfb7d6fb"
      },
      "source": [
        "Linear Regression ML"
      ]
    },
    {
      "cell_type": "code",
      "execution_count": 18,
      "id": "1d345e56-5487-48c9-b2f5-6f90aff366c8",
      "metadata": {
        "colab": {
          "base_uri": "https://localhost:8080/"
        },
        "id": "1d345e56-5487-48c9-b2f5-6f90aff366c8",
        "outputId": "8f275b2e-0339-46e0-96c6-ab55c89ca900"
      },
      "outputs": [
        {
          "output_type": "stream",
          "name": "stdout",
          "text": [
            "theta1=np.float64(732.7784051414766)\n",
            "theta0=np.float64(106.31843170110369)\n"
          ]
        }
      ],
      "source": [
        "from sklearn import linear_model\n",
        "LR_model = linear_model.LinearRegression()\n",
        "\n",
        "x_train = np.asanyarray(train_set[['size']])\n",
        "y_train = np.asanyarray(train_set[['price']])\n",
        "\n",
        "# Modelni tarbiyalaymiz (train)\n",
        "LR_model.fit(x_train, y_train)\n",
        "\n",
        "#theta1 va theta0 koeefisentlarni ajratib olamiz\n",
        "theta1 = LR_model.coef_[0][0]\n",
        "theta0 = LR_model.intercept_[0]\n",
        "print (f'{theta1=}')\n",
        "print (f'{theta0=}')"
      ]
    },
    {
      "cell_type": "markdown",
      "id": "b6fa7340-b22d-45db-8f03-cac59a6cfc67",
      "metadata": {
        "id": "b6fa7340-b22d-45db-8f03-cac59a6cfc67"
      },
      "source": [
        "$\\theta_0$ va $\\theta_1$ qiymatlari yordamida to'g'ri chiziq chizamiz"
      ]
    },
    {
      "cell_type": "code",
      "execution_count": 19,
      "id": "50896dbe-97eb-4033-aba2-5d4e48662030",
      "metadata": {
        "colab": {
          "base_uri": "https://localhost:8080/",
          "height": 560
        },
        "id": "50896dbe-97eb-4033-aba2-5d4e48662030",
        "outputId": "f6028b6f-582e-4164-dfb9-59e1feacfe6b"
      },
      "outputs": [
        {
          "output_type": "execute_result",
          "data": {
            "text/plain": [
              "Text(0, 0.5, 'Price')"
            ]
          },
          "metadata": {},
          "execution_count": 19
        },
        {
          "output_type": "display_data",
          "data": {
            "text/plain": [
              "<Figure size 1000x600 with 1 Axes>"
            ],
            "image/png": "[encoded data removed]"
          },
          "metadata": {}
        }
      ],
      "source": [
        "plt.figure(figsize=(10,6))\n",
        "sns.scatterplot(data=housing, x='size', y='price')\n",
        "plt.plot(x_train, theta1*x_train + theta0, '-r')\n",
        "plt.xlabel(\"Size\")\n",
        "plt.ylabel(\"Price\")"
      ]
    },
    {
      "cell_type": "markdown",
      "id": "f65ab784-b7cf-4fd2-8112-12d338ff10e7",
      "metadata": {
        "id": "f65ab784-b7cf-4fd2-8112-12d338ff10e7"
      },
      "source": [
        "### Modelni baholaymiz"
      ]
    },
    {
      "cell_type": "code",
      "execution_count": 20,
      "id": "f53f89b8-3541-4b9c-ac44-b3444f279f8b",
      "metadata": {
        "id": "f53f89b8-3541-4b9c-ac44-b3444f279f8b"
      },
      "outputs": [],
      "source": [
        "x_test = np.asanyarray(test_set[['size']])\n",
        "y_test = np.asanyarray(test_set[['price']])"
      ]
    },
    {
      "cell_type": "code",
      "execution_count": 21,
      "id": "d7fd85ff-baa9-49bd-9af6-b3a1ddec47a4",
      "metadata": {
        "id": "d7fd85ff-baa9-49bd-9af6-b3a1ddec47a4"
      },
      "outputs": [],
      "source": [
        "y_predict = LR_model.predict(x_test)"
      ]
    },
    {
      "cell_type": "code",
      "execution_count": 22,
      "id": "d18368a1-bd8f-4841-bbca-848c3207c7b5",
      "metadata": {
        "colab": {
          "base_uri": "https://localhost:8080/"
        },
        "id": "d18368a1-bd8f-4841-bbca-848c3207c7b5",
        "outputId": "7522ba46-113e-4d3b-abc8-f16c7bc63e61"
      },
      "outputs": [
        {
          "output_type": "stream",
          "name": "stdout",
          "text": [
            "MAE=7269.709648262382\n",
            "RMSE=np.float64(12734.803748258666)\n"
          ]
        }
      ],
      "source": [
        "from sklearn.metrics import mean_absolute_error, mean_squared_error\n",
        "\n",
        "MAE = mean_absolute_error(y_test, y_predict)\n",
        "RMSE = np.sqrt(mean_squared_error(y_test, y_predict))\n",
        "print(f\"{MAE=}\")\n",
        "print(f\"{RMSE=}\")"
      ]
    }
  ],
  "metadata": {
    "language_info": {
      "name": "python"
    },
    "colab": {
      "provenance": [],
      "include_colab_link": true
    },
    "kernelspec": {
      "name": "python3",
      "display_name": "Python 3"
    }
  },
  "nbformat": 4,
  "nbformat_minor": 5
}