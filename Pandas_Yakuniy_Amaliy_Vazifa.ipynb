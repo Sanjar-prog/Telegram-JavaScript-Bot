{
  "nbformat": 4,
  "nbformat_minor": 0,
  "metadata": {
    "colab": {
      "provenance": [],
      "include_colab_link": true
    },
    "kernelspec": {
      "name": "python3",
      "display_name": "Python 3"
    },
    "language_info": {
      "name": "python"
    }
  },
  "cells": [
    {
      "cell_type": "markdown",
      "metadata": {
        "id": "view-in-github",
        "colab_type": "text"
      },
      "source": [
        "<a href=\"https://colab.research.google.com/github/Sanjar-prog/Telegram-JavaScript-Bot/blob/main/Pandas_Yakuniy_Amaliy_Vazifa.ipynb\" target=\"_parent\"><img src=\"https://colab.research.google.com/assets/colab-badge.svg\" alt=\"Open In Colab\"/></a>"
      ]
    },
    {
      "cell_type": "markdown",
      "source": [
        "# Pandas kutubxonasiga doir bilimlaringizni mustaxkamlash uchun mashqlar!\n",
        "\n",
        "Hurmatli o'quvchi, bilimingizni yanada mustaxkamlashingiz va chuqurroq ko'nikmalarga ega bo'lishingiz uchun sizga topshiriqlar tayyorladik. Sizga yengillik yaratish maqsadida topshiriqlarni `📌Mavzulashtirdik`"
      ],
      "metadata": {
        "id": "k-wg58lT3IuO"
      }
    },
    {
      "cell_type": "markdown",
      "source": [
        "## `📌Pandas kutubxonasini yuklash`\n",
        "\n",
        "**1.** Pandas kutubxonasini `pd` nomi ostida yuklang va pandas kutubxonasini chop eting."
      ],
      "metadata": {
        "id": "loNFiQaN5ON7"
      }
    },
    {
      "cell_type": "code",
      "execution_count": 1,
      "metadata": {
        "id": "KlhL3wXO2KwW",
        "colab": {
          "base_uri": "https://localhost:8080/"
        },
        "outputId": "5a9f7d30-c3a3-409f-8839-4eeeac9a9af4"
      },
      "outputs": [
        {
          "output_type": "stream",
          "name": "stdout",
          "text": [
            "<module 'pandas' from '/usr/local/lib/python3.11/dist-packages/pandas/__init__.py'>\n"
          ]
        }
      ],
      "source": [
        "import pandas as pd\n",
        "\n",
        "print(pd)\n"
      ]
    },
    {
      "cell_type": "markdown",
      "source": [
        "**2.** Versiya va konfiguratsiyani tekshiring."
      ],
      "metadata": {
        "id": "7sdF8P3i6Mjn"
      }
    },
    {
      "cell_type": "code",
      "source": [
        "print(pd.show_versions())  # Pandas va bog‘liq kutubxonalar haqida ma’lumot\n"
      ],
      "metadata": {
        "id": "G_HPA6Uz6XKH",
        "colab": {
          "base_uri": "https://localhost:8080/"
        },
        "outputId": "1906770d-c9dc-4140-a0a7-25e2a71ce371"
      },
      "execution_count": 2,
      "outputs": [
        {
          "output_type": "stream",
          "name": "stderr",
          "text": [
            "/usr/local/lib/python3.11/dist-packages/_distutils_hack/__init__.py:31: UserWarning: Setuptools is replacing distutils. Support for replacing an already imported distutils is deprecated. In the future, this condition will fail. Register concerns at https://github.com/pypa/setuptools/issues/new?template=distutils-deprecation.yml\n",
            "  warnings.warn(\n"
          ]
        },
        {
          "output_type": "stream",
          "name": "stdout",
          "text": [
            "\n",
            "INSTALLED VERSIONS\n",
            "------------------\n",
            "commit                : d9cdd2ee5a58015ef6f4d15c7226110c9aab8140\n",
            "python                : 3.11.11.final.0\n",
            "python-bits           : 64\n",
            "OS                    : Linux\n",
            "OS-release            : 6.1.85+\n",
            "Version               : #1 SMP PREEMPT_DYNAMIC Thu Jun 27 21:05:47 UTC 2024\n",
            "machine               : x86_64\n",
            "processor             : x86_64\n",
            "byteorder             : little\n",
            "LC_ALL                : en_US.UTF-8\n",
            "LANG                  : en_US.UTF-8\n",
            "LOCALE                : en_US.UTF-8\n",
            "\n",
            "pandas                : 2.2.2\n",
            "numpy                 : 1.26.4\n",
            "pytz                  : 2025.1\n",
            "dateutil              : 2.8.2\n",
            "setuptools            : 75.1.0\n",
            "pip                   : 24.1.2\n",
            "Cython                : 3.0.12\n",
            "pytest                : 8.3.4\n",
            "hypothesis            : None\n",
            "sphinx                : 8.1.3\n",
            "blosc                 : None\n",
            "feather               : None\n",
            "xlsxwriter            : None\n",
            "lxml.etree            : 5.3.1\n",
            "html5lib              : 1.1\n",
            "pymysql               : None\n",
            "psycopg2              : 2.9.10\n",
            "jinja2                : 3.1.5\n",
            "IPython               : 7.34.0\n",
            "pandas_datareader     : 0.10.0\n",
            "adbc-driver-postgresql: None\n",
            "adbc-driver-sqlite    : None\n",
            "bs4                   : 4.13.3\n",
            "bottleneck            : 1.4.2\n",
            "dataframe-api-compat  : None\n",
            "fastparquet           : None\n",
            "fsspec                : 2024.10.0\n",
            "gcsfs                 : 2024.10.0\n",
            "matplotlib            : 3.10.0\n",
            "numba                 : 0.61.0\n",
            "numexpr               : 2.10.2\n",
            "odfpy                 : None\n",
            "openpyxl              : 3.1.5\n",
            "pandas_gbq            : 0.28.0\n",
            "pyarrow               : 18.1.0\n",
            "pyreadstat            : None\n",
            "python-calamine       : None\n",
            "pyxlsb                : None\n",
            "s3fs                  : None\n",
            "scipy                 : 1.13.1\n",
            "sqlalchemy            : 2.0.38\n",
            "tables                : 3.10.2\n",
            "tabulate              : 0.9.0\n",
            "xarray                : 2025.1.2\n",
            "xlrd                  : 2.0.1\n",
            "zstandard             : 0.23.0\n",
            "tzdata                : 2025.1\n",
            "qtpy                  : None\n",
            "pyqt5                 : None\n",
            "None\n"
          ]
        }
      ]
    },
    {
      "cell_type": "markdown",
      "source": [
        "**3.** Pandas kutubxonasida mavjud bo'lgan barcha versiya ma'lumotlarini chop eting."
      ],
      "metadata": {
        "id": "KUw4Ju9H6jeA"
      }
    },
    {
      "cell_type": "code",
      "source": [
        "import pandas as pd\n",
        "\n",
        "pd.show_versions()\n"
      ],
      "metadata": {
        "id": "zSxaU78l6y5R",
        "colab": {
          "base_uri": "https://localhost:8080/"
        },
        "outputId": "9f88162a-a5b2-422f-f4e9-71808a0def27"
      },
      "execution_count": 3,
      "outputs": [
        {
          "output_type": "stream",
          "name": "stdout",
          "text": [
            "\n",
            "INSTALLED VERSIONS\n",
            "------------------\n",
            "commit                : d9cdd2ee5a58015ef6f4d15c7226110c9aab8140\n",
            "python                : 3.11.11.final.0\n",
            "python-bits           : 64\n",
            "OS                    : Linux\n",
            "OS-release            : 6.1.85+\n",
            "Version               : #1 SMP PREEMPT_DYNAMIC Thu Jun 27 21:05:47 UTC 2024\n",
            "machine               : x86_64\n",
            "processor             : x86_64\n",
            "byteorder             : little\n",
            "LC_ALL                : en_US.UTF-8\n",
            "LANG                  : en_US.UTF-8\n",
            "LOCALE                : en_US.UTF-8\n",
            "\n",
            "pandas                : 2.2.2\n",
            "numpy                 : 1.26.4\n",
            "pytz                  : 2025.1\n",
            "dateutil              : 2.8.2\n",
            "setuptools            : 75.1.0\n",
            "pip                   : 24.1.2\n",
            "Cython                : 3.0.12\n",
            "pytest                : 8.3.4\n",
            "hypothesis            : None\n",
            "sphinx                : 8.1.3\n",
            "blosc                 : None\n",
            "feather               : None\n",
            "xlsxwriter            : None\n",
            "lxml.etree            : 5.3.1\n",
            "html5lib              : 1.1\n",
            "pymysql               : None\n",
            "psycopg2              : 2.9.10\n",
            "jinja2                : 3.1.5\n",
            "IPython               : 7.34.0\n",
            "pandas_datareader     : 0.10.0\n",
            "adbc-driver-postgresql: None\n",
            "adbc-driver-sqlite    : None\n",
            "bs4                   : 4.13.3\n",
            "bottleneck            : 1.4.2\n",
            "dataframe-api-compat  : None\n",
            "fastparquet           : None\n",
            "fsspec                : 2024.10.0\n",
            "gcsfs                 : 2024.10.0\n",
            "matplotlib            : 3.10.0\n",
            "numba                 : 0.61.0\n",
            "numexpr               : 2.10.2\n",
            "odfpy                 : None\n",
            "openpyxl              : 3.1.5\n",
            "pandas_gbq            : 0.28.0\n",
            "pyarrow               : 18.1.0\n",
            "pyreadstat            : None\n",
            "python-calamine       : None\n",
            "pyxlsb                : None\n",
            "s3fs                  : None\n",
            "scipy                 : 1.13.1\n",
            "sqlalchemy            : 2.0.38\n",
            "tables                : 3.10.2\n",
            "tabulate              : 0.9.0\n",
            "xarray                : 2025.1.2\n",
            "xlrd                  : 2.0.1\n",
            "zstandard             : 0.23.0\n",
            "tzdata                : 2025.1\n",
            "qtpy                  : None\n",
            "pyqt5                 : None\n"
          ]
        }
      ]
    },
    {
      "cell_type": "markdown",
      "source": [
        "## `📌DataFrame: Asoslar`\n",
        "\n",
        "DataFrames-da ma'lumotlarni tanlash(selecting), saralash(sorting), qo'shish(adding) va yig'ish(aggregating) uchun bir nechta asosiy mashqlar.\n",
        "\n",
        "💡Eslatma: NumPy kutubxonasini import qilishni unutmang:\n",
        "``` python\n",
        "import numpy as np\n",
        "```\n",
        "\n",
        "Quyidagi Python lug'ati(dictionary) `data` va Python ro'yxati(list) `labels` ni ko'rib chiqing:\n",
        "\n",
        "\n",
        "``` python\n",
        "data = {'animal': ['cat', 'cat', 'snake', 'dog', 'dog', 'cat', 'snake', 'cat', 'dog', 'dog'],\n",
        "        'age': [2.5, 3, 0.5, np.nan, 5, 2, 4.5, np.nan, 7, 3],\n",
        "        'visits': [1, 3, 2, 3, 2, 3, 1, 1, 2, 1],\n",
        "        'priority': ['yes', 'yes', 'no', 'yes', 'no', 'no', 'no', 'yes', 'no', 'no']}\n",
        "\n",
        "labels = ['a', 'b', 'c', 'd', 'e', 'f', 'g', 'h', 'i', 'j']\n",
        "```\n",
        "\n"
      ],
      "metadata": {
        "id": "FE1WM5tv7IAW"
      }
    },
    {
      "cell_type": "code",
      "source": [],
      "metadata": {
        "id": "Ew5U-HsGtlSP"
      },
      "execution_count": null,
      "outputs": []
    },
    {
      "cell_type": "code",
      "source": [],
      "metadata": {
        "id": "fSbVfMTprBRo"
      },
      "execution_count": null,
      "outputs": []
    },
    {
      "cell_type": "markdown",
      "source": [
        "**4.** Ushbu `lug'at`(dictionary) yordamida `data` dan `labels` indeksiga ega DataFrame yarating."
      ],
      "metadata": {
        "id": "I-sQqjsEWqH8"
      }
    },
    {
      "cell_type": "code",
      "source": [
        "import numpy as np\n",
        "\n",
        "data = {'animal': ['cat', 'cat', 'snake', 'dog', 'dog', 'cat', 'snake', 'cat', 'dog', 'dog'],\n",
        "        'age': [2.5, 3, 0.5, np.nan, 5, 2, 4.5, np.nan, 7, 3],\n",
        "        'visits': [1, 3, 2, 3, 2, 3, 1, 1, 2, 1],\n",
        "        'priority': ['yes', 'yes', 'no', 'yes', 'no', 'no', 'no', 'yes', 'no', 'no']}\n",
        "\n",
        "labels = ['a', 'b', 'c', 'd', 'e', 'f', 'g', 'h', 'i', 'j']\n",
        "\n",
        "df = pd.DataFrame(data, index=labels)\n",
        "\n",
        "# Natijani chop etish\n",
        "print(df)"
      ],
      "metadata": {
        "id": "qAyjNW-TYj_O",
        "colab": {
          "base_uri": "https://localhost:8080/"
        },
        "outputId": "28aa15a7-727d-4188-e817-3c33d04a8d36"
      },
      "execution_count": 4,
      "outputs": [
        {
          "output_type": "stream",
          "name": "stdout",
          "text": [
            "  animal  age  visits priority\n",
            "a    cat  2.5       1      yes\n",
            "b    cat  3.0       3      yes\n",
            "c  snake  0.5       2       no\n",
            "d    dog  NaN       3      yes\n",
            "e    dog  5.0       2       no\n",
            "f    cat  2.0       3       no\n",
            "g  snake  4.5       1       no\n",
            "h    cat  NaN       1      yes\n",
            "i    dog  7.0       2       no\n",
            "j    dog  3.0       1       no\n"
          ]
        }
      ]
    },
    {
      "cell_type": "markdown",
      "source": [
        "**5.** Ushbu DataFrame va uning ma'lumotlari haqidagi asosiy ma'lumotlarning qisqacha mazmunini ko'rsating.\n",
        "\n",
        "`💡Ishora:` DataFrame-da chaqirilishi mumkin bo'lgan yagona usul mavjud."
      ],
      "metadata": {
        "id": "qqkr6CnUYuDA"
      }
    },
    {
      "cell_type": "code",
      "source": [
        "print(df.info())\n"
      ],
      "metadata": {
        "id": "-FybHrHst7tF",
        "colab": {
          "base_uri": "https://localhost:8080/"
        },
        "outputId": "42412096-b44f-4145-a59c-ee3b75024834"
      },
      "execution_count": 5,
      "outputs": [
        {
          "output_type": "stream",
          "name": "stdout",
          "text": [
            "<class 'pandas.core.frame.DataFrame'>\n",
            "Index: 10 entries, a to j\n",
            "Data columns (total 4 columns):\n",
            " #   Column    Non-Null Count  Dtype  \n",
            "---  ------    --------------  -----  \n",
            " 0   animal    10 non-null     object \n",
            " 1   age       8 non-null      float64\n",
            " 2   visits    10 non-null     int64  \n",
            " 3   priority  10 non-null     object \n",
            "dtypes: float64(1), int64(1), object(2)\n",
            "memory usage: 400.0+ bytes\n",
            "None\n"
          ]
        }
      ]
    },
    {
      "cell_type": "markdown",
      "source": [
        "**6.** DataFrame `df` dastlabki 3 qatorini qaytaring."
      ],
      "metadata": {
        "id": "ATWpnkdPfLql"
      }
    },
    {
      "cell_type": "code",
      "source": [
        "print(df.head(3))\n"
      ],
      "metadata": {
        "id": "zoc38z_Na2GN",
        "colab": {
          "base_uri": "https://localhost:8080/"
        },
        "outputId": "f00b0307-5423-47f7-a43b-070fceea437e"
      },
      "execution_count": 6,
      "outputs": [
        {
          "output_type": "stream",
          "name": "stdout",
          "text": [
            "  animal  age  visits priority\n",
            "a    cat  2.5       1      yes\n",
            "b    cat  3.0       3      yes\n",
            "c  snake  0.5       2       no\n"
          ]
        }
      ]
    },
    {
      "cell_type": "code",
      "source": [],
      "metadata": {
        "id": "x0-WzS9WuIGU"
      },
      "execution_count": null,
      "outputs": []
    },
    {
      "cell_type": "markdown",
      "source": [
        "**7.** DataFrame `df`-dan faqat `animal` va `age` ustunlarini tanlang."
      ],
      "metadata": {
        "id": "AOBlGGnBXjME"
      }
    },
    {
      "cell_type": "code",
      "source": [
        "print(df[['animal', 'age']])\n"
      ],
      "metadata": {
        "id": "mhXMdjqC9_u6",
        "colab": {
          "base_uri": "https://localhost:8080/"
        },
        "outputId": "496a0fc3-a791-4d81-c388-e07819fd8235"
      },
      "execution_count": 7,
      "outputs": [
        {
          "output_type": "stream",
          "name": "stdout",
          "text": [
            "  animal  age\n",
            "a    cat  2.5\n",
            "b    cat  3.0\n",
            "c  snake  0.5\n",
            "d    dog  NaN\n",
            "e    dog  5.0\n",
            "f    cat  2.0\n",
            "g  snake  4.5\n",
            "h    cat  NaN\n",
            "i    dog  7.0\n",
            "j    dog  3.0\n"
          ]
        }
      ]
    },
    {
      "cell_type": "markdown",
      "source": [
        "**8.** `[3, 4, 8]` va `['animal', 'age']` qatorlaridagi ma'lumotlarni tanlang."
      ],
      "metadata": {
        "id": "b_ATYbcVbJWR"
      }
    },
    {
      "cell_type": "code",
      "source": [
        "print(df.loc[df.index[[3, 4, 8]], ['animal', 'age']])\n"
      ],
      "metadata": {
        "id": "MxaWtISIbEcc",
        "colab": {
          "base_uri": "https://localhost:8080/"
        },
        "outputId": "f909a909-4d89-4873-f01d-038066cf7879"
      },
      "execution_count": 8,
      "outputs": [
        {
          "output_type": "stream",
          "name": "stdout",
          "text": [
            "  animal  age\n",
            "d    dog  NaN\n",
            "e    dog  5.0\n",
            "i    dog  7.0\n"
          ]
        }
      ]
    },
    {
      "cell_type": "markdown",
      "source": [
        "**9.** Faqat `visits` soni 3 tadan ko'p bo'lgan qatorlarni tanlang."
      ],
      "metadata": {
        "id": "WuCD7tPqcU3c"
      }
    },
    {
      "cell_type": "code",
      "source": [
        "print(df.loc[df['visits'] > 3])\n"
      ],
      "metadata": {
        "id": "NsbE4IXtclPm",
        "colab": {
          "base_uri": "https://localhost:8080/"
        },
        "outputId": "e4a689a6-a512-4212-eae7-b0fc5b92d0dc"
      },
      "execution_count": 9,
      "outputs": [
        {
          "output_type": "stream",
          "name": "stdout",
          "text": [
            "Empty DataFrame\n",
            "Columns: [animal, age, visits, priority]\n",
            "Index: []\n"
          ]
        }
      ]
    },
    {
      "cell_type": "markdown",
      "source": [
        "10. Yosh yo'qolgan qatorlarni tanlang, ya'ni `NaN`"
      ],
      "metadata": {
        "id": "I5JR1484dM9m"
      }
    },
    {
      "cell_type": "code",
      "source": [
        "print(df.loc[df['age'].isna()])\n"
      ],
      "metadata": {
        "id": "ljI_0EpidMRV",
        "colab": {
          "base_uri": "https://localhost:8080/"
        },
        "outputId": "1c657597-4364-428f-f731-df025c9df9c3"
      },
      "execution_count": 10,
      "outputs": [
        {
          "output_type": "stream",
          "name": "stdout",
          "text": [
            "  animal  age  visits priority\n",
            "d    dog  NaN       3      yes\n",
            "h    cat  NaN       1      yes\n"
          ]
        }
      ]
    },
    {
      "cell_type": "markdown",
      "source": [
        "**11.** `animal` qatoridagi `cat` va `age` qatoridagi `3` dan kichik bo'lgan umumiy qatorlarni tanlang."
      ],
      "metadata": {
        "id": "HiCT4089eVDF"
      }
    },
    {
      "cell_type": "code",
      "source": [
        "print(df.loc[(df['animal'] == 'cat') & (df['age'] < 3)])\n"
      ],
      "metadata": {
        "id": "msnPzl_Qe3UT",
        "colab": {
          "base_uri": "https://localhost:8080/"
        },
        "outputId": "a9353a1d-cb79-43b3-d518-dd56fbf087c3"
      },
      "execution_count": 11,
      "outputs": [
        {
          "output_type": "stream",
          "name": "stdout",
          "text": [
            "  animal  age  visits priority\n",
            "a    cat  2.5       1      yes\n",
            "f    cat  2.0       3       no\n"
          ]
        }
      ]
    },
    {
      "cell_type": "markdown",
      "source": [
        "**12.** `age` 2 va 4 (shu jumladan) orasidagi qatorlarni tanlang."
      ],
      "metadata": {
        "id": "AKvZAF1ue5DQ"
      }
    },
    {
      "cell_type": "code",
      "source": [
        "print(df.loc[(df['age'] >= 2) & (df['age'] <= 4)])\n"
      ],
      "metadata": {
        "id": "eyu9uhEkfHyX",
        "colab": {
          "base_uri": "https://localhost:8080/"
        },
        "outputId": "9fdd849f-87b6-41f4-ef0e-27a2edc288f9"
      },
      "execution_count": 12,
      "outputs": [
        {
          "output_type": "stream",
          "name": "stdout",
          "text": [
            "  animal  age  visits priority\n",
            "a    cat  2.5       1      yes\n",
            "b    cat  3.0       3      yes\n",
            "f    cat  2.0       3       no\n",
            "j    dog  3.0       1       no\n"
          ]
        }
      ]
    },
    {
      "cell_type": "markdown",
      "source": [
        "**13.** `f` qatoridagi yoshni `1,5` ga o'zgartiring."
      ],
      "metadata": {
        "id": "vQLVYkEzfJIV"
      }
    },
    {
      "cell_type": "code",
      "source": [
        "df.loc['f', 'age'] = 1.5\n"
      ],
      "metadata": {
        "id": "nLGJ2_nGfIwI"
      },
      "execution_count": 13,
      "outputs": []
    },
    {
      "cell_type": "markdown",
      "source": [
        "**14.** `df` yordamida `visits` qatorining yig'indisini hisoblang."
      ],
      "metadata": {
        "id": "2hhe5n8Ofhsg"
      }
    },
    {
      "cell_type": "code",
      "source": [
        "total_visits = df['visits'].sum()\n",
        "print(total_visits)\n"
      ],
      "metadata": {
        "id": "kq-v9ntkf0x1",
        "colab": {
          "base_uri": "https://localhost:8080/"
        },
        "outputId": "842f6ccb-2884-4103-afbf-122668aadaef"
      },
      "execution_count": 14,
      "outputs": [
        {
          "output_type": "stream",
          "name": "stdout",
          "text": [
            "19\n"
          ]
        }
      ]
    },
    {
      "cell_type": "markdown",
      "source": [
        "**15.** Har bir `animal` uchun o'rtacha yoshni `df` da hisoblang."
      ],
      "metadata": {
        "id": "OqIovNDzgnYS"
      }
    },
    {
      "cell_type": "code",
      "source": [
        "average_age_per_animal = df.groupby('animal')['age'].mean()\n",
        "print(average_age_per_animal)\n"
      ],
      "metadata": {
        "id": "013-dSK4gm1l",
        "colab": {
          "base_uri": "https://localhost:8080/"
        },
        "outputId": "d9067ac2-e913-4a53-c623-14733eba49c7"
      },
      "execution_count": 15,
      "outputs": [
        {
          "output_type": "stream",
          "name": "stdout",
          "text": [
            "animal\n",
            "cat      2.333333\n",
            "dog      5.000000\n",
            "snake    2.500000\n",
            "Name: age, dtype: float64\n"
          ]
        }
      ]
    },
    {
      "cell_type": "markdown",
      "source": [
        "**16.** `df` yordamida har bir turdagi `animal` sonini hisoblang."
      ],
      "metadata": {
        "id": "z7xyeyHtgtQR"
      }
    },
    {
      "cell_type": "code",
      "source": [
        "animal_count = df['animal'].value_counts()\n",
        "print(animal_count)\n"
      ],
      "metadata": {
        "id": "6n_Ese6bhD8-",
        "colab": {
          "base_uri": "https://localhost:8080/"
        },
        "outputId": "651127f3-5e3d-412b-d38c-048a910a87f4"
      },
      "execution_count": 16,
      "outputs": [
        {
          "output_type": "stream",
          "name": "stdout",
          "text": [
            "animal\n",
            "cat      4\n",
            "dog      4\n",
            "snake    2\n",
            "Name: count, dtype: int64\n"
          ]
        }
      ]
    },
    {
      "cell_type": "markdown",
      "source": [
        "**17.** `animal` ustunida, `snake` so'zini `python` so'ziga o'zgartiring."
      ],
      "metadata": {
        "id": "08iUPbLChLs4"
      }
    },
    {
      "cell_type": "code",
      "source": [
        "df['animal'] = df['animal'].replace('snake', 'python')\n",
        "print(df)\n"
      ],
      "metadata": {
        "id": "wpB4tx1HhLAD",
        "colab": {
          "base_uri": "https://localhost:8080/"
        },
        "outputId": "d6d63bda-189c-4a0d-da27-97fe158bb5b6"
      },
      "execution_count": 17,
      "outputs": [
        {
          "output_type": "stream",
          "name": "stdout",
          "text": [
            "   animal  age  visits priority\n",
            "a     cat  2.5       1      yes\n",
            "b     cat  3.0       3      yes\n",
            "c  python  0.5       2       no\n",
            "d     dog  NaN       3      yes\n",
            "e     dog  5.0       2       no\n",
            "f     cat  1.5       3       no\n",
            "g  python  4.5       1       no\n",
            "h     cat  NaN       1      yes\n",
            "i     dog  7.0       2       no\n",
            "j     dog  3.0       1       no\n"
          ]
        }
      ]
    },
    {
      "cell_type": "markdown",
      "source": [
        "## `📌DataFrame: Murakkab`\n",
        "\n",
        "### Bir oz qiyinroq: to'g'ri javob olish uchun ikki yoki undan ortiq usullarni birlashtirish kerak bo'lishi mumkin\n",
        "\n",
        "Oldingi bo'lim DataFrame-ning asosiy, ammo muhim operatsiyalari bo'yicha vazifalarni jamlagan edi. Quyida ma'lumotlarni kesishingiz kerak bo'lgan mashqlar mavjud."
      ],
      "metadata": {
        "id": "KFl6Z8wthsiM"
      }
    },
    {
      "cell_type": "markdown",
      "source": [
        "**18.** Sizda butun sonlardan iborat `A` ustunli DataFrame `df` mavjud. Misol uchun:\n",
        "```python\n",
        "df = pd.DataFrame({'A': [1, 2, 2, 3, 4, 5, 5, 5, 6, 7, 7]})\n",
        "```\n",
        "\n",
        "Yuqoridagi qator bilan bir xil butun sonni o'z ichiga olgan qator yarating.\n",
        "\n",
        "\n",
        "💡Sizda quyidagi qiymatlarni o'z ichiga olgan ustun paydo bo'lishi kerak:\n",
        "\n",
        "```python\n",
        "1, 2, 3, 4, 5, 6, 7\n",
        "```"
      ],
      "metadata": {
        "id": "zzWMfSzqieof"
      }
    },
    {
      "cell_type": "code",
      "source": [],
      "metadata": {
        "id": "tcrSzGB5kVb6"
      },
      "execution_count": null,
      "outputs": []
    },
    {
      "cell_type": "markdown",
      "source": [
        "**19.** Raqamli qiymatlardan iborat DataFrame berildi\n",
        "\n",
        "```python\n",
        "df = pd.DataFrame(np.random.random(size=(5, 3))) # float qiymatlarining 5x3 o'lchovi\n",
        "```\n",
        "\n",
        "Qatordagi har bir elementdan satrning o'rtacha qiymatini qanday ayirish mumkin?"
      ],
      "metadata": {
        "id": "5PCk01pjj3Qr"
      }
    },
    {
      "cell_type": "code",
      "source": [],
      "metadata": {
        "id": "s_H3HZe00BxH"
      },
      "execution_count": null,
      "outputs": []
    },
    {
      "cell_type": "markdown",
      "source": [
        "**20.** Sizda 10 ta haqiqiy raqamlar ustunidan iborat DataFrame mavjud:\n",
        "\n",
        "``` python\n",
        "df = pd.DataFrame(np.random.random(size=(5, 10)), columns=list('abcdefghij'))\n",
        "```\n",
        "Qaysi sonlar ustunining yig'indisi eng kichik ekanini hisoblang. U ustunning yorlig'ini qaytaring."
      ],
      "metadata": {
        "id": "aH5N75d2kaIS"
      }
    },
    {
      "cell_type": "code",
      "source": [],
      "metadata": {
        "id": "UBom6RArkwsc"
      },
      "execution_count": null,
      "outputs": []
    },
    {
      "cell_type": "markdown",
      "source": [
        "**21.** Quyida butun sonlardan iborat DataFrame `df` mavjud. Har bir satrga  5 ta yozuv `NaN` qiymatlari kiritilgan.\n",
        "\n",
        "DataFrame ning har bir qatori uchun uchinchi `NaN` qiymatini o'z ichiga olgan ustunni toping.\n",
        "\n",
        "Ustun yorliqlarini qaytarishingiz kerak: `e, c, d, h, d`"
      ],
      "metadata": {
        "id": "cFy6Z7UPkyYz"
      }
    },
    {
      "cell_type": "code",
      "source": [
        "nan = np.nan\n",
        "data = [[0.04,  nan,  nan, 0.25,  nan, 0.43, 0.71, 0.51,  nan,  nan],\n",
        "        [ nan,  nan,  nan, 0.04, 0.76,  nan,  nan, 0.67, 0.76, 0.16],\n",
        "        [ nan,  nan, 0.5 ,  nan, 0.31, 0.4 ,  nan,  nan, 0.24, 0.01],\n",
        "        [0.49,  nan,  nan, 0.62, 0.73, 0.26, 0.85,  nan,  nan,  nan],\n",
        "        [ nan,  nan, 0.41,  nan, 0.05,  nan, 0.61,  nan, 0.48, 0.68]]\n",
        "\n",
        "columns = list('abcdefghij')\n",
        "\n",
        "df = pd.DataFrame(data, columns=columns)\n",
        "\n",
        "# Javobni bu yerga yozing!\n",
        "df = pd.DataFrame({'A': [1, 2, 2, 3, 4, 5, 5, 5, 6, 7, 7]})\n",
        "unique_values = df['A'].unique()\n",
        "print(unique_values)\n"
      ],
      "metadata": {
        "id": "cIjzxMY0nmZX",
        "colab": {
          "base_uri": "https://localhost:8080/"
        },
        "outputId": "3f130f9c-d580-4075-cc70-385a50c42111"
      },
      "execution_count": 19,
      "outputs": [
        {
          "output_type": "stream",
          "name": "stdout",
          "text": [
            "[1 2 3 4 5 6 7]\n"
          ]
        }
      ]
    },
    {
      "cell_type": "markdown",
      "source": [
        "**22.** DataFrame `grps` guruhlari ustuniga va `vals` butun qiymatlari ustuniga ega:\n",
        "\n",
        "```python\n",
        "df = pd.DataFrame({'grps': list('aaabbcaabcccbbc'),\n",
        "                   'vals': [12,345,3,1,45,14,4,52,54,23,235,21,57,3,87]})\n",
        "```\n",
        "Har bir `grps` uchun uchta eng katta qiymatning yig‘indisini toping.\n",
        "\n",
        "💡Javobni quyidagicha yakunlashingiz kerak:\n",
        "```\n",
        "grps\n",
        "a    409\n",
        "b    156\n",
        "c    345\n",
        "```"
      ],
      "metadata": {
        "id": "MNtSYovBn6j9"
      }
    },
    {
      "cell_type": "markdown",
      "source": [
        "     'a   a  a b  b  c a a  b  c  c   c  b  b  c'\n",
        "      12,345,3,1,45,14,4,52,54,23,235,21,57,3,87"
      ],
      "metadata": {
        "id": "T84zR5er3MNq"
      }
    },
    {
      "cell_type": "code",
      "source": [
        "# Javobni bu yerga yozing!\n",
        "import pandas as pd\n",
        "\n",
        "df = pd.DataFrame({'grps': list('aaabbcaabcccbbc'),\n",
        "                   'vals': [12, 345, 3, 1, 45, 14, 4, 52, 54, 23, 235, 21, 57, 3, 87]})\n",
        "\n",
        "# Har bir guruh uchun uchta eng katta qiymatni tanlash va yig'indi olish\n",
        "result = df.groupby('grps')['vals'].nlargest(3).groupby('grps').sum()\n",
        "print(result)\n"
      ],
      "metadata": {
        "id": "qUQxxMOLoUSj",
        "colab": {
          "base_uri": "https://localhost:8080/"
        },
        "outputId": "6f84ca61-2946-4390-f666-ce81222e5a8e"
      },
      "execution_count": 20,
      "outputs": [
        {
          "output_type": "stream",
          "name": "stdout",
          "text": [
            "grps\n",
            "a    409\n",
            "b    156\n",
            "c    345\n",
            "Name: vals, dtype: int64\n"
          ]
        }
      ]
    },
    {
      "cell_type": "markdown",
      "source": [
        "**23.** Quyida tuzilgan DataFrame `df` ikkita butun son ustuniga ega 'A' va 'B'. \"A\" dagi qiymatlar 1 dan 100 gacha (shu jumladan).\n",
        "\n",
        "“A” dagi har bir 10 ta ketma-ket butun sonlar guruhi uchun (ya’ni `(0, 10]`, `(10, 20]`, ...) 'B' ustunidagi mos qiymatlar yig'indisini hisoblang.\n",
        "\n",
        "Javob quyidagicha bo'lishi kerak:\n",
        "\n",
        "```\n",
        "A\n",
        "(0, 10]      635\n",
        "(10, 20]     360\n",
        "(20, 30]     315\n",
        "(30, 40]     306\n",
        "(40, 50]     750\n",
        "(50, 60]     284\n",
        "(60, 70]     424\n",
        "(70, 80]     526\n",
        "(80, 90]     835\n",
        "(90, 100]    852\n",
        "```"
      ],
      "metadata": {
        "id": "nkgP1SXKpGjU"
      }
    },
    {
      "cell_type": "code",
      "source": [
        "df = pd.DataFrame(np.random.RandomState(8765).randint(1, 101, size=(100, 2)), columns = [\"A\", \"B\"])\n",
        "\n",
        "# Javobni bu yerga yozing!\n",
        "\n",
        "import pandas as pd\n",
        "import numpy as np\n",
        "\n",
        "# DataFrame yaratish\n",
        "df = pd.DataFrame(np.random.RandomState(8765).randint(1, 101, size=(100, 2)), columns=[\"A\", \"B\"])\n",
        "\n",
        "# \"A\" ustuni bo'yicha intervallarni yaratish\n",
        "bins = pd.cut(df['A'], bins=range(0, 110, 10))\n",
        "\n",
        "# Har bir interval uchun \"B\" ustunining yig'indisini hisoblash\n",
        "result = df.groupby(bins)['B'].sum()\n",
        "print(result)\n"
      ],
      "metadata": {
        "id": "tHxtASQ4pR81",
        "colab": {
          "base_uri": "https://localhost:8080/"
        },
        "outputId": "19fa8ef9-112f-4a91-bf3d-7bdaab4b9172"
      },
      "execution_count": 21,
      "outputs": [
        {
          "output_type": "stream",
          "name": "stdout",
          "text": [
            "A\n",
            "(0, 10]      635\n",
            "(10, 20]     360\n",
            "(20, 30]     315\n",
            "(30, 40]     306\n",
            "(40, 50]     750\n",
            "(50, 60]     284\n",
            "(60, 70]     424\n",
            "(70, 80]     526\n",
            "(80, 90]     835\n",
            "(90, 100]    852\n",
            "Name: B, dtype: int64\n"
          ]
        },
        {
          "output_type": "stream",
          "name": "stderr",
          "text": [
            "<ipython-input-21-d145d294b7c0>:15: FutureWarning: The default of observed=False is deprecated and will be changed to True in a future version of pandas. Pass observed=False to retain current behavior or observed=True to adopt the future default and silence this warning.\n",
            "  result = df.groupby(bins)['B'].sum()\n"
          ]
        }
      ]
    },
    {
      "cell_type": "markdown",
      "source": [
        "**24.** 'X' butun son ustuni bo'lgan DataFrame:\n",
        "```python\n",
        "df = pd.DataFrame({'X': [7, 2, 0, 3, 4, 2, 5, 0, 3, 4]})\n",
        "```\n",
        "\n",
        "Har bir qiymat uchun farqni oldingi nolga qaytaring.\n",
        "\n",
        "Sizda natija quyidagicha bo'lishi kerak:\n",
        "\n",
        "```\n",
        "[1, 2, 0, 1, 2, 3, 4, 0, 1, 2]\n",
        "```\n",
        "\n",
        "Buni yangi `Y` ustuni deb nomlang."
      ],
      "metadata": {
        "id": "MtP9tml0pnS0"
      }
    },
    {
      "cell_type": "code",
      "source": [
        "#javobni bu yerga yozing!\n",
        "import pandas as pd\n",
        "\n",
        "# DataFrame yaratish\n",
        "df = pd.DataFrame({'X': [7, 2, 0, 3, 4, 2, 5, 0, 3, 4]})\n",
        "\n",
        "# X ustuni bo'yicha farqni oldingi nolga qaytarish\n",
        "df['Y'] = df['X'].where(df['X'] != 0).cumsum() - df['X'].where(df['X'] == 0).cumsum()\n",
        "\n",
        "print(df['Y'].tolist())\n"
      ],
      "metadata": {
        "id": "otnbU5Gcd8aI",
        "colab": {
          "base_uri": "https://localhost:8080/"
        },
        "outputId": "b4c0cd03-224f-4047-ec25-e3fa4dfce28e"
      },
      "execution_count": 22,
      "outputs": [
        {
          "output_type": "stream",
          "name": "stdout",
          "text": [
            "[nan, nan, nan, nan, nan, nan, nan, nan, nan, nan]\n"
          ]
        }
      ]
    },
    {
      "cell_type": "markdown",
      "source": [
        "##`📌Ma'lumotlarni tozalash`\n",
        "\n",
        "Bu har doim sodir bo'ladi: kimdir sizga noto'g'ri tuzilgan satrlar, ro'yxatlar va yetishmayotgan ma'lumotlarni o'z ichiga olgan ma'lumotlarni beradi. Tahlilni davom ettirish uchun uni qanday tartibga keltirasiz?\n",
        "\n",
        "**25.** Quyidagi jumboqni tasavvur qilishi uchun ushbu misolni DataFrame sifatida oling:\n",
        "\n",
        "```python\n",
        "df = pd.DataFrame({'From_To': ['LoNDon_paris', 'MAdrid_miLAN', 'londON_StockhOlm',\n",
        "                               'Budapest_PaRis', 'Brussels_londOn'],\n",
        "              'FlightNumber': [10045, np.nan, 10065, np.nan, 10085],\n",
        "              'RecentDelays': [[23, 47], [], [24, 43, 87], [13], [67, 32]],\n",
        "                   'Airline': ['KLM(!)', '<Air France> (12)', '(British Airways. )',\n",
        "                               '12. Air France', '\"Swiss Air\"']})\n",
        "```\n",
        "Tartiblaganingizdan so'ng u quyidagi ko'rinishga ega bo'lishi kerak:\n",
        "\n",
        "```\n",
        "            From_To  FlightNumber  RecentDelays              Airline\n",
        "0      LoNDon_paris       10045.0      [23, 47]               KLM(!)\n",
        "1      MAdrid_miLAN           NaN            []    <Air France> (12)\n",
        "2  londON_StockhOlm       10065.0  [24, 43, 87]  (British Airways. )\n",
        "3    Budapest_PaRis           NaN          [13]       12. Air France\n",
        "4   Brussels_londOn       10085.0      [67, 32]          \"Swiss Air\"\n",
        "```\n"
      ],
      "metadata": {
        "id": "OUGK14zuquvK"
      }
    },
    {
      "cell_type": "code",
      "source": [
        "import pandas as pd\n",
        "import numpy as np\n",
        "\n",
        "# DataFrame yaratish\n",
        "df = pd.DataFrame({'From_To': ['LoNDon_paris', 'MAdrid_miLAN', 'londON_StockhOlm',\n",
        "                               'Budapest_PaRis', 'Brussels_londOn'],\n",
        "                   'FlightNumber': [10045, np.nan, 10065, np.nan, 10085],\n",
        "                   'RecentDelays': [[23, 47], [], [24, 43, 87], [13], [67, 32]],\n",
        "                   'Airline': ['KLM(!)', '<Air France> (12)', '(British Airways. )',\n",
        "                               '12. Air France', '\"Swiss Air\"']})\n",
        "\n",
        "# 1. 'From_To' ustunidagi qiymatlarni to'g'ri formatlash (barcha harflarni kichik qilish va qismlarini ajratish)\n",
        "df['From_To'] = df['From_To'].str.title().str.replace('_', ' ')\n",
        "\n",
        "# 2. 'FlightNumber' ustunidagi NaN qiymatlarni yaxshilash (ularni saqlash)\n",
        "df['FlightNumber'] = df['FlightNumber'].fillna(method='ffill')  # Oldingi qiymatni ko'chirib kelish\n",
        "\n",
        "# 3. 'Airline' ustunidagi noodatiy belgilarni tozalash (maxsus belgilarni olib tashlash)\n",
        "df['Airline'] = df['Airline'].str.replace('[^A-Za-z0-9 ]', '', regex=True)\n",
        "\n",
        "# 4. Barcha ustunlar formatlarini tekshirish\n",
        "print(df)\n"
      ],
      "metadata": {
        "id": "_4tV79cjpEzP",
        "colab": {
          "base_uri": "https://localhost:8080/"
        },
        "outputId": "f2bc34d1-0126-43ae-9601-865b25c63d1f"
      },
      "execution_count": 23,
      "outputs": [
        {
          "output_type": "stream",
          "name": "stdout",
          "text": [
            "            From_To  FlightNumber  RecentDelays           Airline\n",
            "0      London Paris       10045.0      [23, 47]               KLM\n",
            "1      Madrid Milan       10045.0            []     Air France 12\n",
            "2  London Stockholm       10065.0  [24, 43, 87]  British Airways \n",
            "3    Budapest Paris       10065.0          [13]     12 Air France\n",
            "4   Brussels London       10085.0      [67, 32]         Swiss Air\n"
          ]
        },
        {
          "output_type": "stream",
          "name": "stderr",
          "text": [
            "<ipython-input-23-9ae915ed1e71>:16: FutureWarning: Series.fillna with 'method' is deprecated and will raise in a future version. Use obj.ffill() or obj.bfill() instead.\n",
            "  df['FlightNumber'] = df['FlightNumber'].fillna(method='ffill')  # Oldingi qiymatni ko'chirib kelish\n"
          ]
        }
      ]
    },
    {
      "cell_type": "markdown",
      "source": [
        "**26.** **FlightNumber** ustunidagi ba'zi qiymatlar yo'q. Ular `NaN` ko'rinishida yozilgan. Bu raqamlar har bir qatorda 10 ga ko'payishi kerak, shuning uchun 10055 va 10075 ni qo'yish kerak. Ushbu yetishmayotgan raqamlarni to'ldirish uchun `df` ni o'zgartiring va ustunni butun son ustuniga aylantiring."
      ],
      "metadata": {
        "id": "76jDh3Ggty8y"
      }
    },
    {
      "cell_type": "code",
      "source": [
        "import pandas as pd\n",
        "import numpy as np\n",
        "\n",
        "# DataFrame yaratish\n",
        "df = pd.DataFrame({'From_To': ['LoNDon_paris', 'MAdrid_miLAN', 'londON_StockhOlm',\n",
        "                               'Budapest_PaRis', 'Brussels_londOn'],\n",
        "                   'FlightNumber': [10045, np.nan, 10065, np.nan, 10085],\n",
        "                   'RecentDelays': [[23, 47], [], [24, 43, 87], [13], [67, 32]],\n",
        "                   'Airline': ['KLM(!)', '<Air France> (12)', '(British Airways. )',\n",
        "                               '12. Air France', '\"Swiss Air\"']})\n",
        "\n",
        "# FlightNumber ustunidagi NaN qiymatlarni 10 ga ko'paytirish\n",
        "df['FlightNumber'] = df['FlightNumber'].fillna(method='ffill') + 10  # NaN qiymatlarni oldingi qiymatga 10 qo'shish\n",
        "\n",
        "# FlightNumber ustunini butun son turiga o'zgartirish\n",
        "df['FlightNumber'] = df['FlightNumber'].astype(int)\n",
        "\n",
        "# Natijani ko'rsatish\n",
        "print(df)\n"
      ],
      "metadata": {
        "id": "jmKDfj71ut9W",
        "colab": {
          "base_uri": "https://localhost:8080/"
        },
        "outputId": "dc8dcbc2-d569-47c0-a9f0-5607b770bcfa"
      },
      "execution_count": 24,
      "outputs": [
        {
          "output_type": "stream",
          "name": "stdout",
          "text": [
            "            From_To  FlightNumber  RecentDelays              Airline\n",
            "0      LoNDon_paris         10055      [23, 47]               KLM(!)\n",
            "1      MAdrid_miLAN         10055            []    <Air France> (12)\n",
            "2  londON_StockhOlm         10075  [24, 43, 87]  (British Airways. )\n",
            "3    Budapest_PaRis         10075          [13]       12. Air France\n",
            "4   Brussels_londOn         10095      [67, 32]          \"Swiss Air\"\n"
          ]
        },
        {
          "output_type": "stream",
          "name": "stderr",
          "text": [
            "<ipython-input-24-ea944eeb2e15>:13: FutureWarning: Series.fillna with 'method' is deprecated and will raise in a future version. Use obj.ffill() or obj.bfill() instead.\n",
            "  df['FlightNumber'] = df['FlightNumber'].fillna(method='ffill') + 10  # NaN qiymatlarni oldingi qiymatga 10 qo'shish\n"
          ]
        }
      ]
    },
    {
      "cell_type": "markdown",
      "source": [
        "**27.** **From\\_To** ustunini ikkita alohida ustun ko'rinishida yozing.                                          \n",
        "\n",
        "To'g'ri qiymatlarga ega `temp` deb nomlangan yangi Temporary DataFrame berish uchun har bir satrni pastki chiziq chegarasiga ajrating.                                                                     Ushbu Temporary DataFrame ustunlarini `From` va `To` deb nomlang."
      ],
      "metadata": {
        "id": "1mJR50jltkDw"
      }
    },
    {
      "cell_type": "code",
      "source": [
        "import pandas as pd\n",
        "import numpy as np\n",
        "\n",
        "# DataFrame yaratish\n",
        "df = pd.DataFrame({'From_To': ['LoNDon_paris', 'MAdrid_miLAN', 'londON_StockhOlm',\n",
        "                               'Budapest_PaRis', 'Brussels_londOn'],\n",
        "                   'FlightNumber': [10045, np.nan, 10065, np.nan, 10085],\n",
        "                   'RecentDelays': [[23, 47], [], [24, 43, 87], [13], [67, 32]],\n",
        "                   'Airline': ['KLM(!)', '<Air France> (12)', '(British Airways. )',\n",
        "                               '12. Air France', '\"Swiss Air\"']})\n",
        "\n",
        "# From_To ustunini ajratish\n",
        "temp = df['From_To'].str.split('_', expand=True)  # pastki chiziq bo'yicha ajratish\n",
        "\n",
        "# Yangi ustunlarni nomlash\n",
        "temp.columns = ['From', 'To']\n",
        "\n",
        "# Asl DataFrame bilan qo'shish\n",
        "df = df.join(temp)\n",
        "\n",
        "# Natijani ko'rsatish\n",
        "print(df)\n"
      ],
      "metadata": {
        "id": "ho-RISv_u5v4",
        "colab": {
          "base_uri": "https://localhost:8080/"
        },
        "outputId": "ff6bb65e-9654-4ed1-84fe-2b6e91eda4fe"
      },
      "execution_count": 25,
      "outputs": [
        {
          "output_type": "stream",
          "name": "stdout",
          "text": [
            "            From_To  FlightNumber  RecentDelays              Airline  \\\n",
            "0      LoNDon_paris       10045.0      [23, 47]               KLM(!)   \n",
            "1      MAdrid_miLAN           NaN            []    <Air France> (12)   \n",
            "2  londON_StockhOlm       10065.0  [24, 43, 87]  (British Airways. )   \n",
            "3    Budapest_PaRis           NaN          [13]       12. Air France   \n",
            "4   Brussels_londOn       10085.0      [67, 32]          \"Swiss Air\"   \n",
            "\n",
            "       From         To  \n",
            "0    LoNDon      paris  \n",
            "1    MAdrid      miLAN  \n",
            "2    londON  StockhOlm  \n",
            "3  Budapest      PaRis  \n",
            "4  Brussels     londOn  \n"
          ]
        }
      ]
    },
    {
      "cell_type": "markdown",
      "source": [
        "**28.** Temporary DataFrame `temp` da shahar nomlari betartib yozilgan.Satrlarning faqat birinchi harfi katta yozilishi kerak.\n",
        "                                                                         (Masalan, \"londON\" \"London\" bo'lishi kerak.)"
      ],
      "metadata": {
        "id": "unOVLLaV0ZKi"
      }
    },
    {
      "cell_type": "code",
      "source": [
        "import pandas as pd\n",
        "import numpy as np\n",
        "\n",
        "# DataFrame yaratish\n",
        "df = pd.DataFrame({'From_To': ['LoNDon_paris', 'MAdrid_miLAN', 'londON_StockhOlm',\n",
        "                               'Budapest_PaRis', 'Brussels_londOn'],\n",
        "                   'FlightNumber': [10045, np.nan, 10065, np.nan, 10085],\n",
        "                   'RecentDelays': [[23, 47], [], [24, 43, 87], [13], [67, 32]],\n",
        "                   'Airline': ['KLM(!)', '<Air France> (12)', '(British Airways. )',\n",
        "                               '12. Air France', '\"Swiss Air\"']})\n",
        "\n",
        "# From_To ustunini ajratish\n",
        "temp = df['From_To'].str.split('_', expand=True)  # pastki chiziq bo'yicha ajratish\n",
        "\n",
        "# Yangi ustunlarni nomlash\n",
        "temp.columns = ['From', 'To']\n",
        "\n",
        "# Shahar nomlarini to'g'ri formatlash\n",
        "temp['From'] = temp['From'].str.capitalize()  # \"From\" ustunidagi shaharlarni formatlash\n",
        "temp['To'] = temp['To'].str.capitalize()      # \"To\" ustunidagi shaharlarni formatlash\n",
        "\n",
        "# Asl DataFrame bilan qo'shish\n",
        "df = df.join(temp)\n",
        "\n",
        "# Natijani ko'rsatish\n",
        "print(df)\n"
      ],
      "metadata": {
        "id": "x8NnJTBl0jSG",
        "colab": {
          "base_uri": "https://localhost:8080/"
        },
        "outputId": "8ff1a4c5-5e94-4df8-8fc7-d3acfe0bf7d3"
      },
      "execution_count": 26,
      "outputs": [
        {
          "output_type": "stream",
          "name": "stdout",
          "text": [
            "            From_To  FlightNumber  RecentDelays              Airline  \\\n",
            "0      LoNDon_paris       10045.0      [23, 47]               KLM(!)   \n",
            "1      MAdrid_miLAN           NaN            []    <Air France> (12)   \n",
            "2  londON_StockhOlm       10065.0  [24, 43, 87]  (British Airways. )   \n",
            "3    Budapest_PaRis           NaN          [13]       12. Air France   \n",
            "4   Brussels_londOn       10085.0      [67, 32]          \"Swiss Air\"   \n",
            "\n",
            "       From         To  \n",
            "0    London      Paris  \n",
            "1    Madrid      Milan  \n",
            "2    London  Stockholm  \n",
            "3  Budapest      Paris  \n",
            "4  Brussels     London  \n"
          ]
        }
      ]
    },
    {
      "cell_type": "markdown",
      "source": [
        "**29**. `Airline` ustunida aviakompaniya nomlari atrofida qoʻshimcha tinish belgilari va belgilar paydo boʻlganini koʻrishingiz mumkin. Faqat aviakompaniya nomini qoldiring. Masalan, ʻ'(British Airways. )'' `British Airways` ko'rinishida yozilishi kerak."
      ],
      "metadata": {
        "id": "W1Aqi9MAycD2"
      }
    },
    {
      "cell_type": "code",
      "source": [
        "import pandas as pd\n",
        "import numpy as np\n",
        "\n",
        "# DataFrame yaratish\n",
        "df = pd.DataFrame({'From_To': ['LoNDon_paris', 'MAdrid_miLAN', 'londON_StockhOlm',\n",
        "                               'Budapest_PaRis', 'Brussels_londOn'],\n",
        "                   'FlightNumber': [10045, np.nan, 10065, np.nan, 10085],\n",
        "                   'RecentDelays': [[23, 47], [], [24, 43, 87], [13], [67, 32]],\n",
        "                   'Airline': ['KLM(!)', '<Air France> (12)', '(British Airways. )',\n",
        "                               '12. Air France', '\"Swiss Air\"']})\n",
        "\n",
        "# Airline ustunidagi tinish belgilari va belgilarni olib tashlash\n",
        "df['Airline'] = df['Airline'].str.replace(r'[^\\w\\s]', '', regex=True)\n",
        "\n",
        "# Natijani ko'rsatish\n",
        "print(df)\n"
      ],
      "metadata": {
        "id": "jPq5G_w0yb0A",
        "colab": {
          "base_uri": "https://localhost:8080/"
        },
        "outputId": "b3e94aff-3e95-4d00-fee3-6942fe3a103d"
      },
      "execution_count": 27,
      "outputs": [
        {
          "output_type": "stream",
          "name": "stdout",
          "text": [
            "            From_To  FlightNumber  RecentDelays           Airline\n",
            "0      LoNDon_paris       10045.0      [23, 47]               KLM\n",
            "1      MAdrid_miLAN           NaN            []     Air France 12\n",
            "2  londON_StockhOlm       10065.0  [24, 43, 87]  British Airways \n",
            "3    Budapest_PaRis           NaN          [13]     12 Air France\n",
            "4   Brussels_londOn       10085.0      [67, 32]         Swiss Air\n"
          ]
        }
      ]
    },
    {
      "cell_type": "markdown",
      "source": [
        "**30.** `df` dan **From_To** ustunini o'chiring va Temporary DataFrame `temp` ustunini qo'shing."
      ],
      "metadata": {
        "id": "h6Rg_axE1duO"
      }
    },
    {
      "cell_type": "code",
      "source": [
        "# From_To' ustunini o'chirish\n",
        "# Check if 'From_To' column exists before dropping\n",
        "if 'From_To' in df.columns:\n",
        "  df = df.drop(columns=['From_To'])\n",
        "else:\n",
        "  print(\"Column 'From_To' not found in DataFrame\")\n",
        "\n",
        "# 'temp' ustunidagi 'From' va 'To' ustunlarini df ga qo'shish\n",
        "df['From'] = temp['From']  # 'From' ustunini df ga qo'shish\n",
        "df['To'] = temp['To']    # 'To' ustunini df ga qo'shish\n",
        "\n",
        "# Natijani ko'rsatish\n",
        "print(df)"
      ],
      "metadata": {
        "id": "4RfmBvN11ZRc",
        "colab": {
          "base_uri": "https://localhost:8080/"
        },
        "outputId": "c0401019-083a-4d7a-aded-be32338627f1"
      },
      "execution_count": 34,
      "outputs": [
        {
          "output_type": "stream",
          "name": "stdout",
          "text": [
            "Column 'From_To' not found in DataFrame\n",
            "   FlightNumber  RecentDelays           Airline      From         To\n",
            "0       10045.0      [23, 47]               KLM    London      Paris\n",
            "1           NaN            []     Air France 12    Madrid      Milan\n",
            "2       10065.0  [24, 43, 87]  British Airways     London  Stockholm\n",
            "3           NaN          [13]     12 Air France  Budapest      Paris\n",
            "4       10085.0      [67, 32]         Swiss Air  Brussels     London\n"
          ]
        }
      ]
    },
    {
      "cell_type": "markdown",
      "source": [
        "**31**. `RecentDelays` ustunida qiymatlar DataFrame-ga ro'yxat sifatida kiritilgan. Sizning vazifangiz birinchi qiymatni o'z ustunida, har bir ikkinchi qiymatni o'z ustunida va qolgan qiymatlar ham ustunga mos holda chop etish. Agar N-chi qiymat bo'lmasa, qiymat `NaN` deb nomlanishi kerak.\n",
        "\n",
        "Roʻyxatlar qatorini `delays` nomli DataFrame ichiga kengaytiring, `delay_1`, `delay_2` va qolgan ustunlarni ham nomlarini oʻzgartiring va `df` dagi keraksiz `RecentDelays` ustunini `delays` bilan almashtiring."
      ],
      "metadata": {
        "id": "bib5zzhTy6dQ"
      }
    },
    {
      "cell_type": "markdown",
      "source": [
        "Natija quyidagi ko'rinishda bo'lishi kerak:\n",
        "```\n",
        "   FlightNumber          Airline      From         To  delay_1  delay_2  delay_3\n",
        "0         10045              KLM    London      Paris     23.0     47.0      NaN\n",
        "1         10055       Air France    Madrid      Milan      NaN      NaN      NaN\n",
        "2         10065  British Airways    London  Stockholm     24.0     43.0     87.0\n",
        "3         10075       Air France  Budapest      Paris     13.0      NaN      NaN\n",
        "4         10085        Swiss Air  Brussels     London     67.0     32.0      NaN\n",
        "```"
      ],
      "metadata": {
        "id": "zerG3ZoL2KFV"
      }
    },
    {
      "cell_type": "code",
      "source": [
        "# RecentDelays ustunini kengaytirish\n",
        "delays = df['RecentDelays'].apply(pd.Series)\n",
        "\n",
        "# Ustun nomlarini delay_1, delay_2, delay_3... deb o'zgartirish\n",
        "delays.columns = [f'delay_{i+1}' for i in range(delays.shape[1])]\n",
        "\n",
        "# df ga delays ustunlarini qo'shish\n",
        "df = df.drop(columns=['RecentDelays']).join(delays)\n",
        "\n",
        "# Natijani ko'rsatish\n",
        "print(df)\n"
      ],
      "metadata": {
        "id": "W5dp_3rz2KlZ",
        "colab": {
          "base_uri": "https://localhost:8080/"
        },
        "outputId": "93585a0c-93fc-4a09-af0f-cf590b76e6f1"
      },
      "execution_count": 35,
      "outputs": [
        {
          "output_type": "stream",
          "name": "stdout",
          "text": [
            "   FlightNumber           Airline      From         To  delay_1  delay_2  \\\n",
            "0       10045.0               KLM    London      Paris     23.0     47.0   \n",
            "1           NaN     Air France 12    Madrid      Milan      NaN      NaN   \n",
            "2       10065.0  British Airways     London  Stockholm     24.0     43.0   \n",
            "3           NaN     12 Air France  Budapest      Paris     13.0      NaN   \n",
            "4       10085.0         Swiss Air  Brussels     London     67.0     32.0   \n",
            "\n",
            "   delay_3  \n",
            "0      NaN  \n",
            "1      NaN  \n",
            "2     87.0  \n",
            "3      NaN  \n",
            "4      NaN  \n"
          ]
        }
      ]
    },
    {
      "cell_type": "markdown",
      "source": [
        "##`📌Minesweeper`\n",
        "\n",
        "\n",
        "### Minesweeper tarmog'ida xavfsiz kvadratlar uchun raqamlar yaratamiz!\n",
        "\n",
        "💡 Agar siz Windowsning avvalgi versiyalaridan foydalangan bo'lsangiz, Minesweeper bilan tanishsiz:\n",
        "- https://en.wikipedia.org/wiki/Minesweeper_(video_game)"
      ],
      "metadata": {
        "id": "9ttYwM1C2oJ-"
      }
    },
    {
      "cell_type": "markdown",
      "source": [
        "Agar siz o'yin bilan tanish bo'lmasangiz, kvadratchalar to'plamini tasavvur qiling: bu kvadratlarning ba'zilari mineni yashiradi. Agar siz mineni bossangiz, darhol yo'qotasiz. Agar siz xavfsiz kvadratni bossangiz, darhol qo'shni bo'lgan kvadratchalarda qancha mine borligini ko'rsatadigan raqamni ko'rasiz. O'yinning maqsadi to'rdagi mine bo'lmagan barcha kvadratlarni ochishdir.\n",
        "\n",
        "Ushbu bo'limda biz Minesweeper o'yini uchun kerakli ma'lumotlarni o'z ichiga olgan DataFrame yaratamiz: kvadratlarning koordinatalari, kvadratda mine bormi va qo'shni kvadratlarda topilgan minelar sonini aniqlaymiz!"
      ],
      "metadata": {
        "id": "Z89Uhm534sVG"
      }
    },
    {
      "cell_type": "markdown",
      "source": [
        "**32**. Tasavvur qiling, biz Minesweeper o'yinini 5 dan 4 gacha bo'lgan panjarada o'ynayapmiz, ya'ni.\n",
        "```\n",
        "X = 5\n",
        "Y = 4\n",
        "```\n",
        "Boshlash uchun ikkita ustunli DataFrame `df` yarating, bu tarmoq uchun har bir koordinatani o'z ichiga olgan `'x'` va `'y'`. Ya'ni DataFrame ishga tushishi kerak:\n",
        "```\n",
        "    x y\n",
        "0 0 0\n",
        "1 0 1\n",
        "2 0 2\n",
        "```"
      ],
      "metadata": {
        "id": "JpyOTDSD5AtG"
      }
    },
    {
      "cell_type": "code",
      "source": [
        "import pandas as pd\n",
        "\n",
        "# Tarmoq o'lchamlari\n",
        "X = 5  # Ustunlar soni\n",
        "Y = 4  # Qatorlar soni\n",
        "\n",
        "# Har bir kvadratning koordinatalarini yaratish\n",
        "coordinates = [(x, y) for x in range(X) for y in range(Y)]\n",
        "\n",
        "# DataFrame yaratish\n",
        "df = pd.DataFrame(coordinates, columns=['x', 'y'])\n",
        "\n",
        "# Natijani ko'rsatish\n",
        "print(df)\n"
      ],
      "metadata": {
        "id": "bhQRTflC2t4t",
        "colab": {
          "base_uri": "https://localhost:8080/"
        },
        "outputId": "a490f503-9aef-4971-af24-0025da631abf"
      },
      "execution_count": 36,
      "outputs": [
        {
          "output_type": "stream",
          "name": "stdout",
          "text": [
            "    x  y\n",
            "0   0  0\n",
            "1   0  1\n",
            "2   0  2\n",
            "3   0  3\n",
            "4   1  0\n",
            "5   1  1\n",
            "6   1  2\n",
            "7   1  3\n",
            "8   2  0\n",
            "9   2  1\n",
            "10  2  2\n",
            "11  2  3\n",
            "12  3  0\n",
            "13  3  1\n",
            "14  3  2\n",
            "15  3  3\n",
            "16  4  0\n",
            "17  4  1\n",
            "18  4  2\n",
            "19  4  3\n"
          ]
        }
      ]
    },
    {
      "cell_type": "markdown",
      "source": [
        "**33**. Ushbu DataFrame `df` uchun yangi nol (safe) va birliklar (mine) ustunini yarating. Har bir joyda mine sodir bo'lish ehtimoli 0,4 bo'lishi kerak."
      ],
      "metadata": {
        "id": "D1-3t7ue5b-2"
      }
    },
    {
      "cell_type": "code",
      "source": [
        "import pandas as pd\n",
        "import numpy as np\n",
        "\n",
        "# Tarmoq o'lchamlari\n",
        "X = 5  # Ustunlar soni\n",
        "Y = 4  # Qatorlar soni\n",
        "\n",
        "# Har bir kvadratning koordinatalarini yaratish\n",
        "coordinates = [(x, y) for x in range(X) for y in range(Y)]\n",
        "\n",
        "# DataFrame yaratish\n",
        "df = pd.DataFrame(coordinates, columns=['x', 'y'])\n",
        "\n",
        "# Mine bo'lish ehtimoli\n",
        "mine_probability = 0.4\n",
        "\n",
        "# Tasodifiy mine (1) va safe (0) qiymatlarini yaratish\n",
        "df['mine'] = np.random.choice([0, 1], size=len(df), p=[1 - mine_probability, mine_probability])\n",
        "\n",
        "# Natijani ko'rsatish\n",
        "print(df)\n"
      ],
      "metadata": {
        "id": "TJeonP5E5n2u",
        "colab": {
          "base_uri": "https://localhost:8080/"
        },
        "outputId": "cb71e56d-8c62-4681-f01d-5a7fe1854c73"
      },
      "execution_count": 37,
      "outputs": [
        {
          "output_type": "stream",
          "name": "stdout",
          "text": [
            "    x  y  mine\n",
            "0   0  0     1\n",
            "1   0  1     0\n",
            "2   0  2     1\n",
            "3   0  3     1\n",
            "4   1  0     0\n",
            "5   1  1     1\n",
            "6   1  2     1\n",
            "7   1  3     0\n",
            "8   2  0     0\n",
            "9   2  1     1\n",
            "10  2  2     1\n",
            "11  2  3     1\n",
            "12  3  0     0\n",
            "13  3  1     0\n",
            "14  3  2     0\n",
            "15  3  3     0\n",
            "16  4  0     0\n",
            "17  4  1     0\n",
            "18  4  2     0\n",
            "19  4  3     1\n"
          ]
        }
      ]
    },
    {
      "cell_type": "markdown",
      "source": [
        " **34**. Endi ushbu DataFrame uchun `adjacent` nomli yangi ustun yarating. Ushbu ustunda tarmoqdagi qo'shni kvadratlarda topilgan minelar soni bo'lishi kerak.\n",
        "\n",
        "(Masalan, `(0, 0)` koordinatasi uchun yozuv bo'lgan birinchi qator uchun `(0, 1)`, `(1, 0)` va `(1) koordinatalarida qancha mine borligini hisoblang. , 1)`.)"
      ],
      "metadata": {
        "id": "XId_lWGn5vaI"
      }
    },
    {
      "cell_type": "code",
      "source": [
        "import pandas as pd\n",
        "import numpy as np\n",
        "\n",
        "# Tarmoq o'lchamlari\n",
        "X = 5  # Ustunlar soni\n",
        "Y = 4  # Qatorlar soni\n",
        "\n",
        "# Har bir kvadratning koordinatalarini yaratish\n",
        "coordinates = [(x, y) for x in range(X) for y in range(Y)]\n",
        "\n",
        "# DataFrame yaratish\n",
        "df = pd.DataFrame(coordinates, columns=['x', 'y'])\n",
        "\n",
        "# Mine bo'lish ehtimoli\n",
        "mine_probability = 0.4\n",
        "\n",
        "# Tasodifiy mine (1) va safe (0) qiymatlarini yaratish\n",
        "df['mine'] = np.random.choice([0, 1], size=len(df), p=[1 - mine_probability, mine_probability])\n",
        "\n",
        "# Qo'shni kvadratlarni hisoblash\n",
        "def count_adjacent_mines(x, y):\n",
        "    # Qo'shni kvadratlarning koordinatalari (yuqoridagi, pastdagi, chapdagi, o'ngdagi)\n",
        "    neighbors = [\n",
        "        (x-1, y-1), (x-1, y), (x-1, y+1),  # yuqoridagi 3 kvadrat\n",
        "        (x, y-1), (x, y+1),                 # chap va o'ngdagi kvadratlar\n",
        "        (x+1, y-1), (x+1, y), (x+1, y+1)   # pastdagi 3 kvadrat\n",
        "    ]\n",
        "\n",
        "    # Qo'shni kvadratlarda minelarni hisoblash\n",
        "    count = 0\n",
        "    for nx, ny in neighbors:\n",
        "        if 0 <= nx < X and 0 <= ny < Y:  # Koordinatlar to'g'ri chegarada bo'lsa\n",
        "            count += df.loc[(df['x'] == nx) & (df['y'] == ny), 'mine'].values[0]\n",
        "    return count\n",
        "\n",
        "# Har bir kvadrat uchun qo'shni minelar sonini hisoblab 'adjacent' ustunini yaratish\n",
        "df['adjacent'] = df.apply(lambda row: count_adjacent_mines(row['x'], row['y']), axis=1)\n",
        "\n",
        "# Natijani ko'rsatish\n",
        "print(df)\n"
      ],
      "metadata": {
        "id": "N5ANTKJ95vAO",
        "colab": {
          "base_uri": "https://localhost:8080/"
        },
        "outputId": "31d9a245-4258-49a7-eb5a-bb0ca92a2ac3"
      },
      "execution_count": 38,
      "outputs": [
        {
          "output_type": "stream",
          "name": "stdout",
          "text": [
            "    x  y  mine  adjacent\n",
            "0   0  0     0         0\n",
            "1   0  1     0         1\n",
            "2   0  2     0         1\n",
            "3   0  3     0         1\n",
            "4   1  0     0         0\n",
            "5   1  1     0         2\n",
            "6   1  2     1         1\n",
            "7   1  3     0         2\n",
            "8   2  0     0         1\n",
            "9   2  1     0         3\n",
            "10  2  2     1         2\n",
            "11  2  3     0         3\n",
            "12  3  0     1         0\n",
            "13  3  1     0         3\n",
            "14  3  2     0         4\n",
            "15  3  3     1         3\n",
            "16  4  0     0         1\n",
            "17  4  1     0         2\n",
            "18  4  2     1         2\n",
            "19  4  3     1         2\n"
          ]
        }
      ]
    },
    {
      "cell_type": "markdown",
      "source": [
        "**35**. Mineni o'z ichiga olgan DataFrame qatorlari uchun `adjacent` ustunidagi qiymatni `NaN` ga o'zgartiring."
      ],
      "metadata": {
        "id": "t0c0y_aE6NZ5"
      }
    },
    {
      "cell_type": "code",
      "source": [
        "# Mineni o'z ichiga olgan qatorlar uchun 'adjacent' ustunini NaN ga o'zgartirish\n",
        "df.loc[df['mine'] == 1, 'adjacent'] = np.nan\n",
        "\n",
        "# Natijani ko'rsatish\n",
        "print(df)\n"
      ],
      "metadata": {
        "id": "fW_V4Ff76aMK",
        "colab": {
          "base_uri": "https://localhost:8080/"
        },
        "outputId": "bcd59622-02be-4fc5-d460-5e5914b97ee1"
      },
      "execution_count": 39,
      "outputs": [
        {
          "output_type": "stream",
          "name": "stdout",
          "text": [
            "    x  y  mine  adjacent\n",
            "0   0  0     0       0.0\n",
            "1   0  1     0       1.0\n",
            "2   0  2     0       1.0\n",
            "3   0  3     0       1.0\n",
            "4   1  0     0       0.0\n",
            "5   1  1     0       2.0\n",
            "6   1  2     1       NaN\n",
            "7   1  3     0       2.0\n",
            "8   2  0     0       1.0\n",
            "9   2  1     0       3.0\n",
            "10  2  2     1       NaN\n",
            "11  2  3     0       3.0\n",
            "12  3  0     1       NaN\n",
            "13  3  1     0       3.0\n",
            "14  3  2     0       4.0\n",
            "15  3  3     1       NaN\n",
            "16  4  0     0       1.0\n",
            "17  4  1     0       2.0\n",
            "18  4  2     1       NaN\n",
            "19  4  3     1       NaN\n"
          ]
        }
      ]
    },
    {
      "cell_type": "markdown",
      "source": [
        "**36**. DataFrame-ni `adjacent` minelar sonining panjarasiga aylantiring: ustunlar `x` koordinatasi, qatorlar `y` koordinatasi."
      ],
      "metadata": {
        "id": "biBYkX_36edb"
      }
    },
    {
      "cell_type": "code",
      "source": [
        "# DataFrame-ni 'x' va 'y' ustunlaridan foydalangan holda panjara shaklida qayta tashkil qilish\n",
        "pivot_df = df.pivot(index='y', columns='x', values='adjacent')\n",
        "\n",
        "# Natijani ko'rsatish\n",
        "print(pivot_df)\n"
      ],
      "metadata": {
        "id": "vmfn_Tra6x24",
        "colab": {
          "base_uri": "https://localhost:8080/"
        },
        "outputId": "0019c11c-9528-479a-f4a1-431481722c7d"
      },
      "execution_count": 40,
      "outputs": [
        {
          "output_type": "stream",
          "name": "stdout",
          "text": [
            "x    0    1    2    3    4\n",
            "y                         \n",
            "0  0.0  0.0  1.0  NaN  1.0\n",
            "1  1.0  2.0  3.0  3.0  2.0\n",
            "2  1.0  NaN  NaN  4.0  NaN\n",
            "3  1.0  2.0  3.0  NaN  NaN\n"
          ]
        }
      ]
    },
    {
      "cell_type": "markdown",
      "source": [
        "##📌BONUS!\n",
        "\n",
        "O'zingiz javob berishni istagan savolni kiriting va unga javob bering!"
      ],
      "metadata": {
        "id": "kc7t7KCw6061"
      }
    },
    {
      "cell_type": "markdown",
      "source": [
        "## Pandas DataFrame'ini qanday qilib ma'lum bir ustun bo'yicha saralash mumkin?"
      ],
      "metadata": {
        "id": "_zlHunAKB1wl"
      }
    },
    {
      "cell_type": "code",
      "source": [
        "import pandas as pd\n",
        "\n",
        "# DataFrame yaratish\n",
        "df = pd.DataFrame({\n",
        "    'Name': ['Alice', 'Bob', 'Charlie', 'David'],\n",
        "    'Age': [25, 30, 35, 40],\n",
        "    'Score': [85, 92, 78, 88]\n",
        "})\n",
        "\n",
        "# 'Age' ustuni bo'yicha saralash\n",
        "df_sorted = df.sort_values(by='Age')\n",
        "\n",
        "# Natijani ko'rsatish\n",
        "print(df_sorted)\n"
      ],
      "metadata": {
        "id": "LICHEONU60hs",
        "colab": {
          "base_uri": "https://localhost:8080/"
        },
        "outputId": "200ca3c5-6b05-457a-b91c-75f2eeea7165"
      },
      "execution_count": 41,
      "outputs": [
        {
          "output_type": "stream",
          "name": "stdout",
          "text": [
            "      Name  Age  Score\n",
            "0    Alice   25     85\n",
            "1      Bob   30     92\n",
            "2  Charlie   35     78\n",
            "3    David   40     88\n"
          ]
        }
      ]
    }
  ]
}