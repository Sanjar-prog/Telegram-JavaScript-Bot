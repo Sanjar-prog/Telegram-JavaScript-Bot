{
  "cells": [
    {
      "cell_type": "markdown",
      "id": "55aafbc0-6fd9-4bbe-b932-27e68c069a8f",
      "metadata": {
        "id": "55aafbc0-6fd9-4bbe-b932-27e68c069a8f"
      },
      "source": [
        "![Imgur](https://i.imgur.com/5pXzCIu.png)\n",
        "\n",
        "# Data Science va Sun'iy Intellekt Praktikum\n",
        "\n",
        "## Ma'lumotlar tahlili. Pandas kutubxonasi.\n",
        "\n",
        "### 2.2.3 Foydali funksiyalar (davomi)"
      ]
    },
    {
      "cell_type": "markdown",
      "id": "422503c9-eede-4884-82b7-e2ed8c8345b0",
      "metadata": {
        "id": "422503c9-eede-4884-82b7-e2ed8c8345b0"
      },
      "source": [
        "### Arifmetik amallar"
      ]
    },
    {
      "cell_type": "markdown",
      "id": "88fb7c9c-6945-4a3a-b1d2-56e75e7234f7",
      "metadata": {
        "id": "88fb7c9c-6945-4a3a-b1d2-56e75e7234f7"
      },
      "source": [
        "Ikki `Series` yoki `DataFrame` obyektlari o'rtasida arifmetik amallar bajarishda indekslar juda muhim rol o'ynaydi.\n",
        "\n",
        "Amallar mos tushuvchi indekslar o'rtasida bajariladi. Agar obyektlarning birida mavjud indeks ikkinchisda yo'q bo'lsa natija `NaN` bo'ladi."
      ]
    },
    {
      "cell_type": "code",
      "execution_count": 17,
      "id": "515a30ff-5af0-4ab8-b82e-1c63ce944724",
      "metadata": {
        "id": "515a30ff-5af0-4ab8-b82e-1c63ce944724"
      },
      "outputs": [],
      "source": [
        "import pandas as pd\n",
        "import numpy as np"
      ]
    },
    {
      "cell_type": "code",
      "execution_count": 18,
      "id": "709d2a11-c86f-4925-9991-3f5baad7d1a5",
      "metadata": {
        "id": "709d2a11-c86f-4925-9991-3f5baad7d1a5"
      },
      "outputs": [],
      "source": [
        "s1 = pd.Series([7.3, -2.5, 3.4, 1.5], index=['a', 'c', 'd', 'e'])\n",
        "s2 = pd.Series([-2.1, 3.6, -1.5, 4, 3.1], index=['a', 'c', 'e', 'f', 'g'])"
      ]
    },
    {
      "cell_type": "code",
      "execution_count": 19,
      "id": "ac68ea47-80f8-42a8-8e65-d30039280ace",
      "metadata": {
        "colab": {
          "base_uri": "https://localhost:8080/",
          "height": 210
        },
        "id": "ac68ea47-80f8-42a8-8e65-d30039280ace",
        "outputId": "9f33ce34-ca15-4f01-fe8e-7ac3fdc367da"
      },
      "outputs": [
        {
          "output_type": "execute_result",
          "data": {
            "text/plain": [
              "a    7.3\n",
              "c   -2.5\n",
              "d    3.4\n",
              "e    1.5\n",
              "dtype: float64"
            ],
            "text/html": [
              "<div>\n",
              "<style scoped>\n",
              "    .dataframe tbody tr th:only-of-type {\n",
              "        vertical-align: middle;\n",
              "    }\n",
              "\n",
              "    .dataframe tbody tr th {\n",
              "        vertical-align: top;\n",
              "    }\n",
              "\n",
              "    .dataframe thead th {\n",
              "        text-align: right;\n",
              "    }\n",
              "</style>\n",
              "<table border=\"1\" class=\"dataframe\">\n",
              "  <thead>\n",
              "    <tr style=\"text-align: right;\">\n",
              "      <th></th>\n",
              "      <th>0</th>\n",
              "    </tr>\n",
              "  </thead>\n",
              "  <tbody>\n",
              "    <tr>\n",
              "      <th>a</th>\n",
              "      <td>7.3</td>\n",
              "    </tr>\n",
              "    <tr>\n",
              "      <th>c</th>\n",
              "      <td>-2.5</td>\n",
              "    </tr>\n",
              "    <tr>\n",
              "      <th>d</th>\n",
              "      <td>3.4</td>\n",
              "    </tr>\n",
              "    <tr>\n",
              "      <th>e</th>\n",
              "      <td>1.5</td>\n",
              "    </tr>\n",
              "  </tbody>\n",
              "</table>\n",
              "</div><br><label><b>dtype:</b> float64</label>"
            ]
          },
          "metadata": {},
          "execution_count": 19
        }
      ],
      "source": [
        "s1"
      ]
    },
    {
      "cell_type": "code",
      "execution_count": 20,
      "id": "1a045ca9-fac8-4cdf-ad8c-4ef19f7edf96",
      "metadata": {
        "colab": {
          "base_uri": "https://localhost:8080/",
          "height": 241
        },
        "id": "1a045ca9-fac8-4cdf-ad8c-4ef19f7edf96",
        "outputId": "2793defa-eb22-4498-ab1d-13617717f04e"
      },
      "outputs": [
        {
          "output_type": "execute_result",
          "data": {
            "text/plain": [
              "a   -2.1\n",
              "c    3.6\n",
              "e   -1.5\n",
              "f    4.0\n",
              "g    3.1\n",
              "dtype: float64"
            ],
            "text/html": [
              "<div>\n",
              "<style scoped>\n",
              "    .dataframe tbody tr th:only-of-type {\n",
              "        vertical-align: middle;\n",
              "    }\n",
              "\n",
              "    .dataframe tbody tr th {\n",
              "        vertical-align: top;\n",
              "    }\n",
              "\n",
              "    .dataframe thead th {\n",
              "        text-align: right;\n",
              "    }\n",
              "</style>\n",
              "<table border=\"1\" class=\"dataframe\">\n",
              "  <thead>\n",
              "    <tr style=\"text-align: right;\">\n",
              "      <th></th>\n",
              "      <th>0</th>\n",
              "    </tr>\n",
              "  </thead>\n",
              "  <tbody>\n",
              "    <tr>\n",
              "      <th>a</th>\n",
              "      <td>-2.1</td>\n",
              "    </tr>\n",
              "    <tr>\n",
              "      <th>c</th>\n",
              "      <td>3.6</td>\n",
              "    </tr>\n",
              "    <tr>\n",
              "      <th>e</th>\n",
              "      <td>-1.5</td>\n",
              "    </tr>\n",
              "    <tr>\n",
              "      <th>f</th>\n",
              "      <td>4.0</td>\n",
              "    </tr>\n",
              "    <tr>\n",
              "      <th>g</th>\n",
              "      <td>3.1</td>\n",
              "    </tr>\n",
              "  </tbody>\n",
              "</table>\n",
              "</div><br><label><b>dtype:</b> float64</label>"
            ]
          },
          "metadata": {},
          "execution_count": 20
        }
      ],
      "source": [
        "s2"
      ]
    },
    {
      "cell_type": "code",
      "execution_count": 21,
      "id": "5c2b0c0b-796e-413b-a551-9c8fa218cab0",
      "metadata": {
        "colab": {
          "base_uri": "https://localhost:8080/",
          "height": 272
        },
        "id": "5c2b0c0b-796e-413b-a551-9c8fa218cab0",
        "outputId": "ae6e1a60-942a-4a85-8b1c-295cb145b07e"
      },
      "outputs": [
        {
          "output_type": "execute_result",
          "data": {
            "text/plain": [
              "a    5.2\n",
              "c    1.1\n",
              "d    NaN\n",
              "e    0.0\n",
              "f    NaN\n",
              "g    NaN\n",
              "dtype: float64"
            ],
            "text/html": [
              "<div>\n",
              "<style scoped>\n",
              "    .dataframe tbody tr th:only-of-type {\n",
              "        vertical-align: middle;\n",
              "    }\n",
              "\n",
              "    .dataframe tbody tr th {\n",
              "        vertical-align: top;\n",
              "    }\n",
              "\n",
              "    .dataframe thead th {\n",
              "        text-align: right;\n",
              "    }\n",
              "</style>\n",
              "<table border=\"1\" class=\"dataframe\">\n",
              "  <thead>\n",
              "    <tr style=\"text-align: right;\">\n",
              "      <th></th>\n",
              "      <th>0</th>\n",
              "    </tr>\n",
              "  </thead>\n",
              "  <tbody>\n",
              "    <tr>\n",
              "      <th>a</th>\n",
              "      <td>5.2</td>\n",
              "    </tr>\n",
              "    <tr>\n",
              "      <th>c</th>\n",
              "      <td>1.1</td>\n",
              "    </tr>\n",
              "    <tr>\n",
              "      <th>d</th>\n",
              "      <td>NaN</td>\n",
              "    </tr>\n",
              "    <tr>\n",
              "      <th>e</th>\n",
              "      <td>0.0</td>\n",
              "    </tr>\n",
              "    <tr>\n",
              "      <th>f</th>\n",
              "      <td>NaN</td>\n",
              "    </tr>\n",
              "    <tr>\n",
              "      <th>g</th>\n",
              "      <td>NaN</td>\n",
              "    </tr>\n",
              "  </tbody>\n",
              "</table>\n",
              "</div><br><label><b>dtype:</b> float64</label>"
            ]
          },
          "metadata": {},
          "execution_count": 21
        }
      ],
      "source": [
        "s1+s2"
      ]
    },
    {
      "cell_type": "markdown",
      "id": "47dcdbff-2adb-44fe-a390-f73583f96008",
      "metadata": {
        "id": "47dcdbff-2adb-44fe-a390-f73583f96008"
      },
      "source": [
        "E'tibor bering, `s1` da mavjud `d` indeksi `s2`da mavjud bo'lmaganligi sabab `s1+s2` da `d` indeksdagi qiymat `NaN` bo'ldi."
      ]
    },
    {
      "cell_type": "markdown",
      "id": "9a408c75-0375-49d7-85d0-696fc4821899",
      "metadata": {
        "id": "9a408c75-0375-49d7-85d0-696fc4821899"
      },
      "source": [
        "Yuqoridagi holat `DataFrame`larga ham xos. `Series`lardan farqli ravishda `DataFrame`da qator va ustun indekslari hisobga olinadi."
      ]
    },
    {
      "cell_type": "code",
      "execution_count": null,
      "id": "1c1e40f3-611c-49ab-9f47-04c6702031ff",
      "metadata": {
        "id": "1c1e40f3-611c-49ab-9f47-04c6702031ff"
      },
      "outputs": [],
      "source": [
        "df1 = pd.DataFrame(np.arange(9.).reshape(3,3), columns=list('bcd'), index=['Olma','Anor','Uzum'])\n",
        "df2 = pd.DataFrame(np.arange(12.).reshape(4,3), columns=list('abc'), index=['Olma','Anor','Qovun','Anjir'])"
      ]
    },
    {
      "cell_type": "code",
      "execution_count": null,
      "id": "3429639c-5c42-4f33-95c9-21fed66121e1",
      "metadata": {
        "id": "3429639c-5c42-4f33-95c9-21fed66121e1",
        "outputId": "9cf28a2b-ca5b-448c-b650-d8ba5c85984c"
      },
      "outputs": [
        {
          "data": {
            "text/html": [
              "<div>\n",
              "<style scoped>\n",
              "    .dataframe tbody tr th:only-of-type {\n",
              "        vertical-align: middle;\n",
              "    }\n",
              "\n",
              "    .dataframe tbody tr th {\n",
              "        vertical-align: top;\n",
              "    }\n",
              "\n",
              "    .dataframe thead th {\n",
              "        text-align: right;\n",
              "    }\n",
              "</style>\n",
              "<table border=\"1\" class=\"dataframe\">\n",
              "  <thead>\n",
              "    <tr style=\"text-align: right;\">\n",
              "      <th></th>\n",
              "      <th>b</th>\n",
              "      <th>c</th>\n",
              "      <th>d</th>\n",
              "    </tr>\n",
              "  </thead>\n",
              "  <tbody>\n",
              "    <tr>\n",
              "      <th>Olma</th>\n",
              "      <td>0.0</td>\n",
              "      <td>1.0</td>\n",
              "      <td>2.0</td>\n",
              "    </tr>\n",
              "    <tr>\n",
              "      <th>Anor</th>\n",
              "      <td>3.0</td>\n",
              "      <td>4.0</td>\n",
              "      <td>5.0</td>\n",
              "    </tr>\n",
              "    <tr>\n",
              "      <th>Uzum</th>\n",
              "      <td>6.0</td>\n",
              "      <td>7.0</td>\n",
              "      <td>8.0</td>\n",
              "    </tr>\n",
              "  </tbody>\n",
              "</table>\n",
              "</div>"
            ],
            "text/plain": [
              "        b    c    d\n",
              "Olma  0.0  1.0  2.0\n",
              "Anor  3.0  4.0  5.0\n",
              "Uzum  6.0  7.0  8.0"
            ]
          },
          "execution_count": 30,
          "metadata": {},
          "output_type": "execute_result"
        }
      ],
      "source": [
        "df1"
      ]
    },
    {
      "cell_type": "code",
      "execution_count": null,
      "id": "0bdec297-eb62-49e7-a1d8-2339b7e7a9f9",
      "metadata": {
        "id": "0bdec297-eb62-49e7-a1d8-2339b7e7a9f9",
        "outputId": "b42d95b2-ee08-4796-aff7-fcf2725a11c6"
      },
      "outputs": [
        {
          "data": {
            "text/html": [
              "<div>\n",
              "<style scoped>\n",
              "    .dataframe tbody tr th:only-of-type {\n",
              "        vertical-align: middle;\n",
              "    }\n",
              "\n",
              "    .dataframe tbody tr th {\n",
              "        vertical-align: top;\n",
              "    }\n",
              "\n",
              "    .dataframe thead th {\n",
              "        text-align: right;\n",
              "    }\n",
              "</style>\n",
              "<table border=\"1\" class=\"dataframe\">\n",
              "  <thead>\n",
              "    <tr style=\"text-align: right;\">\n",
              "      <th></th>\n",
              "      <th>a</th>\n",
              "      <th>b</th>\n",
              "      <th>c</th>\n",
              "    </tr>\n",
              "  </thead>\n",
              "  <tbody>\n",
              "    <tr>\n",
              "      <th>Olma</th>\n",
              "      <td>0.0</td>\n",
              "      <td>1.0</td>\n",
              "      <td>2.0</td>\n",
              "    </tr>\n",
              "    <tr>\n",
              "      <th>Anor</th>\n",
              "      <td>3.0</td>\n",
              "      <td>4.0</td>\n",
              "      <td>5.0</td>\n",
              "    </tr>\n",
              "    <tr>\n",
              "      <th>Qovun</th>\n",
              "      <td>6.0</td>\n",
              "      <td>7.0</td>\n",
              "      <td>8.0</td>\n",
              "    </tr>\n",
              "    <tr>\n",
              "      <th>Anjir</th>\n",
              "      <td>9.0</td>\n",
              "      <td>10.0</td>\n",
              "      <td>11.0</td>\n",
              "    </tr>\n",
              "  </tbody>\n",
              "</table>\n",
              "</div>"
            ],
            "text/plain": [
              "         a     b     c\n",
              "Olma   0.0   1.0   2.0\n",
              "Anor   3.0   4.0   5.0\n",
              "Qovun  6.0   7.0   8.0\n",
              "Anjir  9.0  10.0  11.0"
            ]
          },
          "execution_count": 31,
          "metadata": {},
          "output_type": "execute_result"
        }
      ],
      "source": [
        "df2"
      ]
    },
    {
      "cell_type": "code",
      "execution_count": null,
      "id": "1f9eef81-a4b0-438c-9f02-75509f751709",
      "metadata": {
        "id": "1f9eef81-a4b0-438c-9f02-75509f751709",
        "outputId": "06f224ee-19e8-4ff3-a291-ddd107e4e4bb"
      },
      "outputs": [
        {
          "data": {
            "text/html": [
              "<div>\n",
              "<style scoped>\n",
              "    .dataframe tbody tr th:only-of-type {\n",
              "        vertical-align: middle;\n",
              "    }\n",
              "\n",
              "    .dataframe tbody tr th {\n",
              "        vertical-align: top;\n",
              "    }\n",
              "\n",
              "    .dataframe thead th {\n",
              "        text-align: right;\n",
              "    }\n",
              "</style>\n",
              "<table border=\"1\" class=\"dataframe\">\n",
              "  <thead>\n",
              "    <tr style=\"text-align: right;\">\n",
              "      <th></th>\n",
              "      <th>a</th>\n",
              "      <th>b</th>\n",
              "      <th>c</th>\n",
              "      <th>d</th>\n",
              "    </tr>\n",
              "  </thead>\n",
              "  <tbody>\n",
              "    <tr>\n",
              "      <th>Anjir</th>\n",
              "      <td>NaN</td>\n",
              "      <td>NaN</td>\n",
              "      <td>NaN</td>\n",
              "      <td>NaN</td>\n",
              "    </tr>\n",
              "    <tr>\n",
              "      <th>Anor</th>\n",
              "      <td>NaN</td>\n",
              "      <td>7.0</td>\n",
              "      <td>9.0</td>\n",
              "      <td>NaN</td>\n",
              "    </tr>\n",
              "    <tr>\n",
              "      <th>Olma</th>\n",
              "      <td>NaN</td>\n",
              "      <td>1.0</td>\n",
              "      <td>3.0</td>\n",
              "      <td>NaN</td>\n",
              "    </tr>\n",
              "    <tr>\n",
              "      <th>Qovun</th>\n",
              "      <td>NaN</td>\n",
              "      <td>NaN</td>\n",
              "      <td>NaN</td>\n",
              "      <td>NaN</td>\n",
              "    </tr>\n",
              "    <tr>\n",
              "      <th>Uzum</th>\n",
              "      <td>NaN</td>\n",
              "      <td>NaN</td>\n",
              "      <td>NaN</td>\n",
              "      <td>NaN</td>\n",
              "    </tr>\n",
              "  </tbody>\n",
              "</table>\n",
              "</div>"
            ],
            "text/plain": [
              "        a    b    c   d\n",
              "Anjir NaN  NaN  NaN NaN\n",
              "Anor  NaN  7.0  9.0 NaN\n",
              "Olma  NaN  1.0  3.0 NaN\n",
              "Qovun NaN  NaN  NaN NaN\n",
              "Uzum  NaN  NaN  NaN NaN"
            ]
          },
          "execution_count": 32,
          "metadata": {},
          "output_type": "execute_result"
        }
      ],
      "source": [
        "df1+df2"
      ]
    },
    {
      "cell_type": "markdown",
      "id": "699a81dc-ec9c-4fc9-b659-7d731b3e9ba7",
      "metadata": {
        "id": "699a81dc-ec9c-4fc9-b659-7d731b3e9ba7"
      },
      "source": [
        "`a` va `d` ustunlar hamda `Qovun` va `Anjir` qatorlar ikkala `DataFrame`da bo'lmagani sababli yuqoridagi natija chiqdi"
      ]
    },
    {
      "cell_type": "markdown",
      "id": "ffcfc25f-2cb8-4408-9b2c-8ea2f0928780",
      "metadata": {
        "id": "ffcfc25f-2cb8-4408-9b2c-8ea2f0928780"
      },
      "source": [
        "Yuqoridagi qo'shish amalini `.add()` metodi yordamida ham bajarish mumkin."
      ]
    },
    {
      "cell_type": "code",
      "execution_count": null,
      "id": "0ca0730d-80a7-442c-b385-cab90cf72159",
      "metadata": {
        "id": "0ca0730d-80a7-442c-b385-cab90cf72159",
        "outputId": "3eb5faab-19ae-41fa-e4af-df21f07c8256"
      },
      "outputs": [
        {
          "data": {
            "text/html": [
              "<div>\n",
              "<style scoped>\n",
              "    .dataframe tbody tr th:only-of-type {\n",
              "        vertical-align: middle;\n",
              "    }\n",
              "\n",
              "    .dataframe tbody tr th {\n",
              "        vertical-align: top;\n",
              "    }\n",
              "\n",
              "    .dataframe thead th {\n",
              "        text-align: right;\n",
              "    }\n",
              "</style>\n",
              "<table border=\"1\" class=\"dataframe\">\n",
              "  <thead>\n",
              "    <tr style=\"text-align: right;\">\n",
              "      <th></th>\n",
              "      <th>a</th>\n",
              "      <th>b</th>\n",
              "      <th>c</th>\n",
              "      <th>d</th>\n",
              "    </tr>\n",
              "  </thead>\n",
              "  <tbody>\n",
              "    <tr>\n",
              "      <th>Anjir</th>\n",
              "      <td>NaN</td>\n",
              "      <td>NaN</td>\n",
              "      <td>NaN</td>\n",
              "      <td>NaN</td>\n",
              "    </tr>\n",
              "    <tr>\n",
              "      <th>Anor</th>\n",
              "      <td>NaN</td>\n",
              "      <td>7.0</td>\n",
              "      <td>9.0</td>\n",
              "      <td>NaN</td>\n",
              "    </tr>\n",
              "    <tr>\n",
              "      <th>Olma</th>\n",
              "      <td>NaN</td>\n",
              "      <td>1.0</td>\n",
              "      <td>3.0</td>\n",
              "      <td>NaN</td>\n",
              "    </tr>\n",
              "    <tr>\n",
              "      <th>Qovun</th>\n",
              "      <td>NaN</td>\n",
              "      <td>NaN</td>\n",
              "      <td>NaN</td>\n",
              "      <td>NaN</td>\n",
              "    </tr>\n",
              "    <tr>\n",
              "      <th>Uzum</th>\n",
              "      <td>NaN</td>\n",
              "      <td>NaN</td>\n",
              "      <td>NaN</td>\n",
              "      <td>NaN</td>\n",
              "    </tr>\n",
              "  </tbody>\n",
              "</table>\n",
              "</div>"
            ],
            "text/plain": [
              "        a    b    c   d\n",
              "Anjir NaN  NaN  NaN NaN\n",
              "Anor  NaN  7.0  9.0 NaN\n",
              "Olma  NaN  1.0  3.0 NaN\n",
              "Qovun NaN  NaN  NaN NaN\n",
              "Uzum  NaN  NaN  NaN NaN"
            ]
          },
          "execution_count": 33,
          "metadata": {},
          "output_type": "execute_result"
        }
      ],
      "source": [
        "df1.add(df2)"
      ]
    },
    {
      "cell_type": "markdown",
      "id": "ae455f24-5503-4b25-a27f-383cf0e58a90",
      "metadata": {
        "id": "ae455f24-5503-4b25-a27f-383cf0e58a90"
      },
      "source": [
        "Bunda maxsus `fill_value` parametri yordamida mos tushuvchi indekslardagi NaN qiymatlarni boshqa qiymat bilan almashtirish mumkin. Bu usulda yakuniy natijada ikkala df da ham mavjud bo'lmagan indekslarda `NaN` qimtai qoladi."
      ]
    },
    {
      "cell_type": "code",
      "execution_count": null,
      "id": "d2322e6d-4b88-4dd6-bfa6-06e55c54cc67",
      "metadata": {
        "id": "d2322e6d-4b88-4dd6-bfa6-06e55c54cc67",
        "outputId": "bc82df6d-1dad-4750-c580-ab547a98a6e9"
      },
      "outputs": [
        {
          "data": {
            "text/html": [
              "<div>\n",
              "<style scoped>\n",
              "    .dataframe tbody tr th:only-of-type {\n",
              "        vertical-align: middle;\n",
              "    }\n",
              "\n",
              "    .dataframe tbody tr th {\n",
              "        vertical-align: top;\n",
              "    }\n",
              "\n",
              "    .dataframe thead th {\n",
              "        text-align: right;\n",
              "    }\n",
              "</style>\n",
              "<table border=\"1\" class=\"dataframe\">\n",
              "  <thead>\n",
              "    <tr style=\"text-align: right;\">\n",
              "      <th></th>\n",
              "      <th>a</th>\n",
              "      <th>b</th>\n",
              "      <th>c</th>\n",
              "      <th>d</th>\n",
              "    </tr>\n",
              "  </thead>\n",
              "  <tbody>\n",
              "    <tr>\n",
              "      <th>Anjir</th>\n",
              "      <td>9.0</td>\n",
              "      <td>10.0</td>\n",
              "      <td>11.0</td>\n",
              "      <td>NaN</td>\n",
              "    </tr>\n",
              "    <tr>\n",
              "      <th>Anor</th>\n",
              "      <td>3.0</td>\n",
              "      <td>7.0</td>\n",
              "      <td>9.0</td>\n",
              "      <td>5.0</td>\n",
              "    </tr>\n",
              "    <tr>\n",
              "      <th>Olma</th>\n",
              "      <td>0.0</td>\n",
              "      <td>1.0</td>\n",
              "      <td>3.0</td>\n",
              "      <td>2.0</td>\n",
              "    </tr>\n",
              "    <tr>\n",
              "      <th>Qovun</th>\n",
              "      <td>6.0</td>\n",
              "      <td>7.0</td>\n",
              "      <td>8.0</td>\n",
              "      <td>NaN</td>\n",
              "    </tr>\n",
              "    <tr>\n",
              "      <th>Uzum</th>\n",
              "      <td>NaN</td>\n",
              "      <td>6.0</td>\n",
              "      <td>7.0</td>\n",
              "      <td>8.0</td>\n",
              "    </tr>\n",
              "  </tbody>\n",
              "</table>\n",
              "</div>"
            ],
            "text/plain": [
              "         a     b     c    d\n",
              "Anjir  9.0  10.0  11.0  NaN\n",
              "Anor   3.0   7.0   9.0  5.0\n",
              "Olma   0.0   1.0   3.0  2.0\n",
              "Qovun  6.0   7.0   8.0  NaN\n",
              "Uzum   NaN   6.0   7.0  8.0"
            ]
          },
          "execution_count": 49,
          "metadata": {},
          "output_type": "execute_result"
        }
      ],
      "source": [
        "df2.add(df1, fill_value=0)"
      ]
    },
    {
      "cell_type": "code",
      "execution_count": null,
      "id": "cfd2ae55-588f-488b-85c5-1918560a2b2e",
      "metadata": {
        "id": "cfd2ae55-588f-488b-85c5-1918560a2b2e",
        "outputId": "12d5ea29-6103-4da3-fa4d-38f8621a4c4c"
      },
      "outputs": [
        {
          "data": {
            "text/html": [
              "<div>\n",
              "<style scoped>\n",
              "    .dataframe tbody tr th:only-of-type {\n",
              "        vertical-align: middle;\n",
              "    }\n",
              "\n",
              "    .dataframe tbody tr th {\n",
              "        vertical-align: top;\n",
              "    }\n",
              "\n",
              "    .dataframe thead th {\n",
              "        text-align: right;\n",
              "    }\n",
              "</style>\n",
              "<table border=\"1\" class=\"dataframe\">\n",
              "  <thead>\n",
              "    <tr style=\"text-align: right;\">\n",
              "      <th></th>\n",
              "      <th>b</th>\n",
              "      <th>c</th>\n",
              "      <th>d</th>\n",
              "    </tr>\n",
              "  </thead>\n",
              "  <tbody>\n",
              "    <tr>\n",
              "      <th>Olma</th>\n",
              "      <td>0.0</td>\n",
              "      <td>1.0</td>\n",
              "      <td>2.0</td>\n",
              "    </tr>\n",
              "    <tr>\n",
              "      <th>Anor</th>\n",
              "      <td>3.0</td>\n",
              "      <td>4.0</td>\n",
              "      <td>5.0</td>\n",
              "    </tr>\n",
              "    <tr>\n",
              "      <th>Uzum</th>\n",
              "      <td>6.0</td>\n",
              "      <td>7.0</td>\n",
              "      <td>8.0</td>\n",
              "    </tr>\n",
              "  </tbody>\n",
              "</table>\n",
              "</div>"
            ],
            "text/plain": [
              "        b    c    d\n",
              "Olma  0.0  1.0  2.0\n",
              "Anor  3.0  4.0  5.0\n",
              "Uzum  6.0  7.0  8.0"
            ]
          },
          "execution_count": 50,
          "metadata": {},
          "output_type": "execute_result"
        }
      ],
      "source": [
        "df1"
      ]
    },
    {
      "cell_type": "code",
      "execution_count": null,
      "id": "801204f1-1808-4dc7-a851-9de925ccac73",
      "metadata": {
        "id": "801204f1-1808-4dc7-a851-9de925ccac73",
        "outputId": "9e761e3c-98e7-4c72-a553-4b8385b109b4"
      },
      "outputs": [
        {
          "data": {
            "text/html": [
              "<div>\n",
              "<style scoped>\n",
              "    .dataframe tbody tr th:only-of-type {\n",
              "        vertical-align: middle;\n",
              "    }\n",
              "\n",
              "    .dataframe tbody tr th {\n",
              "        vertical-align: top;\n",
              "    }\n",
              "\n",
              "    .dataframe thead th {\n",
              "        text-align: right;\n",
              "    }\n",
              "</style>\n",
              "<table border=\"1\" class=\"dataframe\">\n",
              "  <thead>\n",
              "    <tr style=\"text-align: right;\">\n",
              "      <th></th>\n",
              "      <th>a</th>\n",
              "      <th>b</th>\n",
              "      <th>c</th>\n",
              "    </tr>\n",
              "  </thead>\n",
              "  <tbody>\n",
              "    <tr>\n",
              "      <th>Olma</th>\n",
              "      <td>0.0</td>\n",
              "      <td>1.0</td>\n",
              "      <td>2.0</td>\n",
              "    </tr>\n",
              "    <tr>\n",
              "      <th>Anor</th>\n",
              "      <td>3.0</td>\n",
              "      <td>4.0</td>\n",
              "      <td>5.0</td>\n",
              "    </tr>\n",
              "    <tr>\n",
              "      <th>Qovun</th>\n",
              "      <td>6.0</td>\n",
              "      <td>7.0</td>\n",
              "      <td>8.0</td>\n",
              "    </tr>\n",
              "    <tr>\n",
              "      <th>Anjir</th>\n",
              "      <td>9.0</td>\n",
              "      <td>10.0</td>\n",
              "      <td>11.0</td>\n",
              "    </tr>\n",
              "  </tbody>\n",
              "</table>\n",
              "</div>"
            ],
            "text/plain": [
              "         a     b     c\n",
              "Olma   0.0   1.0   2.0\n",
              "Anor   3.0   4.0   5.0\n",
              "Qovun  6.0   7.0   8.0\n",
              "Anjir  9.0  10.0  11.0"
            ]
          },
          "execution_count": 51,
          "metadata": {},
          "output_type": "execute_result"
        }
      ],
      "source": [
        "df2"
      ]
    },
    {
      "cell_type": "markdown",
      "id": "984206fd-92c8-49e1-a44f-664af115fa3d",
      "metadata": {
        "id": "984206fd-92c8-49e1-a44f-664af115fa3d"
      },
      "source": [
        "### Boshqa arifmetik amallar\n",
        "\n",
        "- add, radd - Qo'shish (+)\n",
        "- sub, rsub - Ayirish (-)\n",
        "- div, rdiv - Bo'lish (/)\n",
        "- floordiv, rfloordiv - Bo'lish va butun qismini olis (//)\n",
        "- mul, rmul - Ko'paytirish (*)\n",
        "- pow, rpow - Eksponenta (\\*\\*)\n",
        "\n",
        "Yuqoridagi amallarning barchasida `fill_value` parametri mavjud."
      ]
    },
    {
      "cell_type": "markdown",
      "id": "97950cf3-e49b-4d48-8655-fa79a776bbb8",
      "metadata": {
        "id": "97950cf3-e49b-4d48-8655-fa79a776bbb8"
      },
      "source": [
        "`r`bilan boshlangan metodlarda `DataFrame` ifodaning o'ng  tarafida bo'ladi."
      ]
    },
    {
      "cell_type": "code",
      "execution_count": null,
      "id": "c9e0ba24-c9f9-4b72-90a7-46ca8a03062c",
      "metadata": {
        "id": "c9e0ba24-c9f9-4b72-90a7-46ca8a03062c",
        "outputId": "032b8d96-9ced-4477-d062-270c6013f7c3"
      },
      "outputs": [
        {
          "data": {
            "text/html": [
              "<div>\n",
              "<style scoped>\n",
              "    .dataframe tbody tr th:only-of-type {\n",
              "        vertical-align: middle;\n",
              "    }\n",
              "\n",
              "    .dataframe tbody tr th {\n",
              "        vertical-align: top;\n",
              "    }\n",
              "\n",
              "    .dataframe thead th {\n",
              "        text-align: right;\n",
              "    }\n",
              "</style>\n",
              "<table border=\"1\" class=\"dataframe\">\n",
              "  <thead>\n",
              "    <tr style=\"text-align: right;\">\n",
              "      <th></th>\n",
              "      <th>b</th>\n",
              "      <th>c</th>\n",
              "      <th>d</th>\n",
              "    </tr>\n",
              "  </thead>\n",
              "  <tbody>\n",
              "    <tr>\n",
              "      <th>Olma</th>\n",
              "      <td>0.0</td>\n",
              "      <td>1.0</td>\n",
              "      <td>2.0</td>\n",
              "    </tr>\n",
              "    <tr>\n",
              "      <th>Anor</th>\n",
              "      <td>3.0</td>\n",
              "      <td>4.0</td>\n",
              "      <td>5.0</td>\n",
              "    </tr>\n",
              "    <tr>\n",
              "      <th>Uzum</th>\n",
              "      <td>6.0</td>\n",
              "      <td>7.0</td>\n",
              "      <td>8.0</td>\n",
              "    </tr>\n",
              "  </tbody>\n",
              "</table>\n",
              "</div>"
            ],
            "text/plain": [
              "        b    c    d\n",
              "Olma  0.0  1.0  2.0\n",
              "Anor  3.0  4.0  5.0\n",
              "Uzum  6.0  7.0  8.0"
            ]
          },
          "execution_count": 52,
          "metadata": {},
          "output_type": "execute_result"
        }
      ],
      "source": [
        "df1"
      ]
    },
    {
      "cell_type": "code",
      "execution_count": null,
      "id": "fb4fea36-2884-493f-b686-88e79eb8cc81",
      "metadata": {
        "id": "fb4fea36-2884-493f-b686-88e79eb8cc81",
        "outputId": "8e9af72f-90d6-46cf-bffb-c1ff0e5ee069"
      },
      "outputs": [
        {
          "data": {
            "text/html": [
              "<div>\n",
              "<style scoped>\n",
              "    .dataframe tbody tr th:only-of-type {\n",
              "        vertical-align: middle;\n",
              "    }\n",
              "\n",
              "    .dataframe tbody tr th {\n",
              "        vertical-align: top;\n",
              "    }\n",
              "\n",
              "    .dataframe thead th {\n",
              "        text-align: right;\n",
              "    }\n",
              "</style>\n",
              "<table border=\"1\" class=\"dataframe\">\n",
              "  <thead>\n",
              "    <tr style=\"text-align: right;\">\n",
              "      <th></th>\n",
              "      <th>b</th>\n",
              "      <th>c</th>\n",
              "      <th>d</th>\n",
              "    </tr>\n",
              "  </thead>\n",
              "  <tbody>\n",
              "    <tr>\n",
              "      <th>Olma</th>\n",
              "      <td>-2.0</td>\n",
              "      <td>-1.0</td>\n",
              "      <td>0.0</td>\n",
              "    </tr>\n",
              "    <tr>\n",
              "      <th>Anor</th>\n",
              "      <td>1.0</td>\n",
              "      <td>2.0</td>\n",
              "      <td>3.0</td>\n",
              "    </tr>\n",
              "    <tr>\n",
              "      <th>Uzum</th>\n",
              "      <td>4.0</td>\n",
              "      <td>5.0</td>\n",
              "      <td>6.0</td>\n",
              "    </tr>\n",
              "  </tbody>\n",
              "</table>\n",
              "</div>"
            ],
            "text/plain": [
              "        b    c    d\n",
              "Olma -2.0 -1.0  0.0\n",
              "Anor  1.0  2.0  3.0\n",
              "Uzum  4.0  5.0  6.0"
            ]
          },
          "execution_count": 61,
          "metadata": {},
          "output_type": "execute_result"
        }
      ],
      "source": [
        "df1.sub(2) # df-2 degani"
      ]
    },
    {
      "cell_type": "code",
      "execution_count": null,
      "id": "cad8a3a0-933a-4a4f-a336-26f44c040220",
      "metadata": {
        "id": "cad8a3a0-933a-4a4f-a336-26f44c040220",
        "outputId": "50d25263-df8c-425b-dead-3154461f70f2"
      },
      "outputs": [
        {
          "data": {
            "text/html": [
              "<div>\n",
              "<style scoped>\n",
              "    .dataframe tbody tr th:only-of-type {\n",
              "        vertical-align: middle;\n",
              "    }\n",
              "\n",
              "    .dataframe tbody tr th {\n",
              "        vertical-align: top;\n",
              "    }\n",
              "\n",
              "    .dataframe thead th {\n",
              "        text-align: right;\n",
              "    }\n",
              "</style>\n",
              "<table border=\"1\" class=\"dataframe\">\n",
              "  <thead>\n",
              "    <tr style=\"text-align: right;\">\n",
              "      <th></th>\n",
              "      <th>a</th>\n",
              "      <th>b</th>\n",
              "      <th>c</th>\n",
              "    </tr>\n",
              "  </thead>\n",
              "  <tbody>\n",
              "    <tr>\n",
              "      <th>Olma</th>\n",
              "      <td>2.0</td>\n",
              "      <td>1.0</td>\n",
              "      <td>0.0</td>\n",
              "    </tr>\n",
              "    <tr>\n",
              "      <th>Anor</th>\n",
              "      <td>-1.0</td>\n",
              "      <td>-2.0</td>\n",
              "      <td>-3.0</td>\n",
              "    </tr>\n",
              "    <tr>\n",
              "      <th>Qovun</th>\n",
              "      <td>-4.0</td>\n",
              "      <td>-5.0</td>\n",
              "      <td>-6.0</td>\n",
              "    </tr>\n",
              "    <tr>\n",
              "      <th>Anjir</th>\n",
              "      <td>-7.0</td>\n",
              "      <td>-8.0</td>\n",
              "      <td>-9.0</td>\n",
              "    </tr>\n",
              "  </tbody>\n",
              "</table>\n",
              "</div>"
            ],
            "text/plain": [
              "         a    b    c\n",
              "Olma   2.0  1.0  0.0\n",
              "Anor  -1.0 -2.0 -3.0\n",
              "Qovun -4.0 -5.0 -6.0\n",
              "Anjir -7.0 -8.0 -9.0"
            ]
          },
          "execution_count": 62,
          "metadata": {},
          "output_type": "execute_result"
        }
      ],
      "source": [
        "df2.rsub(2) # 2-df degani"
      ]
    },
    {
      "cell_type": "code",
      "execution_count": null,
      "id": "6fb1ae39-7a89-4d19-954a-3f6a65c19f3c",
      "metadata": {
        "id": "6fb1ae39-7a89-4d19-954a-3f6a65c19f3c"
      },
      "outputs": [],
      "source": []
    }
  ],
  "metadata": {
    "language_info": {
      "name": "python"
    },
    "colab": {
      "provenance": []
    },
    "kernelspec": {
      "name": "python3",
      "display_name": "Python 3"
    }
  },
  "nbformat": 4,
  "nbformat_minor": 5
}