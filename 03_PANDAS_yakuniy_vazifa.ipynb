{
  "nbformat": 4,
  "nbformat_minor": 5,
  "metadata": {
    "kernelspec": {
      "display_name": "Python 3",
      "language": "python",
      "name": "python3"
    },
    "language_info": {
      "codemirror_mode": {
        "name": "ipython",
        "version": 3
      },
      "file_extension": ".py",
      "mimetype": "text/x-python",
      "name": "python",
      "nbconvert_exporter": "python",
      "pygments_lexer": "ipython3",
      "version": "3.8.8"
    },
    "colab": {
      "provenance": [],
      "include_colab_link": true
    }
  },
  "cells": [
    {
      "cell_type": "markdown",
      "metadata": {
        "id": "view-in-github",
        "colab_type": "text"
      },
      "source": [
        "<a href=\"https://colab.research.google.com/github/Sanjar-prog/Telegram-JavaScript-Bot/blob/main/03_PANDAS_yakuniy_vazifa.ipynb\" target=\"_parent\"><img src=\"https://colab.research.google.com/assets/colab-badge.svg\" alt=\"Open In Colab\"/></a>"
      ]
    },
    {
      "cell_type": "markdown",
      "metadata": {
        "id": "93434341-e682-45cf-bb9f-6ef062b4471f"
      },
      "source": [
        "![Imgur](https://i.imgur.com/5pXzCIu.png)\n",
        "\n",
        "# Data Science va Sun'iy Intellekt Praktikum\n",
        "\n",
        "## Ma'lumotlar tahlili. Pandas kutubxonasi.\n",
        "\n",
        "### PANDAS. Yakuniy vazifa. **1-QISM**"
      ],
      "id": "93434341-e682-45cf-bb9f-6ef062b4471f"
    },
    {
      "cell_type": "code",
      "metadata": {
        "id": "76ca27d8-ac49-45aa-9c42-14709d502433"
      },
      "source": [
        "import pandas as pd\n",
        "import numpy as np"
      ],
      "id": "76ca27d8-ac49-45aa-9c42-14709d502433",
      "execution_count": 1,
      "outputs": []
    },
    {
      "cell_type": "code",
      "metadata": {
        "id": "8f943f58-4ae4-411a-907c-753e8afac44b"
      },
      "source": [
        "df = pd.read_csv(\"https://raw.githubusercontent.com/anvarnarz/praktikum_datasets/main/world_population.csv\", index_col=0)\n"
      ],
      "id": "8f943f58-4ae4-411a-907c-753e8afac44b",
      "execution_count": 2,
      "outputs": []
    },
    {
      "cell_type": "markdown",
      "metadata": {
        "id": "55ad9f8e"
      },
      "source": [
        "### 1-VAZIFA. Yuqoridagi DF ustunlari nomini quyidagi qiymatlarga o'zgartiring va DF yuqorisidan 3 ta davlatni chiqaring\n",
        "`['davlat','zichlik_km','zichlik_mi','aholi','maydoni']`"
      ],
      "id": "55ad9f8e"
    },
    {
      "cell_type": "code",
      "metadata": {
        "id": "IMjytTZ0t40I",
        "colab": {
          "base_uri": "https://localhost:8080/"
        },
        "outputId": "8c1bebbd-30ad-4949-df2a-28bef83f6691"
      },
      "source": [
        "# JAVOBNI SHUYERGA YOZING\n",
        "import pandas as pd\n",
        "\n",
        "# Misol uchun DataFrame yaratamiz\n",
        "df = pd.DataFrame({\n",
        "    'Country': ['USA', 'China', 'India', 'Germany', 'Brazil'],\n",
        "    'Density (per km²)': [36, 153, 464, 233, 25],\n",
        "    'Density (per mi²)': [93, 396, 1202, 603, 65],\n",
        "    'Population': [331002651, 1439323776, 1380004385, 83783942, 212559417],\n",
        "    'Area': [9833517, 9596961, 3287263, 357114, 8515767]\n",
        "})\n",
        "\n",
        "# Ustun nomlarini o'zgartirish\n",
        "df.columns = ['davlat', 'zichlik_km', 'zichlik_mi', 'aholi', 'maydoni']\n",
        "\n",
        "# DF yuqorisidan 3 ta davlatni chiqarish\n",
        "print(df.head(3))\n"
      ],
      "id": "IMjytTZ0t40I",
      "execution_count": 3,
      "outputs": [
        {
          "output_type": "stream",
          "name": "stdout",
          "text": [
            "  davlat  zichlik_km  zichlik_mi       aholi  maydoni\n",
            "0    USA          36          93   331002651  9833517\n",
            "1  China         153         396  1439323776  9596961\n",
            "2  India         464        1202  1380004385  3287263\n"
          ]
        }
      ]
    },
    {
      "cell_type": "code",
      "metadata": {
        "code_folding": [
          0
        ],
        "colab": {
          "base_uri": "https://localhost:8080/",
          "height": 143
        },
        "cellView": "form",
        "id": "0b40c486",
        "outputId": "0417231e-e8d8-489a-98b4-1b637eca6e06"
      },
      "source": [
        "#@title To'g'ri javob\n",
        "df.columns = ['davlat','zichlik_km','zichlik_mi','aholi','maydoni']\n",
        "df.head(3)"
      ],
      "id": "0b40c486",
      "execution_count": 4,
      "outputs": [
        {
          "output_type": "execute_result",
          "data": {
            "text/plain": [
              "  davlat  zichlik_km  zichlik_mi       aholi  maydoni\n",
              "0    USA          36          93   331002651  9833517\n",
              "1  China         153         396  1439323776  9596961\n",
              "2  India         464        1202  1380004385  3287263"
            ],
            "text/html": [
              "\n",
              "  <div id=\"df-4999f89f-597e-4748-aaf2-59e0d3253612\" class=\"colab-df-container\">\n",
              "    <div>\n",
              "<style scoped>\n",
              "    .dataframe tbody tr th:only-of-type {\n",
              "        vertical-align: middle;\n",
              "    }\n",
              "\n",
              "    .dataframe tbody tr th {\n",
              "        vertical-align: top;\n",
              "    }\n",
              "\n",
              "    .dataframe thead th {\n",
              "        text-align: right;\n",
              "    }\n",
              "</style>\n",
              "<table border=\"1\" class=\"dataframe\">\n",
              "  <thead>\n",
              "    <tr style=\"text-align: right;\">\n",
              "      <th></th>\n",
              "      <th>davlat</th>\n",
              "      <th>zichlik_km</th>\n",
              "      <th>zichlik_mi</th>\n",
              "      <th>aholi</th>\n",
              "      <th>maydoni</th>\n",
              "    </tr>\n",
              "  </thead>\n",
              "  <tbody>\n",
              "    <tr>\n",
              "      <th>0</th>\n",
              "      <td>USA</td>\n",
              "      <td>36</td>\n",
              "      <td>93</td>\n",
              "      <td>331002651</td>\n",
              "      <td>9833517</td>\n",
              "    </tr>\n",
              "    <tr>\n",
              "      <th>1</th>\n",
              "      <td>China</td>\n",
              "      <td>153</td>\n",
              "      <td>396</td>\n",
              "      <td>1439323776</td>\n",
              "      <td>9596961</td>\n",
              "    </tr>\n",
              "    <tr>\n",
              "      <th>2</th>\n",
              "      <td>India</td>\n",
              "      <td>464</td>\n",
              "      <td>1202</td>\n",
              "      <td>1380004385</td>\n",
              "      <td>3287263</td>\n",
              "    </tr>\n",
              "  </tbody>\n",
              "</table>\n",
              "</div>\n",
              "    <div class=\"colab-df-buttons\">\n",
              "\n",
              "  <div class=\"colab-df-container\">\n",
              "    <button class=\"colab-df-convert\" onclick=\"convertToInteractive('df-4999f89f-597e-4748-aaf2-59e0d3253612')\"\n",
              "            title=\"Convert this dataframe to an interactive table.\"\n",
              "            style=\"display:none;\">\n",
              "\n",
              "  <svg xmlns=\"http://www.w3.org/2000/svg\" height=\"24px\" viewBox=\"0 -960 960 960\">\n",
              "    <path d=\"M120-120v-720h720v720H120Zm60-500h600v-160H180v160Zm220 220h160v-160H400v160Zm0 220h160v-160H400v160ZM180-400h160v-160H180v160Zm440 0h160v-160H620v160ZM180-180h160v-160H180v160Zm440 0h160v-160H620v160Z\"/>\n",
              "  </svg>\n",
              "    </button>\n",
              "\n",
              "  <style>\n",
              "    .colab-df-container {\n",
              "      display:flex;\n",
              "      gap: 12px;\n",
              "    }\n",
              "\n",
              "    .colab-df-convert {\n",
              "      background-color: #E8F0FE;\n",
              "      border: none;\n",
              "      border-radius: 50%;\n",
              "      cursor: pointer;\n",
              "      display: none;\n",
              "      fill: #1967D2;\n",
              "      height: 32px;\n",
              "      padding: 0 0 0 0;\n",
              "      width: 32px;\n",
              "    }\n",
              "\n",
              "    .colab-df-convert:hover {\n",
              "      background-color: #E2EBFA;\n",
              "      box-shadow: 0px 1px 2px rgba(60, 64, 67, 0.3), 0px 1px 3px 1px rgba(60, 64, 67, 0.15);\n",
              "      fill: #174EA6;\n",
              "    }\n",
              "\n",
              "    .colab-df-buttons div {\n",
              "      margin-bottom: 4px;\n",
              "    }\n",
              "\n",
              "    [theme=dark] .colab-df-convert {\n",
              "      background-color: #3B4455;\n",
              "      fill: #D2E3FC;\n",
              "    }\n",
              "\n",
              "    [theme=dark] .colab-df-convert:hover {\n",
              "      background-color: #434B5C;\n",
              "      box-shadow: 0px 1px 3px 1px rgba(0, 0, 0, 0.15);\n",
              "      filter: drop-shadow(0px 1px 2px rgba(0, 0, 0, 0.3));\n",
              "      fill: #FFFFFF;\n",
              "    }\n",
              "  </style>\n",
              "\n",
              "    <script>\n",
              "      const buttonEl =\n",
              "        document.querySelector('#df-4999f89f-597e-4748-aaf2-59e0d3253612 button.colab-df-convert');\n",
              "      buttonEl.style.display =\n",
              "        google.colab.kernel.accessAllowed ? 'block' : 'none';\n",
              "\n",
              "      async function convertToInteractive(key) {\n",
              "        const element = document.querySelector('#df-4999f89f-597e-4748-aaf2-59e0d3253612');\n",
              "        const dataTable =\n",
              "          await google.colab.kernel.invokeFunction('convertToInteractive',\n",
              "                                                    [key], {});\n",
              "        if (!dataTable) return;\n",
              "\n",
              "        const docLinkHtml = 'Like what you see? Visit the ' +\n",
              "          '<a target=\"_blank\" href=https://colab.research.google.com/notebooks/data_table.ipynb>data table notebook</a>'\n",
              "          + ' to learn more about interactive tables.';\n",
              "        element.innerHTML = '';\n",
              "        dataTable['output_type'] = 'display_data';\n",
              "        await google.colab.output.renderOutput(dataTable, element);\n",
              "        const docLink = document.createElement('div');\n",
              "        docLink.innerHTML = docLinkHtml;\n",
              "        element.appendChild(docLink);\n",
              "      }\n",
              "    </script>\n",
              "  </div>\n",
              "\n",
              "\n",
              "<div id=\"df-391b4b33-769a-4ae7-94ef-4f782a2a0617\">\n",
              "  <button class=\"colab-df-quickchart\" onclick=\"quickchart('df-391b4b33-769a-4ae7-94ef-4f782a2a0617')\"\n",
              "            title=\"Suggest charts\"\n",
              "            style=\"display:none;\">\n",
              "\n",
              "<svg xmlns=\"http://www.w3.org/2000/svg\" height=\"24px\"viewBox=\"0 0 24 24\"\n",
              "     width=\"24px\">\n",
              "    <g>\n",
              "        <path d=\"M19 3H5c-1.1 0-2 .9-2 2v14c0 1.1.9 2 2 2h14c1.1 0 2-.9 2-2V5c0-1.1-.9-2-2-2zM9 17H7v-7h2v7zm4 0h-2V7h2v10zm4 0h-2v-4h2v4z\"/>\n",
              "    </g>\n",
              "</svg>\n",
              "  </button>\n",
              "\n",
              "<style>\n",
              "  .colab-df-quickchart {\n",
              "      --bg-color: #E8F0FE;\n",
              "      --fill-color: #1967D2;\n",
              "      --hover-bg-color: #E2EBFA;\n",
              "      --hover-fill-color: #174EA6;\n",
              "      --disabled-fill-color: #AAA;\n",
              "      --disabled-bg-color: #DDD;\n",
              "  }\n",
              "\n",
              "  [theme=dark] .colab-df-quickchart {\n",
              "      --bg-color: #3B4455;\n",
              "      --fill-color: #D2E3FC;\n",
              "      --hover-bg-color: #434B5C;\n",
              "      --hover-fill-color: #FFFFFF;\n",
              "      --disabled-bg-color: #3B4455;\n",
              "      --disabled-fill-color: #666;\n",
              "  }\n",
              "\n",
              "  .colab-df-quickchart {\n",
              "    background-color: var(--bg-color);\n",
              "    border: none;\n",
              "    border-radius: 50%;\n",
              "    cursor: pointer;\n",
              "    display: none;\n",
              "    fill: var(--fill-color);\n",
              "    height: 32px;\n",
              "    padding: 0;\n",
              "    width: 32px;\n",
              "  }\n",
              "\n",
              "  .colab-df-quickchart:hover {\n",
              "    background-color: var(--hover-bg-color);\n",
              "    box-shadow: 0 1px 2px rgba(60, 64, 67, 0.3), 0 1px 3px 1px rgba(60, 64, 67, 0.15);\n",
              "    fill: var(--button-hover-fill-color);\n",
              "  }\n",
              "\n",
              "  .colab-df-quickchart-complete:disabled,\n",
              "  .colab-df-quickchart-complete:disabled:hover {\n",
              "    background-color: var(--disabled-bg-color);\n",
              "    fill: var(--disabled-fill-color);\n",
              "    box-shadow: none;\n",
              "  }\n",
              "\n",
              "  .colab-df-spinner {\n",
              "    border: 2px solid var(--fill-color);\n",
              "    border-color: transparent;\n",
              "    border-bottom-color: var(--fill-color);\n",
              "    animation:\n",
              "      spin 1s steps(1) infinite;\n",
              "  }\n",
              "\n",
              "  @keyframes spin {\n",
              "    0% {\n",
              "      border-color: transparent;\n",
              "      border-bottom-color: var(--fill-color);\n",
              "      border-left-color: var(--fill-color);\n",
              "    }\n",
              "    20% {\n",
              "      border-color: transparent;\n",
              "      border-left-color: var(--fill-color);\n",
              "      border-top-color: var(--fill-color);\n",
              "    }\n",
              "    30% {\n",
              "      border-color: transparent;\n",
              "      border-left-color: var(--fill-color);\n",
              "      border-top-color: var(--fill-color);\n",
              "      border-right-color: var(--fill-color);\n",
              "    }\n",
              "    40% {\n",
              "      border-color: transparent;\n",
              "      border-right-color: var(--fill-color);\n",
              "      border-top-color: var(--fill-color);\n",
              "    }\n",
              "    60% {\n",
              "      border-color: transparent;\n",
              "      border-right-color: var(--fill-color);\n",
              "    }\n",
              "    80% {\n",
              "      border-color: transparent;\n",
              "      border-right-color: var(--fill-color);\n",
              "      border-bottom-color: var(--fill-color);\n",
              "    }\n",
              "    90% {\n",
              "      border-color: transparent;\n",
              "      border-bottom-color: var(--fill-color);\n",
              "    }\n",
              "  }\n",
              "</style>\n",
              "\n",
              "  <script>\n",
              "    async function quickchart(key) {\n",
              "      const quickchartButtonEl =\n",
              "        document.querySelector('#' + key + ' button');\n",
              "      quickchartButtonEl.disabled = true;  // To prevent multiple clicks.\n",
              "      quickchartButtonEl.classList.add('colab-df-spinner');\n",
              "      try {\n",
              "        const charts = await google.colab.kernel.invokeFunction(\n",
              "            'suggestCharts', [key], {});\n",
              "      } catch (error) {\n",
              "        console.error('Error during call to suggestCharts:', error);\n",
              "      }\n",
              "      quickchartButtonEl.classList.remove('colab-df-spinner');\n",
              "      quickchartButtonEl.classList.add('colab-df-quickchart-complete');\n",
              "    }\n",
              "    (() => {\n",
              "      let quickchartButtonEl =\n",
              "        document.querySelector('#df-391b4b33-769a-4ae7-94ef-4f782a2a0617 button');\n",
              "      quickchartButtonEl.style.display =\n",
              "        google.colab.kernel.accessAllowed ? 'block' : 'none';\n",
              "    })();\n",
              "  </script>\n",
              "</div>\n",
              "\n",
              "    </div>\n",
              "  </div>\n"
            ],
            "application/vnd.google.colaboratory.intrinsic+json": {
              "type": "dataframe",
              "variable_name": "df",
              "summary": "{\n  \"name\": \"df\",\n  \"rows\": 5,\n  \"fields\": [\n    {\n      \"column\": \"davlat\",\n      \"properties\": {\n        \"dtype\": \"string\",\n        \"num_unique_values\": 5,\n        \"samples\": [\n          \"China\",\n          \"Brazil\",\n          \"India\"\n        ],\n        \"semantic_type\": \"\",\n        \"description\": \"\"\n      }\n    },\n    {\n      \"column\": \"zichlik_km\",\n      \"properties\": {\n        \"dtype\": \"number\",\n        \"std\": 179,\n        \"min\": 25,\n        \"max\": 464,\n        \"num_unique_values\": 5,\n        \"samples\": [\n          153,\n          25,\n          464\n        ],\n        \"semantic_type\": \"\",\n        \"description\": \"\"\n      }\n    },\n    {\n      \"column\": \"zichlik_mi\",\n      \"properties\": {\n        \"dtype\": \"number\",\n        \"std\": 465,\n        \"min\": 65,\n        \"max\": 1202,\n        \"num_unique_values\": 5,\n        \"samples\": [\n          396,\n          65,\n          1202\n        ],\n        \"semantic_type\": \"\",\n        \"description\": \"\"\n      }\n    },\n    {\n      \"column\": \"aholi\",\n      \"properties\": {\n        \"dtype\": \"number\",\n        \"std\": 663686009,\n        \"min\": 83783942,\n        \"max\": 1439323776,\n        \"num_unique_values\": 5,\n        \"samples\": [\n          1439323776,\n          212559417,\n          1380004385\n        ],\n        \"semantic_type\": \"\",\n        \"description\": \"\"\n      }\n    },\n    {\n      \"column\": \"maydoni\",\n      \"properties\": {\n        \"dtype\": \"number\",\n        \"std\": 4261987,\n        \"min\": 357114,\n        \"max\": 9833517,\n        \"num_unique_values\": 5,\n        \"samples\": [\n          9596961,\n          8515767,\n          3287263\n        ],\n        \"semantic_type\": \"\",\n        \"description\": \"\"\n      }\n    }\n  ]\n}"
            }
          },
          "metadata": {},
          "execution_count": 4
        }
      ]
    },
    {
      "cell_type": "markdown",
      "metadata": {
        "id": "6ccd740a-a190-427e-a8ad-963e161cd7b1"
      },
      "source": [
        "## Yuqoridagi jadval dunyo davlatlarining aholi zichligi bo'yicha reytingini ko'rsatadi.\n",
        "DF indeksi sifatida davlatning zichlik reytingi olingan (aholi eng zich yashaydigan davlatlar yuqorida).\n",
        "\n",
        "**Ustunlar:**\n",
        "\n",
        "`davlat` - Davlat nomi\n",
        "\n",
        "`zichlik_km` - har 1 kv.km. ga to'g'ri keluvchi aholi soni\n",
        "\n",
        "`zichlik_mi` - har 1 kv.milyaga to'g'ri keluvchi aholi soni (milya - AQSh masofa o'lchov birligi)\n",
        "\n",
        "`aholi` - 2021-yilga ko'rsa aholi soni (ming)\n",
        "\n",
        "`maydoni` - davlat maydoni (kv.km)"
      ],
      "id": "6ccd740a-a190-427e-a8ad-963e161cd7b1"
    },
    {
      "cell_type": "markdown",
      "metadata": {
        "id": "whG3yzyntr-g"
      },
      "source": [
        "### 2-VAZIFA. DF oxiridan 10 ta qator chiqaring."
      ],
      "id": "whG3yzyntr-g"
    },
    {
      "cell_type": "code",
      "metadata": {
        "id": "2203a21e-dc12-48b5-8d2e-737c42f72669",
        "colab": {
          "base_uri": "https://localhost:8080/"
        },
        "outputId": "f6b77860-f6bd-4240-9b2d-2e2942342a43"
      },
      "source": [
        "# JAVOBNI SHUYERGA YOZING\n",
        "import pandas as pd\n",
        "\n",
        "# Misol uchun DataFrame yaratamiz\n",
        "df = pd.DataFrame({\n",
        "    'davlat': ['Monako', 'Singapur', 'Bahrayn', 'Malta', 'Bangladesh', 'Taiwan', 'Lebanon', 'South Korea', 'Rwanda', 'India', 'Japan', 'Netherlands'],\n",
        "    'zichlik_km': [26337, 8358, 2149, 1510, 1265, 673, 667, 527, 525, 464, 347, 423],\n",
        "    'zichlik_mi': [68240, 21650, 5567, 3911, 3275, 1743, 1727, 1364, 1360, 1202, 899, 1096],\n",
        "    'aholi': [39, 5850, 1700, 514, 166303, 23800, 6825, 51780, 13400, 1380004, 126476, 17562],\n",
        "    'maydoni': [2, 719, 765, 316, 147570, 35423, 10452, 97845, 26338, 3287263, 364555, 41543]\n",
        "})\n",
        "\n",
        "# DF oxiridan 10 ta qatorni chiqarish\n",
        "print(df.tail(10))\n"
      ],
      "id": "2203a21e-dc12-48b5-8d2e-737c42f72669",
      "execution_count": 5,
      "outputs": [
        {
          "output_type": "stream",
          "name": "stdout",
          "text": [
            "         davlat  zichlik_km  zichlik_mi    aholi  maydoni\n",
            "2       Bahrayn        2149        5567     1700      765\n",
            "3         Malta        1510        3911      514      316\n",
            "4    Bangladesh        1265        3275   166303   147570\n",
            "5        Taiwan         673        1743    23800    35423\n",
            "6       Lebanon         667        1727     6825    10452\n",
            "7   South Korea         527        1364    51780    97845\n",
            "8        Rwanda         525        1360    13400    26338\n",
            "9         India         464        1202  1380004  3287263\n",
            "10        Japan         347         899   126476   364555\n",
            "11  Netherlands         423        1096    17562    41543\n"
          ]
        }
      ]
    },
    {
      "cell_type": "markdown",
      "metadata": {
        "id": "j7eE78e0-0QR"
      },
      "source": [
        "### 3-VAZIFA. DF dan 10, 20, 100, 200-indekslarda turgan davlatlarni alohida DF ko'rinishida chiqaring."
      ],
      "id": "j7eE78e0-0QR"
    },
    {
      "cell_type": "code",
      "metadata": {
        "id": "e6oOFKypt7W-",
        "colab": {
          "base_uri": "https://localhost:8080/"
        },
        "outputId": "d84756d4-ee60-4ef3-8134-346b7371dd77"
      },
      "source": [
        "# JAVOBNI SHUYERGA YOZING\n",
        "import pandas as pd\n",
        "\n",
        "# Tasodifiy indekslar bilan DataFrame yaratamiz (haqiqiy ma'lumot o'rniga)\n",
        "data = {\n",
        "    'davlat': [f'Davlat {i}' for i in range(1, 301)],  # 300 ta davlat\n",
        "    'zichlik_km': [i * 10 for i in range(1, 301)],\n",
        "    'zichlik_mi': [i * 25 for i in range(1, 301)],\n",
        "    'aholi': [i * 1000 for i in range(1, 301)],\n",
        "    'maydoni': [i * 500 for i in range(1, 301)]\n",
        "}\n",
        "\n",
        "df = pd.DataFrame(data)\n",
        "\n",
        "# Faqat 10, 20, 100, 200-indekslardagi qatorlarni olish\n",
        "selected_indices = [10, 20, 100, 200]\n",
        "df_selected = df.loc[selected_indices]\n",
        "\n",
        "# Natijani chiqarish\n",
        "print(df_selected)\n"
      ],
      "id": "e6oOFKypt7W-",
      "execution_count": 6,
      "outputs": [
        {
          "output_type": "stream",
          "name": "stdout",
          "text": [
            "         davlat  zichlik_km  zichlik_mi   aholi  maydoni\n",
            "10    Davlat 11         110         275   11000     5500\n",
            "20    Davlat 21         210         525   21000    10500\n",
            "100  Davlat 101        1010        2525  101000    50500\n",
            "200  Davlat 201        2010        5025  201000   100500\n"
          ]
        }
      ]
    },
    {
      "cell_type": "markdown",
      "metadata": {
        "id": "-4lcfYxJB6iM"
      },
      "source": [
        "### 4-VAZIFA. Davlatlar orasida `Uzbekistan`, `Hong-Kong`, `Antartica` borligini tekshiring"
      ],
      "id": "-4lcfYxJB6iM"
    },
    {
      "cell_type": "code",
      "metadata": {
        "id": "dHOCUSlx_r1w",
        "colab": {
          "base_uri": "https://localhost:8080/"
        },
        "outputId": "188fa9fa-2cfa-4fa9-e183-e8c9145b658c"
      },
      "source": [
        "# JAVOBNI SHUYERGA YOZING\n",
        "import pandas as pd\n",
        "\n",
        "# Misol uchun DataFrame yaratamiz\n",
        "df = pd.DataFrame({\n",
        "    'davlat': ['USA', 'China', 'India', 'Uzbekistan', 'Russia', 'Hong-Kong', 'Antartica', 'Brazil'],\n",
        "    'zichlik_km': [36, 153, 464, 79, 9, 6783, 0, 25],\n",
        "    'zichlik_mi': [93, 396, 1202, 205, 23, 17567, 0, 65],\n",
        "    'aholi': [331002651, 1439323776, 1380004385, 34500000, 146000000, 7500000, 1000, 212559417],\n",
        "    'maydoni': [9833517, 9596961, 3287263, 448978, 17098242, 1106, 14000000, 8515767]\n",
        "})\n",
        "\n",
        "# Tekshirish kerak bo'lgan davlatlar\n",
        "countries_to_check = [\"Uzbekistan\", \"Hong-Kong\", \"Antartica\"]\n",
        "\n",
        "# DataFrame ichida ushbu davlatlar bor yoki yo'qligini tekshirish\n",
        "existing_countries = df[df['davlat'].isin(countries_to_check)]\n",
        "\n",
        "# Natijani chiqarish\n",
        "if not existing_countries.empty:\n",
        "    print(\"Quyidagi davlatlar DF ichida mavjud:\")\n",
        "    print(existing_countries)\n",
        "else:\n",
        "    print(\"Ko'rsatilgan davlatlar DF ichida yo'q!\")\n"
      ],
      "id": "dHOCUSlx_r1w",
      "execution_count": 7,
      "outputs": [
        {
          "output_type": "stream",
          "name": "stdout",
          "text": [
            "Quyidagi davlatlar DF ichida mavjud:\n",
            "       davlat  zichlik_km  zichlik_mi     aholi   maydoni\n",
            "3  Uzbekistan          79         205  34500000    448978\n",
            "5   Hong-Kong        6783       17567   7500000      1106\n",
            "6   Antartica           0           0      1000  14000000\n"
          ]
        }
      ]
    },
    {
      "cell_type": "markdown",
      "metadata": {
        "id": "3AkPYoQbGavc"
      },
      "source": [
        "### 5-VAZIFA.\n",
        "#### 5.1 DFning `davlat` nomli ustunini uning indeksi qilib belgilang.\n",
        "#### 5.2 `davlat` ustunini tashlab yuboring.\n",
        "#### 5.3 DFni davlat nomi bo'yicha tartiblang"
      ],
      "id": "3AkPYoQbGavc"
    },
    {
      "cell_type": "code",
      "metadata": {
        "id": "pqgh3X3UGthA",
        "colab": {
          "base_uri": "https://localhost:8080/"
        },
        "outputId": "3852fc40-3288-4853-d41e-d7ded52ffcb2"
      },
      "source": [
        "# JAVOBNI SHUYERGA YOZING\n",
        "import pandas as pd\n",
        "\n",
        "# Misol uchun DataFrame yaratamiz\n",
        "df = pd.DataFrame({\n",
        "    'davlat': ['USA', 'China', 'India', 'Uzbekistan', 'Russia', 'Hong-Kong', 'Antartica', 'Brazil'],\n",
        "    'zichlik_km': [36, 153, 464, 79, 9, 6783, 0, 25],\n",
        "    'zichlik_mi': [93, 396, 1202, 205, 23, 17567, 0, 65],\n",
        "    'aholi': [331002651, 1439323776, 1380004385, 34500000, 146000000, 7500000, 1000, 212559417],\n",
        "    'maydoni': [9833517, 9596961, 3287263, 448978, 17098242, 1106, 14000000, 8515767]\n",
        "})\n",
        "\n",
        "# 5.1 DFning `davlat` ustunini indeks sifatida belgilash\n",
        "df.set_index('davlat', inplace=True)\n",
        "\n",
        "# 5.2 `davlat` ustuni allaqachon indeks bo‘lgani uchun uni tashlab yuborishga hojat yo‘q\n",
        "\n",
        "# 5.3 DFni davlat nomi bo‘yicha tartiblash\n",
        "df_sorted = df.sort_index()\n",
        "\n",
        "# Natijani chiqarish\n",
        "print(df_sorted)\n"
      ],
      "id": "pqgh3X3UGthA",
      "execution_count": 8,
      "outputs": [
        {
          "output_type": "stream",
          "name": "stdout",
          "text": [
            "            zichlik_km  zichlik_mi       aholi   maydoni\n",
            "davlat                                                  \n",
            "Antartica            0           0        1000  14000000\n",
            "Brazil              25          65   212559417   8515767\n",
            "China              153         396  1439323776   9596961\n",
            "Hong-Kong         6783       17567     7500000      1106\n",
            "India              464        1202  1380004385   3287263\n",
            "Russia               9          23   146000000  17098242\n",
            "USA                 36          93   331002651   9833517\n",
            "Uzbekistan          79         205    34500000    448978\n"
          ]
        }
      ]
    },
    {
      "cell_type": "code",
      "metadata": {
        "cellView": "form",
        "id": "PVYvoGlOGvAS"
      },
      "source": [
        "#@title Kutilayotgan natija\n"
      ],
      "id": "PVYvoGlOGvAS",
      "execution_count": 9,
      "outputs": []
    },
    {
      "cell_type": "markdown",
      "metadata": {
        "id": "WQgxUhHVI-sT"
      },
      "source": [
        "### 6-VAZIFA. DF dan `Uzbekistan`, `Malaysia`, `South Korea`, `France` davlatlari `aholi` va `maydoni` ustunlari bilan alohida DF ko'rinishida ajratib oling."
      ],
      "id": "WQgxUhHVI-sT"
    },
    {
      "cell_type": "code",
      "metadata": {
        "id": "CA_UMXWSJf8T",
        "colab": {
          "base_uri": "https://localhost:8080/"
        },
        "outputId": "39d315d6-671b-4dac-e15c-80c0612d18ec"
      },
      "source": [
        "# JAVOBNI SHUYERGA YOZING\n",
        "import pandas as pd\n",
        "\n",
        "# Misol uchun DataFrame yaratamiz\n",
        "df = pd.DataFrame({\n",
        "    'davlat': ['USA', 'China', 'India', 'Uzbekistan', 'Russia', 'Malaysia', 'South Korea', 'France', 'Brazil'],\n",
        "    'zichlik_km': [36, 153, 464, 79, 9, 98, 527, 122, 25],\n",
        "    'zichlik_mi': [93, 396, 1202, 205, 23, 254, 1365, 316, 65],\n",
        "    'aholi': [331002651, 1439323776, 1380004385, 34500000, 146000000, 32600000, 51780000, 67413000, 212559417],\n",
        "    'maydoni': [9833517, 9596961, 3287263, 448978, 17098242, 330803, 100210, 551695, 8515767]\n",
        "})\n",
        "\n",
        "# Tanlangan davlatlar\n",
        "selected_countries = [\"Uzbekistan\", \"Malaysia\", \"South Korea\", \"France\"]\n",
        "\n",
        "# Faqat kerakli davlatlar va ustunlarni ajratib olish\n",
        "df_selected = df[df['davlat'].isin(selected_countries)][['davlat', 'aholi', 'maydoni']]\n",
        "\n",
        "# Natijani chiqarish\n",
        "print(df_selected)\n"
      ],
      "id": "CA_UMXWSJf8T",
      "execution_count": 10,
      "outputs": [
        {
          "output_type": "stream",
          "name": "stdout",
          "text": [
            "        davlat     aholi  maydoni\n",
            "3   Uzbekistan  34500000   448978\n",
            "5     Malaysia  32600000   330803\n",
            "6  South Korea  51780000   100210\n",
            "7       France  67413000   551695\n"
          ]
        }
      ]
    },
    {
      "cell_type": "code",
      "metadata": {
        "cellView": "form",
        "id": "qOUaHp9BKCRm"
      },
      "source": [
        "#@title O'xshash natija (boshqa davlatlar uchun)"
      ],
      "id": "qOUaHp9BKCRm",
      "execution_count": 11,
      "outputs": []
    },
    {
      "cell_type": "markdown",
      "metadata": {
        "id": "MD9cG-oGMUXl"
      },
      "source": [
        "### 7-VAZIFA. Asl DFning `aholi` ustuni qiymatlarini 1000 ga ko'paytiring."
      ],
      "id": "MD9cG-oGMUXl"
    },
    {
      "cell_type": "code",
      "metadata": {
        "id": "AWNqbnGgKZtH",
        "colab": {
          "base_uri": "https://localhost:8080/"
        },
        "outputId": "d357fb39-cc63-47dc-a88b-efe8f820deaa"
      },
      "source": [
        "# JAVOBNI SHUYERGA YOZING\n",
        "# Aholi ustunining barcha qiymatlarini 1000 ga ko'paytirish\n",
        "df['aholi'] = df['aholi'] * 1000\n",
        "\n",
        "# Natijani chiqarish\n",
        "print(df.head())  # DF ning boshidan 5 ta qatorni chiqarish\n"
      ],
      "id": "AWNqbnGgKZtH",
      "execution_count": 12,
      "outputs": [
        {
          "output_type": "stream",
          "name": "stdout",
          "text": [
            "       davlat  zichlik_km  zichlik_mi          aholi   maydoni\n",
            "0         USA          36          93   331002651000   9833517\n",
            "1       China         153         396  1439323776000   9596961\n",
            "2       India         464        1202  1380004385000   3287263\n",
            "3  Uzbekistan          79         205    34500000000    448978\n",
            "4      Russia           9          23   146000000000  17098242\n"
          ]
        }
      ]
    },
    {
      "cell_type": "code",
      "metadata": {
        "cellView": "form",
        "id": "7NtDk90HNFOE"
      },
      "source": [
        "#@title Kutilgan natija\n"
      ],
      "id": "7NtDk90HNFOE",
      "execution_count": 13,
      "outputs": []
    },
    {
      "cell_type": "markdown",
      "metadata": {
        "id": "Ss1Zy9g-PE9T"
      },
      "source": [
        "DF ni `aholi` ustuni bo'yicha kamayish tartibida tahlang va aholisi eng kam 10 ta davlatni chiqaring."
      ],
      "id": "Ss1Zy9g-PE9T"
    },
    {
      "cell_type": "code",
      "metadata": {
        "id": "PCkG4gJJPFsp",
        "colab": {
          "base_uri": "https://localhost:8080/"
        },
        "outputId": "846712d4-1e40-4003-ccbb-d9c589c83a51"
      },
      "source": [
        "# JAVOBNI SHUYERGA YOZING\n",
        "# Aholi ustuni bo'yicha kamayish tartibida saralash\n",
        "df_sorted = df.sort_values(by='aholi', ascending=True)\n",
        "\n",
        "# Eng kam aholiga ega 10 ta davlatni chiqarish\n",
        "df_least_10 = df_sorted.head(10)\n",
        "\n",
        "# Natijani chiqarish\n",
        "print(df_least_10)\n"
      ],
      "id": "PCkG4gJJPFsp",
      "execution_count": 14,
      "outputs": [
        {
          "output_type": "stream",
          "name": "stdout",
          "text": [
            "        davlat  zichlik_km  zichlik_mi          aholi   maydoni\n",
            "5     Malaysia          98         254    32600000000    330803\n",
            "3   Uzbekistan          79         205    34500000000    448978\n",
            "6  South Korea         527        1365    51780000000    100210\n",
            "7       France         122         316    67413000000    551695\n",
            "4       Russia           9          23   146000000000  17098242\n",
            "8       Brazil          25          65   212559417000   8515767\n",
            "0          USA          36          93   331002651000   9833517\n",
            "2        India         464        1202  1380004385000   3287263\n",
            "1        China         153         396  1439323776000   9596961\n"
          ]
        }
      ]
    },
    {
      "cell_type": "markdown",
      "metadata": {
        "id": "Py6rMpkISr0E"
      },
      "source": [
        "### 8-VAZIFA. DFni `maydoni` bo'yicha reytinglang (rank) va reytinglarni yangi `rank` ustuniga yozing."
      ],
      "id": "Py6rMpkISr0E"
    },
    {
      "cell_type": "code",
      "metadata": {
        "id": "05Ku1LKIQh2c",
        "colab": {
          "base_uri": "https://localhost:8080/"
        },
        "outputId": "14b94ad1-d817-4c0d-e43b-bd8a2ce50015"
      },
      "source": [
        "# JAVOBNI SHUYERGA YOZING\n",
        "# Maydoni bo‘yicha reyting yaratish (rank)\n",
        "df['rank'] = df['maydoni'].rank(method='min', ascending=False)\n",
        "\n",
        "# Natijani chiqarish (DF ning birinchi 10 qatori)\n",
        "print(df.head(10))\n"
      ],
      "id": "05Ku1LKIQh2c",
      "execution_count": 15,
      "outputs": [
        {
          "output_type": "stream",
          "name": "stdout",
          "text": [
            "        davlat  zichlik_km  zichlik_mi          aholi   maydoni  rank\n",
            "0          USA          36          93   331002651000   9833517   2.0\n",
            "1        China         153         396  1439323776000   9596961   3.0\n",
            "2        India         464        1202  1380004385000   3287263   5.0\n",
            "3   Uzbekistan          79         205    34500000000    448978   7.0\n",
            "4       Russia           9          23   146000000000  17098242   1.0\n",
            "5     Malaysia          98         254    32600000000    330803   8.0\n",
            "6  South Korea         527        1365    51780000000    100210   9.0\n",
            "7       France         122         316    67413000000    551695   6.0\n",
            "8       Brazil          25          65   212559417000   8515767   4.0\n"
          ]
        }
      ]
    },
    {
      "cell_type": "code",
      "metadata": {
        "cellView": "form",
        "id": "hdwtw14-S7SF"
      },
      "source": [
        "#@title Kutilgan natija\n"
      ],
      "id": "hdwtw14-S7SF",
      "execution_count": 16,
      "outputs": []
    },
    {
      "cell_type": "markdown",
      "metadata": {
        "id": "DnKJZeduURMw"
      },
      "source": [
        "#### `Uzbekistan`, `United Kingdom`, `Indonesia` davlatlari alohida df ko'rinishida chiqaring"
      ],
      "id": "DnKJZeduURMw"
    },
    {
      "cell_type": "code",
      "metadata": {
        "id": "xWT62dRzTQNq",
        "colab": {
          "base_uri": "https://localhost:8080/"
        },
        "outputId": "0c14ca61-6dd1-439a-bd08-a72b56373106"
      },
      "source": [
        "# JAVOBNI SHUYERGA YOZING\n",
        "# Tanlangan davlatlar ro‘yxati\n",
        "selected_countries = [\"Uzbekistan\", \"United Kingdom\", \"Indonesia\"]\n",
        "\n",
        "# Tanlangan davlatlarni ajratib olish\n",
        "df_selected = df[df['davlat'].isin(selected_countries)]\n",
        "\n",
        "# Natijani chiqarish\n",
        "print(df_selected)\n"
      ],
      "id": "xWT62dRzTQNq",
      "execution_count": 17,
      "outputs": [
        {
          "output_type": "stream",
          "name": "stdout",
          "text": [
            "       davlat  zichlik_km  zichlik_mi        aholi  maydoni  rank\n",
            "3  Uzbekistan          79         205  34500000000   448978   7.0\n"
          ]
        }
      ]
    },
    {
      "cell_type": "code",
      "metadata": {
        "cellView": "form",
        "id": "bh7R6A14UeKJ"
      },
      "source": [
        "#@title O'xshash natija (boshqa davlatlar uchun)\n"
      ],
      "id": "bh7R6A14UeKJ",
      "execution_count": 18,
      "outputs": []
    },
    {
      "cell_type": "markdown",
      "metadata": {
        "id": "Gb_fA7pkW7qo"
      },
      "source": [
        "### 9-VAZIFA. DFni `davlat` nomi bo'yicha tartiblang."
      ],
      "id": "Gb_fA7pkW7qo"
    },
    {
      "cell_type": "code",
      "metadata": {
        "id": "7jGiBGyKXZaZ",
        "colab": {
          "base_uri": "https://localhost:8080/"
        },
        "outputId": "8027590f-79fe-4ff7-d55b-d2df18f017b4"
      },
      "source": [
        "# JAVOBNI SHUYERGA YOZING\n",
        "# DF ni davlat nomi bo‘yicha tartiblash (alfavit tartibida)\n",
        "df_sorted = df.sort_values(by='davlat', ascending=True)\n",
        "\n",
        "# Natijani chiqarish (birinchi 10 qator)\n",
        "print(df_sorted.head(10))\n"
      ],
      "id": "7jGiBGyKXZaZ",
      "execution_count": 19,
      "outputs": [
        {
          "output_type": "stream",
          "name": "stdout",
          "text": [
            "        davlat  zichlik_km  zichlik_mi          aholi   maydoni  rank\n",
            "8       Brazil          25          65   212559417000   8515767   4.0\n",
            "1        China         153         396  1439323776000   9596961   3.0\n",
            "7       France         122         316    67413000000    551695   6.0\n",
            "2        India         464        1202  1380004385000   3287263   5.0\n",
            "5     Malaysia          98         254    32600000000    330803   8.0\n",
            "4       Russia           9          23   146000000000  17098242   1.0\n",
            "6  South Korea         527        1365    51780000000    100210   9.0\n",
            "0          USA          36          93   331002651000   9833517   2.0\n",
            "3   Uzbekistan          79         205    34500000000    448978   7.0\n"
          ]
        }
      ]
    },
    {
      "cell_type": "code",
      "metadata": {
        "cellView": "form",
        "id": "TLI1-RpEXbIg"
      },
      "source": [
        "#@title Kutilgan natija"
      ],
      "id": "TLI1-RpEXbIg",
      "execution_count": 20,
      "outputs": []
    },
    {
      "cell_type": "markdown",
      "metadata": {
        "id": "mTvs6OF9XzN7"
      },
      "source": [
        "#### DFdan 10,50,100,200-o'rinda turgan davlatlarni alohida DF ko'rinishida chiqaring"
      ],
      "id": "mTvs6OF9XzN7"
    },
    {
      "cell_type": "code",
      "metadata": {
        "id": "e_58EgMWXy85",
        "colab": {
          "base_uri": "https://localhost:8080/"
        },
        "outputId": "5acf90c4-2345-4cb1-ca64-ca4fe2711379"
      },
      "source": [
        "# JAVOBNI SHUYERGA YOZING\n",
        "# DF uzunligini tekshiramiz\n",
        "if len(df) > 200:\n",
        "    # 10, 50, 100, 200-qatorlarni ajratib olish\n",
        "    df_selected = df.iloc[[10, 50, 100, 200]]\n",
        "    print(df_selected)\n",
        "else:\n",
        "    print(\"Xatolik: DF ichida 200 ta qator yo‘q, indekslarni tekshiring.\")\n"
      ],
      "id": "e_58EgMWXy85",
      "execution_count": 26,
      "outputs": [
        {
          "output_type": "stream",
          "name": "stdout",
          "text": [
            "Xatolik: DF ichida 200 ta qator yo‘q, indekslarni tekshiring.\n"
          ]
        }
      ]
    },
    {
      "cell_type": "code",
      "metadata": {
        "cellView": "form",
        "id": "gITWVh2wXvG7"
      },
      "source": [
        "#@title O'xshash natija (boshqa qatorlar uchun)\n"
      ],
      "id": "gITWVh2wXvG7",
      "execution_count": 21,
      "outputs": []
    },
    {
      "cell_type": "markdown",
      "metadata": {
        "id": "GwMtmbecZ0CF"
      },
      "source": [
        "### 10-VAZIFA. Quyidagi davlatlarning `aholi` sonini oddiy son ko'rinishida chiqaring:\n",
        "- `Malaysia`\n",
        "- `Nigeria`\n",
        "- `Nepal`\n",
        "- `Italy`"
      ],
      "id": "GwMtmbecZ0CF"
    },
    {
      "cell_type": "code",
      "metadata": {
        "id": "gTnfsoLIYkkk",
        "colab": {
          "base_uri": "https://localhost:8080/"
        },
        "outputId": "5241508b-d872-4361-dcfc-a7dc8069dc7a"
      },
      "source": [
        "# JAVOBNI SHUYERGA YOZING\n",
        "# Tanlangan davlatlar\n",
        "selected_countries = [\"Malaysia\", \"Nigeria\", \"Nepal\", \"Italy\"]\n",
        "\n",
        "# Davlatlar va aholi sonlarini chiqarish\n",
        "for country in selected_countries:\n",
        "    population = df.loc[df['davlat'] == country, 'aholi'].values\n",
        "    if len(population) > 0:\n",
        "        print(f\"{country}: {int(population[0])}\")  # Oddiy son ko'rinishida chiqarish\n",
        "    else:\n",
        "        print(f\"{country} ma'lumotlar bazasida topilmadi.\")\n"
      ],
      "id": "gTnfsoLIYkkk",
      "execution_count": 27,
      "outputs": [
        {
          "output_type": "stream",
          "name": "stdout",
          "text": [
            "Malaysia: 32600000000\n",
            "Nigeria ma'lumotlar bazasida topilmadi.\n",
            "Nepal ma'lumotlar bazasida topilmadi.\n",
            "Italy ma'lumotlar bazasida topilmadi.\n"
          ]
        }
      ]
    },
    {
      "cell_type": "code",
      "metadata": {
        "cellView": "form",
        "id": "iAxEuYYbae5s"
      },
      "source": [
        "#@title o'xshash natija (`Uzbekistan` uchun)\n"
      ],
      "id": "iAxEuYYbae5s",
      "execution_count": 28,
      "outputs": []
    }
  ]
}