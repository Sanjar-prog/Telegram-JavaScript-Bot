{
  "cells": [
    {
      "cell_type": "markdown",
      "metadata": {
        "id": "view-in-github",
        "colab_type": "text"
      },
      "source": [
        "<a href=\"https://colab.research.google.com/github/Sanjar-prog/Telegram-JavaScript-Bot/blob/main/2_1_3_Arr_Or_Pr_1_Logical_set.ipynb\" target=\"_parent\"><img src=\"https://colab.research.google.com/assets/colab-badge.svg\" alt=\"Open In Colab\"/></a>"
      ]
    },
    {
      "cell_type": "markdown",
      "metadata": {
        "id": "PNNpFfSSZaUw"
      },
      "source": [
        "![Imgur](https://i.imgur.com/5pXzCIu.png)"
      ]
    },
    {
      "cell_type": "markdown",
      "metadata": {
        "id": "zTwn4OxpZcIl"
      },
      "source": [
        "# Data Science va Sun'iy Intellekt Praktikum\n",
        "\n",
        "## Ma'lumotlar tahlili.\n",
        "## 2.1. NumPy kutubxonasi bilan ishlash"
      ]
    },
    {
      "cell_type": "markdown",
      "metadata": {
        "id": "DYp3_KroZfSq"
      },
      "source": [
        "### NumPy kutubxonasini chaqirib olish"
      ]
    },
    {
      "cell_type": "code",
      "execution_count": null,
      "metadata": {
        "id": "6f9tO07zYEi1"
      },
      "outputs": [],
      "source": [
        "import numpy as np"
      ]
    },
    {
      "cell_type": "markdown",
      "metadata": {
        "id": "0TzeAc9XZjes"
      },
      "source": [
        "### 2.1.3. Massivga yo'naltirilgan dasturlash"
      ]
    },
    {
      "cell_type": "markdown",
      "metadata": {
        "id": "9smD1SX6Zri5"
      },
      "source": [
        "### Mantiqiy shart operatorlarni massiv operator sifatida qo'llash"
      ]
    },
    {
      "cell_type": "markdown",
      "metadata": {
        "id": "l_U7QSF7aIPL"
      },
      "source": [
        "### Shart operatori sifatida `where` dan foydalanish"
      ]
    },
    {
      "cell_type": "markdown",
      "metadata": {
        "id": "a6bYV_yocQrs"
      },
      "source": [
        "### Tassavur qiling bizda ikkita ma'lumotlar (massivlar) mavjud bular: `xarr` va `yarr`. Agarda shart `True`ni qanoatlantirsa `xarr` elementini qabul qilgan aksincha esa `yarr` elementini qabul qilgan yangi massiv hosil qilinsin."
      ]
    },
    {
      "cell_type": "code",
      "execution_count": null,
      "metadata": {
        "id": "uet_VgeQZhKM"
      },
      "outputs": [],
      "source": [
        "# Massivlar\n",
        "xarr = np.array([1.1, 1.2, 1.3, 1.4, 1.5]) # xarr\n",
        "yarr = np.array([2.1, 2.2, 2.3, 2.4, 2.5]) # yarr"
      ]
    },
    {
      "cell_type": "code",
      "execution_count": null,
      "metadata": {
        "id": "braOAXM0dmIR"
      },
      "outputs": [],
      "source": [
        "# Shart\n",
        "cond = np.array([True, False, True, True, False])"
      ]
    },
    {
      "cell_type": "code",
      "execution_count": null,
      "metadata": {
        "colab": {
          "base_uri": "https://localhost:8080/"
        },
        "id": "nNGabDPghWJR",
        "outputId": "7f0bf1a3-1c7f-4019-f4c0-aa193d4fd54f"
      },
      "outputs": [
        {
          "output_type": "execute_result",
          "data": {
            "text/plain": [
              "array([1.1, 2.2, 1.3, 1.4, 2.5])"
            ]
          },
          "metadata": {},
          "execution_count": 4
        }
      ],
      "source": [
        "# where\n",
        "result = np.where(cond, xarr, yarr) # cond==True : xarr elementi, cond==False : yarr elementi\n",
        "result"
      ]
    },
    {
      "cell_type": "code",
      "execution_count": null,
      "metadata": {
        "colab": {
          "base_uri": "https://localhost:8080/"
        },
        "id": "N0V1aPoCiowg",
        "outputId": "e9031764-7320-4206-ab98-e92bad3dc841"
      },
      "outputs": [
        {
          "output_type": "execute_result",
          "data": {
            "text/plain": [
              "array([[-1.08545161, -1.81387474, -0.82558713, -0.47890241],\n",
              "       [-1.1347427 ,  0.33350455,  0.74345456,  0.19039463],\n",
              "       [-0.15028472, -0.53652321,  0.15661773, -0.39094636],\n",
              "       [ 0.2329572 , -0.11763692,  1.64236772, -0.26843265]])"
            ]
          },
          "metadata": {},
          "execution_count": 5
        }
      ],
      "source": [
        "arr = np.random.randn(4, 4)  # (4, 4) taxminiy massiv\n",
        "arr"
      ]
    },
    {
      "cell_type": "code",
      "execution_count": null,
      "metadata": {
        "colab": {
          "base_uri": "https://localhost:8080/"
        },
        "id": "5Ov_uFGskFpD",
        "outputId": "9e4abb31-74b0-4b33-ea3d-1f5811563ca4"
      },
      "outputs": [
        {
          "output_type": "execute_result",
          "data": {
            "text/plain": [
              "array([[-2, -2, -2, -2],\n",
              "       [-2,  2,  2,  2],\n",
              "       [-2, -2,  2, -2],\n",
              "       [ 2, -2,  2, -2]])"
            ]
          },
          "metadata": {},
          "execution_count": 6
        }
      ],
      "source": [
        "# where\n",
        "results = np.where(arr<0, -2, 2) # arr ning manfiy elementlarini -2 ga musbat elementlarin esa 2 ga almashitirish\n",
        "results"
      ]
    }
  ],
  "metadata": {
    "colab": {
      "name": "2.1.3.Arr_Or_Pr#1_Logical_set.ipynb",
      "provenance": [],
      "include_colab_link": true
    },
    "language_info": {
      "name": "python"
    },
    "kernelspec": {
      "name": "python3",
      "display_name": "Python 3"
    }
  },
  "nbformat": 4,
  "nbformat_minor": 0
}